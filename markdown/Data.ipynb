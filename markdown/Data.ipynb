{
 "cells": [
  {
   "cell_type": "markdown",
   "metadata": {},
   "source": [
    "# PipeTorch Data module\n",
    "\n",
    "The most common way to prepare data is to use Pandas DataFrame, however, data preparation and visualization can be very repetitive. Therefore, we designed an extension to a Pandas DataFrame (called a DFrame), that adds a quick way to do the most common data preprocessing, preparation and visualization.\n",
    "\n",
    "The additional functions are divided in:\n",
    "- [Data loading](#Data-Loading)\n",
    "- [Out-of-sample validation](#Out-of-sample-validation): [split()](#split()) and [folds()](#folds())\n",
    "- [Preprocessing](#Data-preprocessing): [scale()](#Scale()), [balance()](#Balance()), [polynomials()](#polynomials()), [category()](#catorgy()], [dummies()](#dummies())\n",
    "- [Visualization](#Visualization): e.g. `df.train.scatter`\n",
    "- [Data preparation](#Data-preparation): through the `.train_X`, ... , `.valid_y` properties, and `to_datasets()`, `to_dataloader()` and `to_databunch()` methods.\n",
    "\n",
    "Two important things about the way the PipeTorch data pipeline works:\n",
    "- all operations are `lazily executed`; e.g. scaling is not done until the data preparation is called. A dataframe `df` therefore still shows the original data while `df.train_X` shows the result after splitting and scaling.\n",
    "- therefore, a call to any data preparation should come last, the order of the other functions is irrevelant.\n",
    "- all PipeTorch operations are `non-destructive`, i.e. calling a function on a DataFrame `df` will not alter `df` but return a new version that is configured accordingly. There is one exception, when any data preparation function is called, the exact data split is stored to allow subsequent actions to consistently work with the same data.\n",
    "\n",
    "We will provide some examples below, for more explanations and advanced options you can check the docstring for these functions (e.g. ?df.split)."
   ]
  },
  {
   "cell_type": "code",
   "execution_count": 1,
   "metadata": {},
   "outputs": [
    {
     "name": "stdout",
     "output_type": "stream",
     "text": [
      "using gpu 3\n"
     ]
    }
   ],
   "source": [
    "from pipetorch.data import read_from_kaggle, read_csv, create_kaggle_authentication\n",
    "import numpy as np"
   ]
  },
  {
   "cell_type": "markdown",
   "metadata": {},
   "source": [
    "# Data Loading\n",
    "\n",
    "The data pipeline often starts by loading a dataset. The most basic way is to use [read_csv](#read_csv) to . Kaggle is a great resource for these, therefore, there is also a [read_from_kaggle](#read_from_kaggle) function to download a dataset directly from Kaggle.\n",
    "\n",
    "### read_csv()\n",
    "\n",
    "Uses pd.read_csv to read a csv from file or url. The difference with Pandas is that a DFrame is returned and it allows downloaded files to be automatically stored with `save=True` in `path / filename`, so that when read_csv is called with the same parameters the stored file is used. The `kwargs` are passed to pd.read_csv. When a (multichar) delimiter is used, this is also used to save the file so that the original delimiter is kept.\n",
    "\n",
    "*Args:*\n",
    "```    \n",
    "url: str\n",
    "    the url to download or a full path pointing to a .csv file\n",
    "filename: str (None)\n",
    "    the filename to store the downloaded file under. If None, the filename is extracted from the url.\n",
    "path: str (None)\n",
    "    the path in which the file is stored. If None, it will first check the ~/.pipetorch (for sharing\n",
    "    dataset between users) and then ~/.pipetorchuser (for user specific caching of datasets).\n",
    "save: bool (True)\n",
    "    whether to save a downloaded .csv\n",
    "**kwargs:\n",
    "    additional parameters passed to pd.read_csv. For example, when a multichar delimiter is used\n",
    "    you will have to set engine='python'.\n",
    "```\n",
    "\n",
    "*Returns*: DFrame"
   ]
  },
  {
   "cell_type": "code",
   "execution_count": 2,
   "metadata": {},
   "outputs": [
    {
     "name": "stdout",
     "output_type": "stream",
     "text": [
      "Downloading https://osf.io/8fwaj/download\n"
     ]
    },
    {
     "data": {
      "text/html": [
       "<div>\n",
       "<style scoped>\n",
       "    .dataframe tbody tr th:only-of-type {\n",
       "        vertical-align: middle;\n",
       "    }\n",
       "\n",
       "    .dataframe tbody tr th {\n",
       "        vertical-align: top;\n",
       "    }\n",
       "\n",
       "    .dataframe thead th {\n",
       "        text-align: right;\n",
       "    }\n",
       "</style>\n",
       "<table border=\"1\" class=\"dataframe\">\n",
       "  <thead>\n",
       "    <tr style=\"text-align: right;\">\n",
       "      <th></th>\n",
       "      <th>quality</th>\n",
       "      <th>pH</th>\n",
       "      <th>volatile acidity</th>\n",
       "      <th>alcohol</th>\n",
       "    </tr>\n",
       "  </thead>\n",
       "  <tbody>\n",
       "    <tr>\n",
       "      <th>0</th>\n",
       "      <td>5</td>\n",
       "      <td>3.51</td>\n",
       "      <td>0.700</td>\n",
       "      <td>9.4</td>\n",
       "    </tr>\n",
       "    <tr>\n",
       "      <th>1</th>\n",
       "      <td>5</td>\n",
       "      <td>3.20</td>\n",
       "      <td>0.880</td>\n",
       "      <td>9.8</td>\n",
       "    </tr>\n",
       "    <tr>\n",
       "      <th>2</th>\n",
       "      <td>5</td>\n",
       "      <td>3.26</td>\n",
       "      <td>0.760</td>\n",
       "      <td>9.8</td>\n",
       "    </tr>\n",
       "    <tr>\n",
       "      <th>3</th>\n",
       "      <td>6</td>\n",
       "      <td>3.16</td>\n",
       "      <td>0.280</td>\n",
       "      <td>9.8</td>\n",
       "    </tr>\n",
       "    <tr>\n",
       "      <th>4</th>\n",
       "      <td>5</td>\n",
       "      <td>3.51</td>\n",
       "      <td>0.700</td>\n",
       "      <td>9.4</td>\n",
       "    </tr>\n",
       "    <tr>\n",
       "      <th>...</th>\n",
       "      <td>...</td>\n",
       "      <td>...</td>\n",
       "      <td>...</td>\n",
       "      <td>...</td>\n",
       "    </tr>\n",
       "    <tr>\n",
       "      <th>1594</th>\n",
       "      <td>5</td>\n",
       "      <td>3.45</td>\n",
       "      <td>0.600</td>\n",
       "      <td>10.5</td>\n",
       "    </tr>\n",
       "    <tr>\n",
       "      <th>1595</th>\n",
       "      <td>6</td>\n",
       "      <td>3.52</td>\n",
       "      <td>0.550</td>\n",
       "      <td>11.2</td>\n",
       "    </tr>\n",
       "    <tr>\n",
       "      <th>1596</th>\n",
       "      <td>6</td>\n",
       "      <td>3.42</td>\n",
       "      <td>0.510</td>\n",
       "      <td>11.0</td>\n",
       "    </tr>\n",
       "    <tr>\n",
       "      <th>1597</th>\n",
       "      <td>5</td>\n",
       "      <td>3.57</td>\n",
       "      <td>0.645</td>\n",
       "      <td>10.2</td>\n",
       "    </tr>\n",
       "    <tr>\n",
       "      <th>1598</th>\n",
       "      <td>6</td>\n",
       "      <td>3.39</td>\n",
       "      <td>0.310</td>\n",
       "      <td>11.0</td>\n",
       "    </tr>\n",
       "  </tbody>\n",
       "</table>\n",
       "<p>1599 rows × 4 columns</p>\n",
       "</div>"
      ],
      "text/plain": [
       "      quality    pH  volatile acidity  alcohol\n",
       "0           5  3.51             0.700      9.4\n",
       "1           5  3.20             0.880      9.8\n",
       "2           5  3.26             0.760      9.8\n",
       "3           6  3.16             0.280      9.8\n",
       "4           5  3.51             0.700      9.4\n",
       "...       ...   ...               ...      ...\n",
       "1594        5  3.45             0.600     10.5\n",
       "1595        6  3.52             0.550     11.2\n",
       "1596        6  3.42             0.510     11.0\n",
       "1597        5  3.57             0.645     10.2\n",
       "1598        6  3.39             0.310     11.0\n",
       "\n",
       "[1599 rows x 4 columns]"
      ]
     },
     "execution_count": 2,
     "metadata": {},
     "output_type": "execute_result"
    }
   ],
   "source": [
    "wine = read_csv('https://osf.io/8fwaj/download', save=False)\n",
    "wine"
   ]
  },
  {
   "cell_type": "markdown",
   "metadata": {},
   "source": [
    "### read_from_kaggle()\n",
    "\n",
    "Reads a DFrame from a Kaggle dataset. The downloaded dataset is automatically stored so that the next time it is read from file rather than downloaded. See `read_csv`. The dataset is stored by default in a folder with the dataset name in `~/.pipetorchuser`.\n",
    "\n",
    "If the dataset is not cached, this functions requires a valid .kaggle/kaggle.json file, that you can create manually or with the function `create_kaggle_authentication()`.\n",
    "\n",
    "Note: there is a difference between a Kaggle dataset and a Kaggle competition. For the latter, you have to use `read_from_kaggle_competition`.\n",
    "    \n",
    "```\n",
    "Example:\n",
    "    read_from_kaggle('uciml/autompg-dataset')\n",
    "        to read/download `https://www.kaggle.com/datasets/uciml/autompg-dataset`\n",
    "    read_from_kaggle('robmarkcole/occupancy-detection-data-set-uci', 'datatraining.txt', 'datatest.txt')\n",
    "        to combine a train and test set in a single DFrame\n",
    "```\n",
    "    \n",
    "```\n",
    "Args:\n",
    "    dataset: str\n",
    "        the username/dataset part of the kaggle url, e.g. uciml/autompg-dataset     \n",
    "    train: str (None)\n",
    "        the filename that is used as the train set, e.g. 'train.csv'\n",
    "    test: str (None)\n",
    "        the filename that is used as the test set, e.g. 'test.csv'\n",
    "    shared: bool (False)\n",
    "        save the dataset in ~/.pipetorch instead of ~/.pipetorchuser, allowing to share downloaded\n",
    "        files between users.\n",
    "    force: bool (False)\n",
    "        when True, the dataset is always downloaded\n",
    "    **kwargs:\n",
    "        additional parameters passed to pd.read_csv. For example, when a multichar delimiter is used\n",
    "        you will have to set engine='python'.\n",
    "\n",
    "Returns: DFrame\n",
    "```\n",
    "            \n"
   ]
  },
  {
   "cell_type": "code",
   "execution_count": 3,
   "metadata": {},
   "outputs": [],
   "source": [
    "# if you want to be able to download yourself, register (free), create and register a token.\n",
    "# create_kaggle_authentication('username', 'tokenstring')"
   ]
  },
  {
   "cell_type": "code",
   "execution_count": 4,
   "metadata": {},
   "outputs": [],
   "source": [
    "mpg = read_from_kaggle('uciml/autompg-dataset') "
   ]
  },
  {
   "cell_type": "markdown",
   "metadata": {},
   "source": [
    "### train/test sets\n",
    "\n",
    "It is also possible to combine separate train and test files through `read_from_kaggle(dataset, train, test)` or combine train/test DataFrame through `DFrame.from_train_test()`. The data is then combined in a single DataFrame, but the test data will never leak into training. Any PipeTorch function will only use the train part, thus `split()`, `scale()`, `dummies`, `category`, etc. will only apply/fit on the train part. When data preparation is called, the test data (accessible through `.test`) will be transformed exactly like the train set. This allows you to configure the data processing pipeline for the entire set."
   ]
  },
  {
   "cell_type": "markdown",
   "metadata": {},
   "source": [
    "# DataFrame\n",
    "\n",
    "The returned object is an extension of a Pandas DataFrame (called a DFrame). This means you can use Pandas for cleaning the data. One convenient function we added is `inspect()` to get an overview of the data."
   ]
  },
  {
   "cell_type": "code",
   "execution_count": 5,
   "metadata": {},
   "outputs": [
    {
     "data": {
      "text/html": [
       "<div>\n",
       "<style scoped>\n",
       "    .dataframe tbody tr th:only-of-type {\n",
       "        vertical-align: middle;\n",
       "    }\n",
       "\n",
       "    .dataframe tbody tr th {\n",
       "        vertical-align: top;\n",
       "    }\n",
       "\n",
       "    .dataframe thead th {\n",
       "        text-align: right;\n",
       "    }\n",
       "</style>\n",
       "<table border=\"1\" class=\"dataframe\">\n",
       "  <thead>\n",
       "    <tr style=\"text-align: right;\">\n",
       "      <th></th>\n",
       "      <th>mpg</th>\n",
       "      <th>displacement</th>\n",
       "      <th>horsepower</th>\n",
       "      <th>weight</th>\n",
       "      <th>acceleration</th>\n",
       "      <th>model year</th>\n",
       "      <th>origin</th>\n",
       "      <th>car name</th>\n",
       "    </tr>\n",
       "  </thead>\n",
       "  <tbody>\n",
       "    <tr>\n",
       "      <th>0</th>\n",
       "      <td>18.0</td>\n",
       "      <td>307.0</td>\n",
       "      <td>130</td>\n",
       "      <td>3504</td>\n",
       "      <td>12.0</td>\n",
       "      <td>70</td>\n",
       "      <td>1</td>\n",
       "      <td>chevrolet chevelle malibu</td>\n",
       "    </tr>\n",
       "    <tr>\n",
       "      <th>1</th>\n",
       "      <td>15.0</td>\n",
       "      <td>350.0</td>\n",
       "      <td>165</td>\n",
       "      <td>3693</td>\n",
       "      <td>11.5</td>\n",
       "      <td>70</td>\n",
       "      <td>1</td>\n",
       "      <td>buick skylark 320</td>\n",
       "    </tr>\n",
       "    <tr>\n",
       "      <th>2</th>\n",
       "      <td>18.0</td>\n",
       "      <td>318.0</td>\n",
       "      <td>150</td>\n",
       "      <td>3436</td>\n",
       "      <td>11.0</td>\n",
       "      <td>70</td>\n",
       "      <td>1</td>\n",
       "      <td>plymouth satellite</td>\n",
       "    </tr>\n",
       "    <tr>\n",
       "      <th>3</th>\n",
       "      <td>16.0</td>\n",
       "      <td>304.0</td>\n",
       "      <td>150</td>\n",
       "      <td>3433</td>\n",
       "      <td>12.0</td>\n",
       "      <td>70</td>\n",
       "      <td>1</td>\n",
       "      <td>amc rebel sst</td>\n",
       "    </tr>\n",
       "    <tr>\n",
       "      <th>4</th>\n",
       "      <td>17.0</td>\n",
       "      <td>302.0</td>\n",
       "      <td>140</td>\n",
       "      <td>3449</td>\n",
       "      <td>10.5</td>\n",
       "      <td>70</td>\n",
       "      <td>1</td>\n",
       "      <td>ford torino</td>\n",
       "    </tr>\n",
       "  </tbody>\n",
       "</table>\n",
       "</div>"
      ],
      "text/plain": [
       "    mpg  displacement horsepower  weight  acceleration  model year  origin  \\\n",
       "0  18.0         307.0        130    3504          12.0          70       1   \n",
       "1  15.0         350.0        165    3693          11.5          70       1   \n",
       "2  18.0         318.0        150    3436          11.0          70       1   \n",
       "3  16.0         304.0        150    3433          12.0          70       1   \n",
       "4  17.0         302.0        140    3449          10.5          70       1   \n",
       "\n",
       "                    car name  \n",
       "0  chevrolet chevelle malibu  \n",
       "1          buick skylark 320  \n",
       "2         plymouth satellite  \n",
       "3              amc rebel sst  \n",
       "4                ford torino  "
      ]
     },
     "execution_count": 5,
     "metadata": {},
     "output_type": "execute_result"
    }
   ],
   "source": [
    "mpg.drop(columns='cylinders').head(5)"
   ]
  },
  {
   "cell_type": "code",
   "execution_count": 6,
   "metadata": {},
   "outputs": [
    {
     "data": {
      "text/html": [
       "<div>\n",
       "<style scoped>\n",
       "    .dataframe tbody tr th:only-of-type {\n",
       "        vertical-align: middle;\n",
       "    }\n",
       "\n",
       "    .dataframe tbody tr th {\n",
       "        vertical-align: top;\n",
       "    }\n",
       "\n",
       "    .dataframe thead th {\n",
       "        text-align: right;\n",
       "    }\n",
       "</style>\n",
       "<table border=\"1\" class=\"dataframe\">\n",
       "  <thead>\n",
       "    <tr style=\"text-align: right;\">\n",
       "      <th></th>\n",
       "      <th>Missing (#)</th>\n",
       "      <th>Missing (%)</th>\n",
       "      <th>Datatype</th>\n",
       "      <th>Range</th>\n",
       "      <th>Values</th>\n",
       "    </tr>\n",
       "  </thead>\n",
       "  <tbody>\n",
       "    <tr>\n",
       "      <th>mpg</th>\n",
       "      <td>0</td>\n",
       "      <td>0.0</td>\n",
       "      <td>float64</td>\n",
       "      <td>[9.0, 46.6]</td>\n",
       "      <td>(13.0, 14.0, ...)</td>\n",
       "    </tr>\n",
       "    <tr>\n",
       "      <th>cylinders</th>\n",
       "      <td>0</td>\n",
       "      <td>0.0</td>\n",
       "      <td>int64</td>\n",
       "      <td>[3, 8]</td>\n",
       "      <td>(4, 8, ...)</td>\n",
       "    </tr>\n",
       "    <tr>\n",
       "      <th>displacement</th>\n",
       "      <td>0</td>\n",
       "      <td>0.0</td>\n",
       "      <td>float64</td>\n",
       "      <td>[68.0, 455.0]</td>\n",
       "      <td>(97.0, 98.0, ...)</td>\n",
       "    </tr>\n",
       "    <tr>\n",
       "      <th>horsepower</th>\n",
       "      <td>0</td>\n",
       "      <td>0.0</td>\n",
       "      <td>object</td>\n",
       "      <td>#94</td>\n",
       "      <td>(150, 90, ...)</td>\n",
       "    </tr>\n",
       "    <tr>\n",
       "      <th>weight</th>\n",
       "      <td>0</td>\n",
       "      <td>0.0</td>\n",
       "      <td>int64</td>\n",
       "      <td>[1613, 5140]</td>\n",
       "      <td>(1985, 2130, ...)</td>\n",
       "    </tr>\n",
       "    <tr>\n",
       "      <th>acceleration</th>\n",
       "      <td>0</td>\n",
       "      <td>0.0</td>\n",
       "      <td>float64</td>\n",
       "      <td>[8.0, 24.8]</td>\n",
       "      <td>(14.5, 15.5, ...)</td>\n",
       "    </tr>\n",
       "    <tr>\n",
       "      <th>model year</th>\n",
       "      <td>0</td>\n",
       "      <td>0.0</td>\n",
       "      <td>int64</td>\n",
       "      <td>[70, 82]</td>\n",
       "      <td>(73, 78, ...)</td>\n",
       "    </tr>\n",
       "    <tr>\n",
       "      <th>origin</th>\n",
       "      <td>0</td>\n",
       "      <td>0.0</td>\n",
       "      <td>int64</td>\n",
       "      <td>[1, 3]</td>\n",
       "      <td>(1, 3, ...)</td>\n",
       "    </tr>\n",
       "    <tr>\n",
       "      <th>car name</th>\n",
       "      <td>0</td>\n",
       "      <td>0.0</td>\n",
       "      <td>object</td>\n",
       "      <td>#305</td>\n",
       "      <td>(ford pinto, toyota corolla, ...)</td>\n",
       "    </tr>\n",
       "  </tbody>\n",
       "</table>\n",
       "</div>"
      ],
      "text/plain": [
       "              Missing (#)  Missing (%) Datatype          Range  \\\n",
       "mpg                     0          0.0  float64    [9.0, 46.6]   \n",
       "cylinders               0          0.0    int64         [3, 8]   \n",
       "displacement            0          0.0  float64  [68.0, 455.0]   \n",
       "horsepower              0          0.0   object            #94   \n",
       "weight                  0          0.0    int64   [1613, 5140]   \n",
       "acceleration            0          0.0  float64    [8.0, 24.8]   \n",
       "model year              0          0.0    int64       [70, 82]   \n",
       "origin                  0          0.0    int64         [1, 3]   \n",
       "car name                0          0.0   object           #305   \n",
       "\n",
       "                                         Values  \n",
       "mpg                           (13.0, 14.0, ...)  \n",
       "cylinders                           (4, 8, ...)  \n",
       "displacement                  (97.0, 98.0, ...)  \n",
       "horsepower                       (150, 90, ...)  \n",
       "weight                        (1985, 2130, ...)  \n",
       "acceleration                  (14.5, 15.5, ...)  \n",
       "model year                        (73, 78, ...)  \n",
       "origin                              (1, 3, ...)  \n",
       "car name      (ford pinto, toyota corolla, ...)  "
      ]
     },
     "execution_count": 6,
     "metadata": {},
     "output_type": "execute_result"
    }
   ],
   "source": [
    "mpg.inspect()"
   ]
  },
  {
   "cell_type": "markdown",
   "metadata": {},
   "source": [
    "# Out-of-sample validation\n",
    "\n",
    "For Machine Learning, you have to use out-of-sample validation and test sets. PipeTorch provides two easy functions to do that:\n",
    "\n",
    "### folds()\n",
    "\n",
    "Divide the data in folds to setup n-Fold Cross Validation in a reproducible manner. \n",
    "        \n",
    "By combining folds() with split(0 < test_size < 1) , a single testset is split before \n",
    "dividing the remainder in folds that are used for training and validation. \n",
    "When used without split, by default a single fold is used for testing.\n",
    "\n",
    "The folds assigned to the validation and test-set rotate differently, \n",
    "giving 5x4 combinations for 5-fold cross validation. You can apply exhaustive cross-validation\n",
    "over all 20 combinations by calling fold(0) through fold(19), or less exhaustive cross-validation \n",
    "by calling fold(0) through fold(4) to use every fold for validation and testing once. \n",
    "\n",
    "```\n",
    "Example:\n",
    "    df.folds(5)\n",
    "        creates 5 equally sized folds. Calls to df.fold(i) will set the train/valid/test sets\n",
    "        to one of the permutations over the folds. The sets are generated when data preparation\n",
    "        is called, e.g. df.train, df.valid or df.test.\n",
    "\n",
    "Arguments:\n",
    "    folds: int (None)\n",
    "        The number of times the data will be split in preparation for n-fold cross validation. The\n",
    "        different splits can be used through the fold(n) method.\n",
    "        SKLearn's SplitShuffle is used, therefore no guarantee is given that the splits are\n",
    "        different nor that the validation splits are disjoint. For large datasets, that should not\n",
    "        be a problem.\n",
    "    shuffle: bool (None)\n",
    "        shuffle the rows before splitting. None means True unless sequence() is called to process\n",
    "        the data as a (time) series.\n",
    "    random_state: int (None)\n",
    "        set a random_state for reproducible results\n",
    "    stratify: str or [ str ] (None)\n",
    "        apply stratified sampling. Per value for the given column, the rows are sampled. When a list\n",
    "        of columns is given, multi-label stratification is applied.\n",
    "    test: bool (None)\n",
    "        whether to use one fold as a test set. The default None is interpreted as True when\n",
    "        split is not used. Often for automated n-fold cross validation studies, the validation set\n",
    "        is used for early termination, and therefore you should use an out-of-sample\n",
    "        test set that was not used for optimizing.\n",
    "\n",
    "Returns: copy of DFrame \n",
    "    schedules the data to be split in folds.\n",
    "```"
   ]
  },
  {
   "cell_type": "code",
   "execution_count": 7,
   "metadata": {},
   "outputs": [
    {
     "name": "stdout",
     "output_type": "stream",
     "text": [
      "    quality    pH  volatile acidity  alcohol\n",
      "9         5  3.35              0.50     10.5\n",
      "11        5  3.35              0.50     10.5\n",
      "19        6  3.04              0.32      9.2\n",
      "24        6  3.43              0.40      9.7\n",
      "28        5  3.47              0.71      9.4\n",
      "   quality    pH  volatile acidity  alcohol\n",
      "1        5  3.20              0.88      9.8\n",
      "2        5  3.26              0.76      9.8\n",
      "3        6  3.16              0.28      9.8\n",
      "4        5  3.51              0.70      9.4\n",
      "8        7  3.36              0.58      9.5\n"
     ]
    }
   ],
   "source": [
    "wine = wine.folds(5)\n",
    "print(wine.fold(0).valid.head())\n",
    "print(wine.fold(1).valid.head())  # fold(0) - fold(4) all have unique validation examples"
   ]
  },
  {
   "cell_type": "markdown",
   "metadata": {},
   "source": [
    "### split() \n",
    "\n",
    "Split the data in a train/valid/(test) set. If the DFrame was loaded with a separate test part, then\n",
    "split only applies to the train part.\n",
    "\n",
    "```\n",
    "Example:\n",
    "    df.split(0.2, stratify='city')\n",
    "        splits the train data in a 80%/20% train/valid part. Stratify attempts to populate both parts \n",
    "        with the same proportion over each value of the column city\n",
    "    df.split(0.2, 0.2)\n",
    "        splits the train data in a 60%/20%/20% train/valid/test split\n",
    "\n",
    "Arguments:\n",
    "    valid_size: float (None)\n",
    "        the fraction of the dataset that is used for the validation set.\n",
    "    test_size: float (None)\n",
    "        the fraction of the dataset that is used for the test set. When combined with folds\n",
    "        if 1 > test_size > 0, the test set is split before the remainder is divided in folds \n",
    "        to apply n-fold cross validation.\n",
    "    shuffle: bool (None)\n",
    "        shuffle the rows before splitting. None means True unless sequence() is called to process\n",
    "        the data as a (time) series.\n",
    "    random_state: int (None)\n",
    "        set a random_state for reproducible results\n",
    "    stratify: str or [ str ] (None)\n",
    "        apply stratified sampling. Per value for the given column, the rows are sampled. When a list\n",
    "        of columns is given, multi-label stratification is applied.\n",
    "\n",
    "Returns: copy of DFrame \n",
    "    schedules the rows to be split into a train, valid and (optionally) test set.\n",
    "```"
   ]
  },
  {
   "cell_type": "code",
   "execution_count": 8,
   "metadata": {},
   "outputs": [
    {
     "data": {
      "text/plain": [
       "(1279, 320)"
      ]
     },
     "execution_count": 8,
     "metadata": {},
     "output_type": "execute_result"
    }
   ],
   "source": [
    "wine = wine.split(0.2)\n",
    "len(wine.train), len(wine.valid)"
   ]
  },
  {
   "cell_type": "markdown",
   "metadata": {},
   "source": [
    "# Data selection\n",
    "\n",
    "By default, PipeTorch assumes that the last column is the target variable. All columns except the target columns will be the input features. You can use `columny()` and `columnx` to change this default bahavior. For filtering, you can just use Pandas."
   ]
  },
  {
   "cell_type": "code",
   "execution_count": 9,
   "metadata": {},
   "outputs": [],
   "source": [
    "wine = wine.columny('quality')"
   ]
  },
  {
   "cell_type": "markdown",
   "metadata": {},
   "source": [
    "# Data preprocessing"
   ]
  },
  {
   "cell_type": "markdown",
   "metadata": {},
   "source": [
    "### Scale()\n",
    "\n",
    "Configures feature scaling for the features and target variable in the DataFrame. This effect is not visible in the DataFrame, but applied when data preparation is called. Then scaler is fitted \n",
    "on the training set and used to transform the train, valid and test set. \n",
    "\n",
    "There is also a `scalex` to scale only the input features.\n",
    "\n",
    "```\n",
    "Arguments:\n",
    "    columns: True, str or list of str (True)\n",
    "        the columns to scale (True for all)\n",
    "    scalertype: an SKLearn type scaler (StandardScaler)\n",
    "    omit_interval: (-2,2) when colums is set to True\n",
    "        all columns whose values lie outside the omit_interval,\n",
    "\n",
    "Return: copy of DFrame \n",
    "```"
   ]
  },
  {
   "cell_type": "code",
   "execution_count": 10,
   "metadata": {},
   "outputs": [
    {
     "data": {
      "text/html": [
       "<div>\n",
       "<style scoped>\n",
       "    .dataframe tbody tr th:only-of-type {\n",
       "        vertical-align: middle;\n",
       "    }\n",
       "\n",
       "    .dataframe tbody tr th {\n",
       "        vertical-align: top;\n",
       "    }\n",
       "\n",
       "    .dataframe thead th {\n",
       "        text-align: right;\n",
       "    }\n",
       "</style>\n",
       "<table border=\"1\" class=\"dataframe\">\n",
       "  <thead>\n",
       "    <tr style=\"text-align: right;\">\n",
       "      <th></th>\n",
       "      <th>quality</th>\n",
       "      <th>pH</th>\n",
       "      <th>volatile acidity</th>\n",
       "      <th>alcohol</th>\n",
       "    </tr>\n",
       "  </thead>\n",
       "  <tbody>\n",
       "    <tr>\n",
       "      <th>0</th>\n",
       "      <td>5</td>\n",
       "      <td>3.51</td>\n",
       "      <td>0.70</td>\n",
       "      <td>9.4</td>\n",
       "    </tr>\n",
       "    <tr>\n",
       "      <th>1</th>\n",
       "      <td>5</td>\n",
       "      <td>3.20</td>\n",
       "      <td>0.88</td>\n",
       "      <td>9.8</td>\n",
       "    </tr>\n",
       "    <tr>\n",
       "      <th>2</th>\n",
       "      <td>5</td>\n",
       "      <td>3.26</td>\n",
       "      <td>0.76</td>\n",
       "      <td>9.8</td>\n",
       "    </tr>\n",
       "    <tr>\n",
       "      <th>3</th>\n",
       "      <td>6</td>\n",
       "      <td>3.16</td>\n",
       "      <td>0.28</td>\n",
       "      <td>9.8</td>\n",
       "    </tr>\n",
       "    <tr>\n",
       "      <th>4</th>\n",
       "      <td>5</td>\n",
       "      <td>3.51</td>\n",
       "      <td>0.70</td>\n",
       "      <td>9.4</td>\n",
       "    </tr>\n",
       "  </tbody>\n",
       "</table>\n",
       "</div>"
      ],
      "text/plain": [
       "   quality    pH  volatile acidity  alcohol\n",
       "0        5  3.51              0.70      9.4\n",
       "1        5  3.20              0.88      9.8\n",
       "2        5  3.26              0.76      9.8\n",
       "3        6  3.16              0.28      9.8\n",
       "4        5  3.51              0.70      9.4"
      ]
     },
     "execution_count": 10,
     "metadata": {},
     "output_type": "execute_result"
    }
   ],
   "source": [
    "wine.scale().head() # scaling is configured, yet not visible in the DataFrame"
   ]
  },
  {
   "cell_type": "code",
   "execution_count": 11,
   "metadata": {},
   "outputs": [
    {
     "data": {
      "text/plain": [
       "array([[ 1.29927255,  0.7       , -0.95754073],\n",
       "       [-0.71712237,  0.88      , -0.57978176],\n",
       "       [-0.32685238,  0.76      , -0.57978176],\n",
       "       ...,\n",
       "       [ 0.71386757,  0.51      ,  0.55349517],\n",
       "       [ 1.68954254,  0.645     , -0.20202278],\n",
       "       [ 0.51873258,  0.31      ,  0.55349517]])"
      ]
     },
     "execution_count": 11,
     "metadata": {},
     "output_type": "execute_result"
    }
   ],
   "source": [
    "wine.scalex().train_X # but it will be when you prepare the data"
   ]
  },
  {
   "cell_type": "markdown",
   "metadata": {},
   "source": [
    "### balance()\n",
    "\n",
    "Oversamples rows in the training set, so that the values of the target variable are better balanced. Only affects the train set. This effect is not visible in the DataFrame, but applied when data preparation is called.\n",
    "\n",
    "```\n",
    "Arguments:\n",
    "    weights: True or dict\n",
    "        when set to True, the target values of the training set are \n",
    "        uniformely distributed,\n",
    "        otherwise a dictionary can be passed that map target values to the \n",
    "        desired fraction of the training set (e.g. {0:0.4, 1:0.6}).\n",
    "\n",
    "Returns: copy of DFrame\n",
    "```"
   ]
  },
  {
   "cell_type": "code",
   "execution_count": 12,
   "metadata": {},
   "outputs": [],
   "source": [
    "wine = wine.balance()"
   ]
  },
  {
   "cell_type": "markdown",
   "metadata": {},
   "source": [
    "The original DFrame is not affected"
   ]
  },
  {
   "cell_type": "code",
   "execution_count": 13,
   "metadata": {},
   "outputs": [
    {
     "data": {
      "text/plain": [
       "quality\n",
       "3     10\n",
       "4     53\n",
       "5    681\n",
       "6    638\n",
       "7    199\n",
       "8     18\n",
       "Name: quality, dtype: int64"
      ]
     },
     "execution_count": 13,
     "metadata": {},
     "output_type": "execute_result"
    }
   ],
   "source": [
    "wine.groupby(by='quality').quality.count()"
   ]
  },
  {
   "cell_type": "markdown",
   "metadata": {},
   "source": [
    "But the generated training split is. Roughly 80% was used for training, and rows where duplicated so that the minority classes match the rowcount. Alternatively, you can also supply a weight distribution for the classes to balance()."
   ]
  },
  {
   "cell_type": "code",
   "execution_count": 14,
   "metadata": {},
   "outputs": [
    {
     "data": {
      "text/plain": [
       "quality\n",
       "3    537\n",
       "4    537\n",
       "5    537\n",
       "6    537\n",
       "7    537\n",
       "8    537\n",
       "Name: quality, dtype: int64"
      ]
     },
     "execution_count": 14,
     "metadata": {},
     "output_type": "execute_result"
    }
   ],
   "source": [
    "wine.train.groupby(by='quality').quality.count()"
   ]
  },
  {
   "cell_type": "markdown",
   "metadata": {},
   "source": [
    "### polynomials()\n",
    "\n",
    "Adds (higher-order) polynomials to the data pipeline. This effect is not visible in the DataFrame, but applied when data preparation is called.\n",
    "\n",
    "Note: the generated columns are nameless, therefore you cannot combine polynomials with column\n",
    "specific scaling (only None, all, or only input features).\n",
    "```\n",
    "Example:\n",
    "    df.polynomials(degree=2)\n",
    "        Transforms X to include 2nd order polynomials, see SKLearn PolynomialFeatures\n",
    "\n",
    "Args:\n",
    "    degree: int\n",
    "        degree of the higher-order polynomials \n",
    "    include_bias: bool (False)\n",
    "        whether to generate a bias column\n",
    "\n",
    "Returns: copy of DFrame \n",
    "```"
   ]
  },
  {
   "cell_type": "code",
   "execution_count": 18,
   "metadata": {},
   "outputs": [
    {
     "data": {
      "text/plain": [
       "array([[ 3.25  , 10.5625],\n",
       "       [ 3.16  ,  9.9856],\n",
       "       [ 3.38  , 11.4244],\n",
       "       ...,\n",
       "       [ 3.15  ,  9.9225],\n",
       "       [ 3.23  , 10.4329],\n",
       "       [ 3.15  ,  9.9225]])"
      ]
     },
     "execution_count": 18,
     "metadata": {},
     "output_type": "execute_result"
    }
   ],
   "source": [
    "wine.columnx('pH').polynomials(degree=2).train_X"
   ]
  },
  {
   "cell_type": "markdown",
   "metadata": {},
   "source": [
    "### category()\n",
    "\n"
   ]
  }
 ],
 "metadata": {
  "kernelspec": {
   "display_name": "testpt",
   "language": "python",
   "name": "testpt"
  },
  "language_info": {
   "codemirror_mode": {
    "name": "ipython",
    "version": 3
   },
   "file_extension": ".py",
   "mimetype": "text/x-python",
   "name": "python",
   "nbconvert_exporter": "python",
   "pygments_lexer": "ipython3",
   "version": "3.9.7"
  },
  "toc": {
   "base_numbering": 1,
   "nav_menu": {},
   "number_sections": true,
   "sideBar": true,
   "skip_h1_title": true,
   "title_cell": "Table of Contents",
   "title_sidebar": "Contents",
   "toc_cell": false,
   "toc_position": {},
   "toc_section_display": true,
   "toc_window_display": false
  },
  "varInspector": {
   "cols": {
    "lenName": 16,
    "lenType": 16,
    "lenVar": 40
   },
   "kernels_config": {
    "python": {
     "delete_cmd_postfix": "",
     "delete_cmd_prefix": "del ",
     "library": "var_list.py",
     "varRefreshCmd": "print(var_dic_list())"
    },
    "r": {
     "delete_cmd_postfix": ") ",
     "delete_cmd_prefix": "rm(",
     "library": "var_list.r",
     "varRefreshCmd": "cat(var_dic_list()) "
    }
   },
   "types_to_exclude": [
    "module",
    "function",
    "builtin_function_or_method",
    "instance",
    "_Feature"
   ],
   "window_display": false
  }
 },
 "nbformat": 4,
 "nbformat_minor": 4
}

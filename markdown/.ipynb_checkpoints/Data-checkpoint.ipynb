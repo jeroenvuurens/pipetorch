{
 "cells": [
  {
   "cell_type": "markdown",
   "metadata": {},
   "source": [
    "# PipeTorch Data module\n",
    "\n",
    "The most common way to prepare data is to use Pandas DataFrame, however, data preparation and visualization can be very repetitive. Therefore, we designed an extension to a Pandas DataFrame (called a DFrame), that adds a quick way to do the most common data preprocessing, preparation and visualization.\n",
    "\n",
    "The additional functions are divided in:\n",
    "- [Data loading](#Data-Loading)\n",
    "- [Out-of-sample validation](#Out-of-sample-validation): [split()](#split()) and [folds()](#folds())\n",
    "- [Preprocessing](#Data-preprocessing): [scale()](#Scale()), [balance()](#Balance()), [polynomials()](#polynomials()), [category()](#category()), [dummies()](#dummies())\n",
    "- [Visualization](#Visualization): [scatter()](#scatter()), [scatter2d_class()](#scatter2d_class()), [line()](#line()), and [plot_boundary()](#plot_boundary())\n",
    "- [Data preparation](#Data-preparation): to [Numpy](#Numpy-Array) or a PyTorch [DataSet](#DataLoader), [DataLoader](#DataLoader) or PipeTorch [Databunch](#DataLoader)\n",
    "\n",
    "Two important things about the way the PipeTorch data pipeline works:\n",
    "- all operations are `lazily executed`; e.g. scaling is not done until the data preparation is called. A dataframe `df` therefore still shows the original data while `df.train_X` shows the result after splitting and scaling.\n",
    "- therefore, a call to any data preparation should come last, the order of the other functions is irrevelant.\n",
    "- all PipeTorch operations are `non-destructive`, i.e. calling a function on a DataFrame `df` will not alter `df` but return a new version that is configured accordingly. There is one exception, when any data preparation function is called, the exact data split is stored to allow subsequent actions to consistently work with the same data.\n",
    "\n",
    "We will provide some examples below, for more explanations and advanced options you can check the docstring for these functions (e.g. ?df.split)."
   ]
  },
  {
   "cell_type": "code",
   "execution_count": 1,
   "metadata": {},
   "outputs": [
    {
     "name": "stdout",
     "output_type": "stream",
     "text": [
      "using gpu 3\n"
     ]
    }
   ],
   "source": [
    "from pipetorch.data import read_from_kaggle, read_csv, create_kaggle_authentication\n",
    "import matplotlib.pyplot as plt\n",
    "import numpy as np"
   ]
  },
  {
   "cell_type": "markdown",
   "metadata": {},
   "source": [
    "# Data Loading\n",
    "\n",
    "The data pipeline often starts by loading a dataset. The most basic way is to use [read_csv](#read_csv) to . Kaggle is a great resource for these, therefore, there is also a [read_from_kaggle](#read_from_kaggle) function to download a dataset directly from Kaggle.\n",
    "\n",
    "### read_csv()\n",
    "\n",
    "Uses pd.read_csv to read a csv from file or url. The difference with Pandas is that a DFrame is returned and it allows downloaded files to be automatically stored with `save=True` in `path / filename`, so that when read_csv is called with the same parameters the stored file is used. The `kwargs` are passed to pd.read_csv. When a (multichar) delimiter is used, this is also used to save the file so that the original delimiter is kept.\n",
    "\n",
    "``` \n",
    "Args:\n",
    "\n",
    "    url: str\n",
    "        the url to download or a full path pointing to a .csv file\n",
    "        \n",
    "    filename: str (None)\n",
    "        the filename to store the downloaded file under. If None, the filename is extracted from the url.\n",
    "        \n",
    "    path: str (None)\n",
    "        the path in which the file is stored. If None, it will first check the ~/.pipetorch (for sharing\n",
    "        dataset between users) and then ~/.pipetorchuser (for user specific caching of datasets).\n",
    "        \n",
    "    save: bool (False)\n",
    "        whether to save a downloaded .csv\n",
    "        \n",
    "    **kwargs:\n",
    "        additional parameters passed to pd.read_csv. For example, when a multichar delimiter is used\n",
    "        you will have to set engine='python'.\n",
    "\n",
    "Returns: DFrame\n",
    "```"
   ]
  },
  {
   "cell_type": "code",
   "execution_count": 2,
   "metadata": {},
   "outputs": [
    {
     "name": "stdout",
     "output_type": "stream",
     "text": [
      "Downloading https://osf.io/8fwaj/download\n"
     ]
    },
    {
     "data": {
      "text/html": [
       "<div>\n",
       "<style scoped>\n",
       "    .dataframe tbody tr th:only-of-type {\n",
       "        vertical-align: middle;\n",
       "    }\n",
       "\n",
       "    .dataframe tbody tr th {\n",
       "        vertical-align: top;\n",
       "    }\n",
       "\n",
       "    .dataframe thead th {\n",
       "        text-align: right;\n",
       "    }\n",
       "</style>\n",
       "<table border=\"1\" class=\"dataframe\">\n",
       "  <thead>\n",
       "    <tr style=\"text-align: right;\">\n",
       "      <th></th>\n",
       "      <th>quality</th>\n",
       "      <th>pH</th>\n",
       "      <th>volatile acidity</th>\n",
       "      <th>alcohol</th>\n",
       "    </tr>\n",
       "  </thead>\n",
       "  <tbody>\n",
       "    <tr>\n",
       "      <th>0</th>\n",
       "      <td>5</td>\n",
       "      <td>3.51</td>\n",
       "      <td>0.700</td>\n",
       "      <td>9.4</td>\n",
       "    </tr>\n",
       "    <tr>\n",
       "      <th>1</th>\n",
       "      <td>5</td>\n",
       "      <td>3.20</td>\n",
       "      <td>0.880</td>\n",
       "      <td>9.8</td>\n",
       "    </tr>\n",
       "    <tr>\n",
       "      <th>2</th>\n",
       "      <td>5</td>\n",
       "      <td>3.26</td>\n",
       "      <td>0.760</td>\n",
       "      <td>9.8</td>\n",
       "    </tr>\n",
       "    <tr>\n",
       "      <th>3</th>\n",
       "      <td>6</td>\n",
       "      <td>3.16</td>\n",
       "      <td>0.280</td>\n",
       "      <td>9.8</td>\n",
       "    </tr>\n",
       "    <tr>\n",
       "      <th>4</th>\n",
       "      <td>5</td>\n",
       "      <td>3.51</td>\n",
       "      <td>0.700</td>\n",
       "      <td>9.4</td>\n",
       "    </tr>\n",
       "    <tr>\n",
       "      <th>...</th>\n",
       "      <td>...</td>\n",
       "      <td>...</td>\n",
       "      <td>...</td>\n",
       "      <td>...</td>\n",
       "    </tr>\n",
       "    <tr>\n",
       "      <th>1594</th>\n",
       "      <td>5</td>\n",
       "      <td>3.45</td>\n",
       "      <td>0.600</td>\n",
       "      <td>10.5</td>\n",
       "    </tr>\n",
       "    <tr>\n",
       "      <th>1595</th>\n",
       "      <td>6</td>\n",
       "      <td>3.52</td>\n",
       "      <td>0.550</td>\n",
       "      <td>11.2</td>\n",
       "    </tr>\n",
       "    <tr>\n",
       "      <th>1596</th>\n",
       "      <td>6</td>\n",
       "      <td>3.42</td>\n",
       "      <td>0.510</td>\n",
       "      <td>11.0</td>\n",
       "    </tr>\n",
       "    <tr>\n",
       "      <th>1597</th>\n",
       "      <td>5</td>\n",
       "      <td>3.57</td>\n",
       "      <td>0.645</td>\n",
       "      <td>10.2</td>\n",
       "    </tr>\n",
       "    <tr>\n",
       "      <th>1598</th>\n",
       "      <td>6</td>\n",
       "      <td>3.39</td>\n",
       "      <td>0.310</td>\n",
       "      <td>11.0</td>\n",
       "    </tr>\n",
       "  </tbody>\n",
       "</table>\n",
       "<p>1599 rows × 4 columns</p>\n",
       "</div>"
      ],
      "text/plain": [
       "      quality    pH  volatile acidity  alcohol\n",
       "0           5  3.51             0.700      9.4\n",
       "1           5  3.20             0.880      9.8\n",
       "2           5  3.26             0.760      9.8\n",
       "3           6  3.16             0.280      9.8\n",
       "4           5  3.51             0.700      9.4\n",
       "...       ...   ...               ...      ...\n",
       "1594        5  3.45             0.600     10.5\n",
       "1595        6  3.52             0.550     11.2\n",
       "1596        6  3.42             0.510     11.0\n",
       "1597        5  3.57             0.645     10.2\n",
       "1598        6  3.39             0.310     11.0\n",
       "\n",
       "[1599 rows x 4 columns]"
      ]
     },
     "execution_count": 2,
     "metadata": {},
     "output_type": "execute_result"
    }
   ],
   "source": [
    "wine = read_csv('https://osf.io/8fwaj/download')\n",
    "wine"
   ]
  },
  {
   "cell_type": "markdown",
   "metadata": {},
   "source": [
    "### read_from_kaggle()\n",
    "\n",
    "Reads a DFrame from a Kaggle dataset. The downloaded dataset is automatically stored so that the next time it is read from file rather than downloaded. See `read_csv`. The dataset is stored by default in a folder with the dataset name in `~/.pipetorchuser`.\n",
    "\n",
    "If the dataset is not cached, this functions requires a valid .kaggle/kaggle.json file, that you can create manually or with the function `create_kaggle_authentication()`.\n",
    "\n",
    "Note: there is a difference between a Kaggle dataset and a Kaggle competition. For the latter, you have to use `read_from_kaggle_competition`.\n",
    "    \n",
    "```\n",
    "Args:\n",
    "\n",
    "    dataset: str\n",
    "        the username/dataset part of the kaggle url, e.g. uciml/autompg-dataset  \n",
    "        \n",
    "    train: str (None)\n",
    "        the filename that is used as the train set, e.g. 'train.csv'\n",
    "\n",
    "    test: str (None)\n",
    "        the filename that is used as the test set, e.g. 'test.csv'. Although the test set is added to the\n",
    "        DFrame, PipeTorch ensures that these rows are assigned to the test set when preparing data and\n",
    "        that no test information leaks through the PipeTorch functions (like scale, dummies, etc.)\n",
    "        \n",
    "    shared: bool (False)\n",
    "        save the dataset in ~/.pipetorch instead of ~/.pipetorchuser, allowing to share downloaded\n",
    "        files between users.\n",
    "        \n",
    "    force: bool (False)\n",
    "        when True, the dataset is always downloaded\n",
    "        \n",
    "    **kwargs:\n",
    "        additional parameters passed to pd.read_csv. For example, when a multichar delimiter is used\n",
    "        you will have to set engine='python'.\n",
    "\n",
    "Returns: DFrame\n",
    "```"
   ]
  },
  {
   "cell_type": "markdown",
   "metadata": {},
   "source": [
    "Note: if you want to be able to download yourself, register an account at Kaggle (free), create a token on their website and register the token on your machine in `~/.kaggle/kaggle.json` or through the function below (only tested on Ubuntu)."
   ]
  },
  {
   "cell_type": "code",
   "execution_count": 3,
   "metadata": {},
   "outputs": [],
   "source": [
    "# create_kaggle_authentication('username', 'tokenstring')"
   ]
  },
  {
   "cell_type": "markdown",
   "metadata": {},
   "source": [
    "To read/download `https://www.kaggle.com/datasets/uciml/autompg-dataset`"
   ]
  },
  {
   "cell_type": "code",
   "execution_count": 4,
   "metadata": {},
   "outputs": [],
   "source": [
    "mpg = read_from_kaggle('uciml/autompg-dataset') "
   ]
  },
  {
   "cell_type": "markdown",
   "metadata": {},
   "source": [
    "To read a dataset that has separate train and test set into a single DFrame"
   ]
  },
  {
   "cell_type": "code",
   "execution_count": 5,
   "metadata": {},
   "outputs": [],
   "source": [
    "occupancy = read_from_kaggle('robmarkcole/occupancy-detection-data-set-uci', 'datatraining.txt', 'datatest.txt')"
   ]
  },
  {
   "cell_type": "markdown",
   "metadata": {},
   "source": [
    "# DataFrame\n",
    "\n",
    "The returned object is an extension of a Pandas DataFrame (called a DFrame). This means you can use Pandas for cleaning the data. One convenient function we added is `inspect()` to get an overview of the data."
   ]
  },
  {
   "cell_type": "code",
   "execution_count": 6,
   "metadata": {},
   "outputs": [
    {
     "data": {
      "text/html": [
       "<div>\n",
       "<style scoped>\n",
       "    .dataframe tbody tr th:only-of-type {\n",
       "        vertical-align: middle;\n",
       "    }\n",
       "\n",
       "    .dataframe tbody tr th {\n",
       "        vertical-align: top;\n",
       "    }\n",
       "\n",
       "    .dataframe thead th {\n",
       "        text-align: right;\n",
       "    }\n",
       "</style>\n",
       "<table border=\"1\" class=\"dataframe\">\n",
       "  <thead>\n",
       "    <tr style=\"text-align: right;\">\n",
       "      <th></th>\n",
       "      <th>mpg</th>\n",
       "      <th>displacement</th>\n",
       "      <th>horsepower</th>\n",
       "      <th>weight</th>\n",
       "      <th>acceleration</th>\n",
       "      <th>model year</th>\n",
       "      <th>origin</th>\n",
       "      <th>car name</th>\n",
       "    </tr>\n",
       "  </thead>\n",
       "  <tbody>\n",
       "    <tr>\n",
       "      <th>0</th>\n",
       "      <td>18.0</td>\n",
       "      <td>307.0</td>\n",
       "      <td>130</td>\n",
       "      <td>3504</td>\n",
       "      <td>12.0</td>\n",
       "      <td>70</td>\n",
       "      <td>1</td>\n",
       "      <td>chevrolet chevelle malibu</td>\n",
       "    </tr>\n",
       "    <tr>\n",
       "      <th>1</th>\n",
       "      <td>15.0</td>\n",
       "      <td>350.0</td>\n",
       "      <td>165</td>\n",
       "      <td>3693</td>\n",
       "      <td>11.5</td>\n",
       "      <td>70</td>\n",
       "      <td>1</td>\n",
       "      <td>buick skylark 320</td>\n",
       "    </tr>\n",
       "    <tr>\n",
       "      <th>2</th>\n",
       "      <td>18.0</td>\n",
       "      <td>318.0</td>\n",
       "      <td>150</td>\n",
       "      <td>3436</td>\n",
       "      <td>11.0</td>\n",
       "      <td>70</td>\n",
       "      <td>1</td>\n",
       "      <td>plymouth satellite</td>\n",
       "    </tr>\n",
       "    <tr>\n",
       "      <th>3</th>\n",
       "      <td>16.0</td>\n",
       "      <td>304.0</td>\n",
       "      <td>150</td>\n",
       "      <td>3433</td>\n",
       "      <td>12.0</td>\n",
       "      <td>70</td>\n",
       "      <td>1</td>\n",
       "      <td>amc rebel sst</td>\n",
       "    </tr>\n",
       "    <tr>\n",
       "      <th>4</th>\n",
       "      <td>17.0</td>\n",
       "      <td>302.0</td>\n",
       "      <td>140</td>\n",
       "      <td>3449</td>\n",
       "      <td>10.5</td>\n",
       "      <td>70</td>\n",
       "      <td>1</td>\n",
       "      <td>ford torino</td>\n",
       "    </tr>\n",
       "  </tbody>\n",
       "</table>\n",
       "</div>"
      ],
      "text/plain": [
       "    mpg  displacement horsepower  weight  acceleration  model year  origin  \\\n",
       "0  18.0         307.0        130    3504          12.0          70       1   \n",
       "1  15.0         350.0        165    3693          11.5          70       1   \n",
       "2  18.0         318.0        150    3436          11.0          70       1   \n",
       "3  16.0         304.0        150    3433          12.0          70       1   \n",
       "4  17.0         302.0        140    3449          10.5          70       1   \n",
       "\n",
       "                    car name  \n",
       "0  chevrolet chevelle malibu  \n",
       "1          buick skylark 320  \n",
       "2         plymouth satellite  \n",
       "3              amc rebel sst  \n",
       "4                ford torino  "
      ]
     },
     "execution_count": 6,
     "metadata": {},
     "output_type": "execute_result"
    }
   ],
   "source": [
    "mpg = read_from_kaggle('uciml/autompg-dataset') \n",
    "mpg.drop(columns='cylinders').head(5)"
   ]
  },
  {
   "cell_type": "code",
   "execution_count": 7,
   "metadata": {},
   "outputs": [
    {
     "data": {
      "text/html": [
       "<div>\n",
       "<style scoped>\n",
       "    .dataframe tbody tr th:only-of-type {\n",
       "        vertical-align: middle;\n",
       "    }\n",
       "\n",
       "    .dataframe tbody tr th {\n",
       "        vertical-align: top;\n",
       "    }\n",
       "\n",
       "    .dataframe thead th {\n",
       "        text-align: right;\n",
       "    }\n",
       "</style>\n",
       "<table border=\"1\" class=\"dataframe\">\n",
       "  <thead>\n",
       "    <tr style=\"text-align: right;\">\n",
       "      <th></th>\n",
       "      <th>Missing (#)</th>\n",
       "      <th>Missing (%)</th>\n",
       "      <th>Datatype</th>\n",
       "      <th>Range</th>\n",
       "      <th>Values</th>\n",
       "    </tr>\n",
       "  </thead>\n",
       "  <tbody>\n",
       "    <tr>\n",
       "      <th>mpg</th>\n",
       "      <td>0</td>\n",
       "      <td>0.0</td>\n",
       "      <td>float64</td>\n",
       "      <td>[9.0, 46.6]</td>\n",
       "      <td>(13.0, 14.0, ...)</td>\n",
       "    </tr>\n",
       "    <tr>\n",
       "      <th>cylinders</th>\n",
       "      <td>0</td>\n",
       "      <td>0.0</td>\n",
       "      <td>int64</td>\n",
       "      <td>[3, 8]</td>\n",
       "      <td>(4, 8, ...)</td>\n",
       "    </tr>\n",
       "    <tr>\n",
       "      <th>displacement</th>\n",
       "      <td>0</td>\n",
       "      <td>0.0</td>\n",
       "      <td>float64</td>\n",
       "      <td>[68.0, 455.0]</td>\n",
       "      <td>(97.0, 98.0, ...)</td>\n",
       "    </tr>\n",
       "    <tr>\n",
       "      <th>horsepower</th>\n",
       "      <td>0</td>\n",
       "      <td>0.0</td>\n",
       "      <td>object</td>\n",
       "      <td>#94</td>\n",
       "      <td>(150, 90, ...)</td>\n",
       "    </tr>\n",
       "    <tr>\n",
       "      <th>weight</th>\n",
       "      <td>0</td>\n",
       "      <td>0.0</td>\n",
       "      <td>int64</td>\n",
       "      <td>[1613, 5140]</td>\n",
       "      <td>(1985, 2130, ...)</td>\n",
       "    </tr>\n",
       "    <tr>\n",
       "      <th>acceleration</th>\n",
       "      <td>0</td>\n",
       "      <td>0.0</td>\n",
       "      <td>float64</td>\n",
       "      <td>[8.0, 24.8]</td>\n",
       "      <td>(14.5, 15.5, ...)</td>\n",
       "    </tr>\n",
       "    <tr>\n",
       "      <th>model year</th>\n",
       "      <td>0</td>\n",
       "      <td>0.0</td>\n",
       "      <td>int64</td>\n",
       "      <td>[70, 82]</td>\n",
       "      <td>(73, 78, ...)</td>\n",
       "    </tr>\n",
       "    <tr>\n",
       "      <th>origin</th>\n",
       "      <td>0</td>\n",
       "      <td>0.0</td>\n",
       "      <td>int64</td>\n",
       "      <td>[1, 3]</td>\n",
       "      <td>(1, 3, ...)</td>\n",
       "    </tr>\n",
       "    <tr>\n",
       "      <th>car name</th>\n",
       "      <td>0</td>\n",
       "      <td>0.0</td>\n",
       "      <td>object</td>\n",
       "      <td>#305</td>\n",
       "      <td>(ford pinto, toyota corolla, ...)</td>\n",
       "    </tr>\n",
       "  </tbody>\n",
       "</table>\n",
       "</div>"
      ],
      "text/plain": [
       "              Missing (#)  Missing (%) Datatype          Range  \\\n",
       "mpg                     0          0.0  float64    [9.0, 46.6]   \n",
       "cylinders               0          0.0    int64         [3, 8]   \n",
       "displacement            0          0.0  float64  [68.0, 455.0]   \n",
       "horsepower              0          0.0   object            #94   \n",
       "weight                  0          0.0    int64   [1613, 5140]   \n",
       "acceleration            0          0.0  float64    [8.0, 24.8]   \n",
       "model year              0          0.0    int64       [70, 82]   \n",
       "origin                  0          0.0    int64         [1, 3]   \n",
       "car name                0          0.0   object           #305   \n",
       "\n",
       "                                         Values  \n",
       "mpg                           (13.0, 14.0, ...)  \n",
       "cylinders                           (4, 8, ...)  \n",
       "displacement                  (97.0, 98.0, ...)  \n",
       "horsepower                       (150, 90, ...)  \n",
       "weight                        (1985, 2130, ...)  \n",
       "acceleration                  (14.5, 15.5, ...)  \n",
       "model year                        (73, 78, ...)  \n",
       "origin                              (1, 3, ...)  \n",
       "car name      (ford pinto, toyota corolla, ...)  "
      ]
     },
     "execution_count": 7,
     "metadata": {},
     "output_type": "execute_result"
    }
   ],
   "source": [
    "mpg.inspect()"
   ]
  },
  {
   "cell_type": "markdown",
   "metadata": {},
   "source": [
    "# Out-of-sample validation\n",
    "\n",
    "For Machine Learning, you have to use out-of-sample validation and test sets. PipeTorch provides two easy functions to do that:\n",
    "\n",
    "### folds()\n",
    "\n",
    "Divide the data over n folds to setup n-Fold Cross Validation in a reproducible manner. \n",
    "        \n",
    "By combining folds() with split(0 < test_size < 1) , a single testset is split before dividing the remainder in folds that are used for training and validation. When used without split, by default a single fold is used for testing.\n",
    "\n",
    "The folds assigned to the validation and test-set rotate differently, giving 5x4 combinations for 5-fold cross validation. You can apply exhaustive cross-validation over all 20 combinations by calling fold(0) through fold(19), or less exhaustive cross-validation by calling fold(0) through fold(4) to use every fold for validation and testing once. \n",
    "\n",
    "```\n",
    "Arguments:\n",
    "\n",
    "    folds: int (None)\n",
    "        The number of times the data will be split in preparation for n-fold cross validation. The\n",
    "        different splits can be used through the fold(n) method.\n",
    "        SKLearn's SplitShuffle is used, therefore no guarantee is given that the splits are\n",
    "        different nor that the validation splits are disjoint. For large datasets, that should not\n",
    "        be a problem.\n",
    "        \n",
    "    shuffle: bool (None)\n",
    "        shuffle the rows before splitting. None means True unless sequence() is called to process\n",
    "        the data as a (time) series.\n",
    "        \n",
    "    random_state: int (None)\n",
    "        set a random_state for reproducible results\n",
    "        \n",
    "    stratify: str or [ str ] (None)\n",
    "        uses the iterative-stratification library to apply stratified sampling. Per value for the given column,\n",
    "        the rows are sampled. When a list of columns is given, multi-label stratification is applied.\n",
    "        \n",
    "    test: bool (None)\n",
    "        whether to use one fold as a test set. The default None is interpreted as True when\n",
    "        split is not used. Often for automated n-fold cross validation studies, the validation set\n",
    "        is used for early termination, and therefore you should use an out-of-sample\n",
    "        test set that was not used for optimizing.\n",
    "\n",
    "Returns: copy of DFrame \n",
    "    schedules the data to be split in folds.\n",
    "```"
   ]
  },
  {
   "cell_type": "markdown",
   "metadata": {},
   "source": [
    "The example below creates 5 equally sized folds. Calls to df.fold(i) will set the train/valid/test sets to one of the permutations over the folds. The sets are generated when data preparation is called, e.g. df.train, df.valid or df.test. Using folds ensures that no data from the valid/test part is used in training or leaked, and that there is no overlap between resp. the train/test part over the different folds."
   ]
  },
  {
   "cell_type": "code",
   "execution_count": 8,
   "metadata": {},
   "outputs": [
    {
     "name": "stdout",
     "output_type": "stream",
     "text": [
      "   quality    pH  volatile acidity  alcohol\n",
      "1        5  3.20              0.88      9.8\n",
      "3        6  3.16              0.28      9.8\n",
      "    quality    pH  volatile acidity  alcohol\n",
      "12        5  3.58             0.615      9.9\n",
      "15        5  3.17             0.620      9.2\n",
      "   quality    pH  volatile acidity  alcohol\n",
      "0        5  3.51              0.70      9.4\n",
      "8        7  3.36              0.58      9.5\n",
      "    quality    pH  volatile acidity  alcohol\n",
      "7         7  3.39              0.65     10.0\n",
      "10        5  3.28              0.58      9.2\n",
      "   quality    pH  volatile acidity  alcohol\n",
      "2        5  3.26              0.76      9.8\n",
      "4        5  3.51              0.70      9.4\n"
     ]
    }
   ],
   "source": [
    "wine = read_csv('https://osf.io/8fwaj/download')\n",
    "wine = wine.folds(5)\n",
    "for i in range(5):\n",
    "    print(wine.fold(i).valid.head(2))"
   ]
  },
  {
   "cell_type": "markdown",
   "metadata": {},
   "source": [
    "### split() \n",
    "\n",
    "Split the data in a train/valid/(test) set. If the DFrame was loaded with a separate test part, then\n",
    "split only applies to the train part.\n",
    "\n",
    "```\n",
    "Example:\n",
    "    df.split(0.2, stratify='city')\n",
    "        splits the train data in a 80%/20% train/valid part. Stratify attempts to populate both parts \n",
    "        with the same proportion over each value of the column city\n",
    "    df.split(0.2, 0.2)\n",
    "        splits the train data in a 60%/20%/20% train/valid/test split\n",
    "\n",
    "Args:\n",
    "    valid_size: float (None)\n",
    "        the fraction of the dataset that is used for the validation set.\n",
    "    test_size: float (None)\n",
    "        the fraction of the dataset that is used for the test set. When combined with folds\n",
    "        if 1 > test_size > 0, the test set is split before the remainder is divided in folds \n",
    "        to apply n-fold cross validation.\n",
    "    shuffle: bool (None)\n",
    "        shuffle the rows before splitting. None means True unless sequence() is called to process\n",
    "        the data as a (time) series.\n",
    "    random_state: int (None)\n",
    "        set a random_state for reproducible results\n",
    "    stratify: str or [ str ] (None)\n",
    "        apply stratified sampling. Per value for the given column, the rows are sampled. When a list\n",
    "        of columns is given, multi-label stratification is applied.\n",
    "\n",
    "Returns: copy of DFrame \n",
    "    schedules the rows to be split into a train, valid and (optionally) test set.\n",
    "```"
   ]
  },
  {
   "cell_type": "markdown",
   "metadata": {},
   "source": [
    "The example below splits the train data in a 60%/20%/20% train/valid/test split."
   ]
  },
  {
   "cell_type": "code",
   "execution_count": 9,
   "metadata": {},
   "outputs": [
    {
     "data": {
      "text/plain": [
       "(1279, 320)"
      ]
     },
     "execution_count": 9,
     "metadata": {},
     "output_type": "execute_result"
    }
   ],
   "source": [
    "wine = read_csv('https://osf.io/8fwaj/download')\n",
    "wine = wine.split(0.2)\n",
    "len(wine.train), len(wine.valid)"
   ]
  },
  {
   "cell_type": "markdown",
   "metadata": {},
   "source": [
    "The example below splits the train data in a 80%/20% train/valid part. Stratify attempts to populate both parts with the same proportion over each value of the column city."
   ]
  },
  {
   "cell_type": "code",
   "execution_count": 10,
   "metadata": {},
   "outputs": [
    {
     "data": {
      "text/html": [
       "<div>\n",
       "<style scoped>\n",
       "    .dataframe tbody tr th:only-of-type {\n",
       "        vertical-align: middle;\n",
       "    }\n",
       "\n",
       "    .dataframe tbody tr th {\n",
       "        vertical-align: top;\n",
       "    }\n",
       "\n",
       "    .dataframe thead th {\n",
       "        text-align: right;\n",
       "    }\n",
       "</style>\n",
       "<table border=\"1\" class=\"dataframe\">\n",
       "  <thead>\n",
       "    <tr style=\"text-align: right;\">\n",
       "      <th></th>\n",
       "      <th>mpg</th>\n",
       "      <th>cylinders</th>\n",
       "      <th>displacement</th>\n",
       "      <th>horsepower</th>\n",
       "      <th>weight</th>\n",
       "      <th>acceleration</th>\n",
       "      <th>model year</th>\n",
       "      <th>origin</th>\n",
       "      <th>car name</th>\n",
       "    </tr>\n",
       "  </thead>\n",
       "  <tbody>\n",
       "    <tr>\n",
       "      <th>0</th>\n",
       "      <td>18.0</td>\n",
       "      <td>8</td>\n",
       "      <td>307.0</td>\n",
       "      <td>130</td>\n",
       "      <td>3504</td>\n",
       "      <td>12.0</td>\n",
       "      <td>70</td>\n",
       "      <td>1</td>\n",
       "      <td>chevrolet chevelle malibu</td>\n",
       "    </tr>\n",
       "    <tr>\n",
       "      <th>1</th>\n",
       "      <td>15.0</td>\n",
       "      <td>8</td>\n",
       "      <td>350.0</td>\n",
       "      <td>165</td>\n",
       "      <td>3693</td>\n",
       "      <td>11.5</td>\n",
       "      <td>70</td>\n",
       "      <td>1</td>\n",
       "      <td>buick skylark 320</td>\n",
       "    </tr>\n",
       "    <tr>\n",
       "      <th>2</th>\n",
       "      <td>18.0</td>\n",
       "      <td>8</td>\n",
       "      <td>318.0</td>\n",
       "      <td>150</td>\n",
       "      <td>3436</td>\n",
       "      <td>11.0</td>\n",
       "      <td>70</td>\n",
       "      <td>1</td>\n",
       "      <td>plymouth satellite</td>\n",
       "    </tr>\n",
       "    <tr>\n",
       "      <th>3</th>\n",
       "      <td>16.0</td>\n",
       "      <td>8</td>\n",
       "      <td>304.0</td>\n",
       "      <td>150</td>\n",
       "      <td>3433</td>\n",
       "      <td>12.0</td>\n",
       "      <td>70</td>\n",
       "      <td>1</td>\n",
       "      <td>amc rebel sst</td>\n",
       "    </tr>\n",
       "    <tr>\n",
       "      <th>4</th>\n",
       "      <td>17.0</td>\n",
       "      <td>8</td>\n",
       "      <td>302.0</td>\n",
       "      <td>140</td>\n",
       "      <td>3449</td>\n",
       "      <td>10.5</td>\n",
       "      <td>70</td>\n",
       "      <td>1</td>\n",
       "      <td>ford torino</td>\n",
       "    </tr>\n",
       "    <tr>\n",
       "      <th>...</th>\n",
       "      <td>...</td>\n",
       "      <td>...</td>\n",
       "      <td>...</td>\n",
       "      <td>...</td>\n",
       "      <td>...</td>\n",
       "      <td>...</td>\n",
       "      <td>...</td>\n",
       "      <td>...</td>\n",
       "      <td>...</td>\n",
       "    </tr>\n",
       "    <tr>\n",
       "      <th>393</th>\n",
       "      <td>27.0</td>\n",
       "      <td>4</td>\n",
       "      <td>140.0</td>\n",
       "      <td>86</td>\n",
       "      <td>2790</td>\n",
       "      <td>15.6</td>\n",
       "      <td>82</td>\n",
       "      <td>1</td>\n",
       "      <td>ford mustang gl</td>\n",
       "    </tr>\n",
       "    <tr>\n",
       "      <th>394</th>\n",
       "      <td>44.0</td>\n",
       "      <td>4</td>\n",
       "      <td>97.0</td>\n",
       "      <td>52</td>\n",
       "      <td>2130</td>\n",
       "      <td>24.6</td>\n",
       "      <td>82</td>\n",
       "      <td>2</td>\n",
       "      <td>vw pickup</td>\n",
       "    </tr>\n",
       "    <tr>\n",
       "      <th>395</th>\n",
       "      <td>32.0</td>\n",
       "      <td>4</td>\n",
       "      <td>135.0</td>\n",
       "      <td>84</td>\n",
       "      <td>2295</td>\n",
       "      <td>11.6</td>\n",
       "      <td>82</td>\n",
       "      <td>1</td>\n",
       "      <td>dodge rampage</td>\n",
       "    </tr>\n",
       "    <tr>\n",
       "      <th>396</th>\n",
       "      <td>28.0</td>\n",
       "      <td>4</td>\n",
       "      <td>120.0</td>\n",
       "      <td>79</td>\n",
       "      <td>2625</td>\n",
       "      <td>18.6</td>\n",
       "      <td>82</td>\n",
       "      <td>1</td>\n",
       "      <td>ford ranger</td>\n",
       "    </tr>\n",
       "    <tr>\n",
       "      <th>397</th>\n",
       "      <td>31.0</td>\n",
       "      <td>4</td>\n",
       "      <td>119.0</td>\n",
       "      <td>82</td>\n",
       "      <td>2720</td>\n",
       "      <td>19.4</td>\n",
       "      <td>82</td>\n",
       "      <td>1</td>\n",
       "      <td>chevy s-10</td>\n",
       "    </tr>\n",
       "  </tbody>\n",
       "</table>\n",
       "<p>398 rows × 9 columns</p>\n",
       "</div>"
      ],
      "text/plain": [
       "      mpg  cylinders  displacement horsepower  weight  acceleration  \\\n",
       "0    18.0          8         307.0        130    3504          12.0   \n",
       "1    15.0          8         350.0        165    3693          11.5   \n",
       "2    18.0          8         318.0        150    3436          11.0   \n",
       "3    16.0          8         304.0        150    3433          12.0   \n",
       "4    17.0          8         302.0        140    3449          10.5   \n",
       "..    ...        ...           ...        ...     ...           ...   \n",
       "393  27.0          4         140.0         86    2790          15.6   \n",
       "394  44.0          4          97.0         52    2130          24.6   \n",
       "395  32.0          4         135.0         84    2295          11.6   \n",
       "396  28.0          4         120.0         79    2625          18.6   \n",
       "397  31.0          4         119.0         82    2720          19.4   \n",
       "\n",
       "     model year  origin                   car name  \n",
       "0            70       1  chevrolet chevelle malibu  \n",
       "1            70       1          buick skylark 320  \n",
       "2            70       1         plymouth satellite  \n",
       "3            70       1              amc rebel sst  \n",
       "4            70       1                ford torino  \n",
       "..          ...     ...                        ...  \n",
       "393          82       1            ford mustang gl  \n",
       "394          82       2                  vw pickup  \n",
       "395          82       1              dodge rampage  \n",
       "396          82       1                ford ranger  \n",
       "397          82       1                 chevy s-10  \n",
       "\n",
       "[398 rows x 9 columns]"
      ]
     },
     "execution_count": 10,
     "metadata": {},
     "output_type": "execute_result"
    }
   ],
   "source": [
    "mpg"
   ]
  },
  {
   "cell_type": "code",
   "execution_count": 11,
   "metadata": {},
   "outputs": [],
   "source": [
    "mpg = read_from_kaggle('uciml/autompg-dataset')\n",
    "mpg = mpg.split(0.2, stratify=['cylinders', 'origin'])"
   ]
  },
  {
   "cell_type": "code",
   "execution_count": 12,
   "metadata": {},
   "outputs": [
    {
     "data": {
      "text/plain": [
       "1    0.606918\n",
       "3    0.198113\n",
       "2    0.194969\n",
       "Name: origin, dtype: float64"
      ]
     },
     "execution_count": 12,
     "metadata": {},
     "output_type": "execute_result"
    }
   ],
   "source": [
    "mpg.train.origin.value_counts()/len(mpg.train)"
   ]
  },
  {
   "cell_type": "code",
   "execution_count": 13,
   "metadata": {},
   "outputs": [
    {
     "data": {
      "text/plain": [
       "1    0.7\n",
       "3    0.2\n",
       "2    0.1\n",
       "Name: origin, dtype: float64"
      ]
     },
     "execution_count": 13,
     "metadata": {},
     "output_type": "execute_result"
    }
   ],
   "source": [
    "mpg.valid.origin.value_counts()/len(mpg.valid)"
   ]
  },
  {
   "cell_type": "code",
   "execution_count": 14,
   "metadata": {},
   "outputs": [
    {
     "data": {
      "text/plain": [
       "4    0.531447\n",
       "8    0.254717\n",
       "6    0.194969\n",
       "3    0.009434\n",
       "5    0.009434\n",
       "Name: cylinders, dtype: float64"
      ]
     },
     "execution_count": 14,
     "metadata": {},
     "output_type": "execute_result"
    }
   ],
   "source": [
    "mpg.train.cylinders.value_counts()/len(mpg.train)"
   ]
  },
  {
   "cell_type": "code",
   "execution_count": 15,
   "metadata": {},
   "outputs": [
    {
     "data": {
      "text/plain": [
       "4    0.4375\n",
       "8    0.2750\n",
       "6    0.2750\n",
       "3    0.0125\n",
       "Name: cylinders, dtype: float64"
      ]
     },
     "execution_count": 15,
     "metadata": {},
     "output_type": "execute_result"
    }
   ],
   "source": [
    "mpg.valid.cylinders.value_counts()/len(mpg.valid)"
   ]
  },
  {
   "cell_type": "markdown",
   "metadata": {},
   "source": [
    "# Data selection\n",
    "\n",
    "By default, PipeTorch assumes that the last column is the target variable. All columns except the target columns will be the input features. You can use `columny()` and `columnx()` to change this default bahavior. For filtering, you can just use Pandas."
   ]
  },
  {
   "cell_type": "code",
   "execution_count": 16,
   "metadata": {},
   "outputs": [],
   "source": [
    "wine = read_csv('https://osf.io/8fwaj/download')\n",
    "wine = wine.columny('quality')"
   ]
  },
  {
   "cell_type": "markdown",
   "metadata": {},
   "source": [
    "# Data preprocessing"
   ]
  },
  {
   "cell_type": "markdown",
   "metadata": {},
   "source": [
    "### Scale()\n",
    "\n",
    "Configures feature scaling for the features and target variable in the DataFrame. This effect is not visible in the DataFrame, but applied when data preparation is called. Then scaler is fitted \n",
    "on the training set and used to transform the train, valid and test set. \n",
    "\n",
    "There is also a `scalex` to scale only the input features.\n",
    "\n",
    "```\n",
    "Arguments:\n",
    "    columns: True, str or list of str (True)\n",
    "        the columns to scale (True for all)\n",
    "    scalertype: an SKLearn type scaler (StandardScaler)\n",
    "    omit_interval: (-2,2) when colums is set to True\n",
    "        all columns whose values lie outside the omit_interval,\n",
    "\n",
    "Return: copy of DFrame \n",
    "```"
   ]
  },
  {
   "cell_type": "code",
   "execution_count": 17,
   "metadata": {},
   "outputs": [
    {
     "data": {
      "text/html": [
       "<div>\n",
       "<style scoped>\n",
       "    .dataframe tbody tr th:only-of-type {\n",
       "        vertical-align: middle;\n",
       "    }\n",
       "\n",
       "    .dataframe tbody tr th {\n",
       "        vertical-align: top;\n",
       "    }\n",
       "\n",
       "    .dataframe thead th {\n",
       "        text-align: right;\n",
       "    }\n",
       "</style>\n",
       "<table border=\"1\" class=\"dataframe\">\n",
       "  <thead>\n",
       "    <tr style=\"text-align: right;\">\n",
       "      <th></th>\n",
       "      <th>quality</th>\n",
       "      <th>pH</th>\n",
       "      <th>volatile acidity</th>\n",
       "      <th>alcohol</th>\n",
       "    </tr>\n",
       "  </thead>\n",
       "  <tbody>\n",
       "    <tr>\n",
       "      <th>0</th>\n",
       "      <td>5</td>\n",
       "      <td>3.51</td>\n",
       "      <td>0.70</td>\n",
       "      <td>9.4</td>\n",
       "    </tr>\n",
       "    <tr>\n",
       "      <th>1</th>\n",
       "      <td>5</td>\n",
       "      <td>3.20</td>\n",
       "      <td>0.88</td>\n",
       "      <td>9.8</td>\n",
       "    </tr>\n",
       "    <tr>\n",
       "      <th>2</th>\n",
       "      <td>5</td>\n",
       "      <td>3.26</td>\n",
       "      <td>0.76</td>\n",
       "      <td>9.8</td>\n",
       "    </tr>\n",
       "    <tr>\n",
       "      <th>3</th>\n",
       "      <td>6</td>\n",
       "      <td>3.16</td>\n",
       "      <td>0.28</td>\n",
       "      <td>9.8</td>\n",
       "    </tr>\n",
       "    <tr>\n",
       "      <th>4</th>\n",
       "      <td>5</td>\n",
       "      <td>3.51</td>\n",
       "      <td>0.70</td>\n",
       "      <td>9.4</td>\n",
       "    </tr>\n",
       "  </tbody>\n",
       "</table>\n",
       "</div>"
      ],
      "text/plain": [
       "   quality    pH  volatile acidity  alcohol\n",
       "0        5  3.51              0.70      9.4\n",
       "1        5  3.20              0.88      9.8\n",
       "2        5  3.26              0.76      9.8\n",
       "3        6  3.16              0.28      9.8\n",
       "4        5  3.51              0.70      9.4"
      ]
     },
     "execution_count": 17,
     "metadata": {},
     "output_type": "execute_result"
    }
   ],
   "source": [
    "wine = read_csv('https://osf.io/8fwaj/download')\n",
    "wine.split(0.2).scale().head() # scaling is configured, yet not visible in the DataFrame"
   ]
  },
  {
   "cell_type": "code",
   "execution_count": 18,
   "metadata": {},
   "outputs": [
    {
     "data": {
      "text/plain": [
       "array([[ 1.29165151,  0.7       , -0.94864568],\n",
       "       [-0.71834459,  0.88      , -0.56949867],\n",
       "       [-0.32931309,  0.76      , -0.56949867],\n",
       "       ...,\n",
       "       [ 0.70810426,  0.51      ,  0.56794236],\n",
       "       [ 1.68068302,  0.645     , -0.19035166],\n",
       "       [ 0.5135885 ,  0.31      ,  0.56794236]])"
      ]
     },
     "execution_count": 18,
     "metadata": {},
     "output_type": "execute_result"
    }
   ],
   "source": [
    "wine.scalex().train_X # but it will be when you prepare the data"
   ]
  },
  {
   "cell_type": "markdown",
   "metadata": {},
   "source": [
    "### balance()\n",
    "\n",
    "Oversamples rows in the training set, so that the values of the target variable are better balanced. Only affects the train set. This effect is not visible in the DataFrame, but applied when data preparation is called.\n",
    "\n",
    "```\n",
    "Arguments:\n",
    "    weights: True or dict\n",
    "        when set to True, the target values of the training set are \n",
    "        uniformely distributed,\n",
    "        otherwise a dictionary can be passed that map target values to the \n",
    "        desired fraction of the training set (e.g. {0:0.4, 1:0.6}).\n",
    "\n",
    "Returns: copy of DFrame\n",
    "```"
   ]
  },
  {
   "cell_type": "code",
   "execution_count": 19,
   "metadata": {},
   "outputs": [],
   "source": [
    "wine = read_csv('https://osf.io/8fwaj/download')\n",
    "wine = wine.split(0.2).balance()"
   ]
  },
  {
   "cell_type": "markdown",
   "metadata": {},
   "source": [
    "The original DFrame is not affected"
   ]
  },
  {
   "cell_type": "code",
   "execution_count": 20,
   "metadata": {},
   "outputs": [
    {
     "data": {
      "text/plain": [
       "quality\n",
       "3     10\n",
       "4     53\n",
       "5    681\n",
       "6    638\n",
       "7    199\n",
       "8     18\n",
       "Name: quality, dtype: int64"
      ]
     },
     "execution_count": 20,
     "metadata": {},
     "output_type": "execute_result"
    }
   ],
   "source": [
    "wine.groupby(by='quality').quality.count()"
   ]
  },
  {
   "cell_type": "markdown",
   "metadata": {},
   "source": [
    "But the generated training split is. Roughly 80% was used for training, and rows where duplicated so that the minority classes match the rowcount. Alternatively, you can also supply a weight distribution for the classes to balance()."
   ]
  },
  {
   "cell_type": "code",
   "execution_count": 21,
   "metadata": {},
   "outputs": [
    {
     "data": {
      "text/plain": [
       "quality\n",
       "3    545\n",
       "4    545\n",
       "5    545\n",
       "6    545\n",
       "7    545\n",
       "8    545\n",
       "Name: quality, dtype: int64"
      ]
     },
     "execution_count": 21,
     "metadata": {},
     "output_type": "execute_result"
    }
   ],
   "source": [
    "wine.train.groupby(by='quality').quality.count()"
   ]
  },
  {
   "cell_type": "markdown",
   "metadata": {},
   "source": [
    "### polynomials()\n",
    "\n",
    "Adds (higher-order) polynomials to the data pipeline. This effect is not visible in the DataFrame, but applied when data preparation is called.\n",
    "\n",
    "Note: the generated columns are nameless, therefore you cannot combine polynomials with column\n",
    "specific scaling (only None, all, or only input features).\n",
    "```\n",
    "Example:\n",
    "    df.polynomials(degree=2)\n",
    "        Transforms X to include 2nd order polynomials, see SKLearn PolynomialFeatures\n",
    "\n",
    "Args:\n",
    "    degree: int\n",
    "        degree of the higher-order polynomials \n",
    "    include_bias: bool (False)\n",
    "        whether to generate a bias column\n",
    "\n",
    "Returns: DFrame \n",
    "```"
   ]
  },
  {
   "cell_type": "markdown",
   "metadata": {},
   "source": [
    "The example below selects just the $pH$ column as input feature, adds 2nd degree polynomials and the results is two columns: $pH$ and $pH^2$."
   ]
  },
  {
   "cell_type": "code",
   "execution_count": 74,
   "metadata": {},
   "outputs": [
    {
     "name": "stdout",
     "output_type": "stream",
     "text": [
      "Downloading https://osf.io/8fwaj/download\n"
     ]
    },
    {
     "data": {
      "text/plain": [
       "array([[ 3.51  , 12.3201],\n",
       "       [ 3.2   , 10.24  ],\n",
       "       [ 3.26  , 10.6276],\n",
       "       ...,\n",
       "       [ 3.42  , 11.6964],\n",
       "       [ 3.57  , 12.7449],\n",
       "       [ 3.39  , 11.4921]])"
      ]
     },
     "execution_count": 74,
     "metadata": {},
     "output_type": "execute_result"
    }
   ],
   "source": [
    "wine = read_csv('https://osf.io/8fwaj/download')\n",
    "wine.columnx('pH').polynomials(degree=2).train_X"
   ]
  },
  {
   "cell_type": "markdown",
   "metadata": {},
   "source": [
    "### category()\n",
    "\n",
    "Converts the values in the targetted columns into indices. Since categories are assumed to be nominal, the category numbers are mostly useful in lookup tables (embeddings). Columns that are categorized are excluded from scaling. You cannot use this function together with polynomials or bias.\n",
    "        \n",
    "Note: PipeTorch only identifies categories that are in the training set (as it should be) and uses category 0 as an unknown category number for categories in the validation and test set that are not known during training. This way, no future information is used. \n",
    "        \n",
    "This effect is not inplace, but configured to a copy that is returned. \n",
    "\n",
    "```\n",
    "Args:\n",
    "    columns: str or list of str\n",
    "        list of columns that is to be converted into a category\n",
    "        \n",
    "    sort: True/False (default False) \n",
    "        whether the unique values of these colums should be converted \n",
    "        to indices in sorted order.\n",
    "\n",
    "Returns: DFrame\n",
    "```"
   ]
  },
  {
   "cell_type": "markdown",
   "metadata": {},
   "source": [
    "In the example below, we extract a column `brand` from the `car name`, and then convert this column to a category.  Category 0 will be used for brands that do not appear in the dataset."
   ]
  },
  {
   "cell_type": "code",
   "execution_count": 75,
   "metadata": {},
   "outputs": [],
   "source": [
    "mpg = read_from_kaggle('uciml/autompg-dataset')\n",
    "mpg['brand'] = mpg['car name'].apply(lambda n: n.split()[0])"
   ]
  },
  {
   "cell_type": "code",
   "execution_count": 78,
   "metadata": {},
   "outputs": [
    {
     "data": {
      "text/plain": [
       "array([[4, 'plymouth satellite'],\n",
       "       [6, 'amc rebel sst'],\n",
       "       [2, 'buick estate wagon (sw)'],\n",
       "       [4, 'plymouth duster'],\n",
       "       [23, 'audi 100 ls'],\n",
       "       [0, 'hi 1200d'],\n",
       "       [1, 'chevrolet vega 2300'],\n",
       "       [3, 'ford pinto'],\n",
       "       [1, 'chevrolet impala'],\n",
       "       [5, 'pontiac safari (sw)']], dtype=object)"
      ]
     },
     "execution_count": 78,
     "metadata": {},
     "output_type": "execute_result"
    }
   ],
   "source": [
    "mpg[['brand', 'car name', 'mpg']].split(0.2).category('brand').valid_X[:10]"
   ]
  },
  {
   "cell_type": "markdown",
   "metadata": {},
   "source": [
    "### dummies()\n",
    "\n",
    "Converts the values in the targetted columns into dummy variables. This is an alernative to pd.get_dummies, that only using the train set to assess which values there are (as it should be), setting all variables to 0 for valid/test items that contain an unknown label. That way, no future information is used. Columns that are categorized are excluded from scaling. You cannot use this function together with polynomials or bias.\n",
    "        \n",
    "This effect is not inplace, but configured to a copy that is returned. \n",
    "        \n",
    "```\n",
    "Args:\n",
    "    columns: str or list of str\n",
    "        the columns that are to be converted to dummy variables\n",
    "        \n",
    "    sort: bool (False)\n",
    "        whether the unique values of these colums should be converted \n",
    "        to indices in sorted order.\n",
    "\n",
    "Returns: DFrame \n",
    "```"
   ]
  },
  {
   "cell_type": "code",
   "execution_count": 80,
   "metadata": {},
   "outputs": [
    {
     "data": {
      "text/plain": [
       "array([[0., 0., 0., 1., 0., 0., 0., 0., 0., 0., 0., 0., 0., 0., 0., 0.,\n",
       "        0., 0., 0., 0., 0., 0., 0., 0., 0., 0., 0., 0., 0., 0., 0., 0.,\n",
       "        0., 0., 0., 0.],\n",
       "       [1., 0., 0., 0., 0., 0., 0., 0., 0., 0., 0., 0., 0., 0., 0., 0.,\n",
       "        0., 0., 0., 0., 0., 0., 0., 0., 0., 0., 0., 0., 0., 0., 0., 0.,\n",
       "        0., 0., 0., 0.],\n",
       "       [0., 0., 0., 0., 0., 0., 0., 0., 0., 0., 0., 0., 0., 1., 0., 0.,\n",
       "        0., 0., 0., 0., 0., 0., 0., 0., 0., 0., 0., 0., 0., 0., 0., 0.,\n",
       "        0., 0., 0., 0.],\n",
       "       [0., 0., 0., 0., 0., 0., 0., 0., 0., 0., 0., 0., 0., 0., 0., 0.,\n",
       "        0., 0., 0., 0., 0., 0., 0., 0., 1., 0., 0., 0., 0., 0., 0., 0.,\n",
       "        0., 0., 0., 0.],\n",
       "       [0., 0., 0., 0., 0., 0., 0., 1., 0., 0., 0., 0., 0., 0., 0., 0.,\n",
       "        0., 0., 0., 0., 0., 0., 0., 0., 0., 0., 0., 0., 0., 0., 0., 0.,\n",
       "        0., 0., 0., 0.]])"
      ]
     },
     "execution_count": 80,
     "metadata": {},
     "output_type": "execute_result"
    }
   ],
   "source": [
    "mpg = read_from_kaggle('uciml/autompg-dataset')\n",
    "mpg['brand'] = mpg['car name'].apply(lambda n: n.split()[0])\n",
    "mpg[['brand', 'mpg']].split(0.2).dummies('brand').valid_X[:5]"
   ]
  },
  {
   "cell_type": "markdown",
   "metadata": {},
   "source": [
    "# Visualization\n",
    "\n",
    "Some basic visualization is supported on the subsets only (i.e. train, valid, test). One of the nice things about PipeTorch, is that all data is visualized in its unscaled format, making the plots more easy to interpret."
   ]
  },
  {
   "cell_type": "markdown",
   "metadata": {},
   "source": [
    "### scatter()\n",
    "\n",
    "Plots a scatter graph of this dataset using matplotlib.\n",
    "\n",
    "```\n",
    "Args:\n",
    "    x: str (None)\n",
    "        the column to use on the x-axis. If None, the first input feature is used.\n",
    "\n",
    "    y: str, Array or function (None)\n",
    "        the column to use in the y-axis. If None, the first target feature is used.\n",
    "        You may also pass an array with values (for example model predictions), but these\n",
    "        must be paired with the dataset rows. Alernatively, pass a function(X) that is called on X \n",
    "        to generate y. PipeTorch will attempt to first use a tensor (in case of a PyTorch model) \n",
    "        and when that fails with a Numpy Array.\n",
    "\n",
    "    xlabel: str (None)\n",
    "        the label to use on the x-axis. If None, the name of x is used.\n",
    "\n",
    "    ylabel: str (none)\n",
    "        the label to use on the y-axis. If None, the name of y is used.\n",
    "\n",
    "    title: str (None)\n",
    "        the title used for the figure\n",
    "\n",
    "    kwargs: dict\n",
    "        arguments that are passed to plt.plot\n",
    "```\n"
   ]
  },
  {
   "cell_type": "code",
   "execution_count": 81,
   "metadata": {},
   "outputs": [
    {
     "data": {
      "image/png": "[encoded data removed]",
      "text/plain": [
       "<Figure size 432x288 with 1 Axes>"
      ]
     },
     "metadata": {
      "needs_background": "light"
     },
     "output_type": "display_data"
    }
   ],
   "source": [
    "mpg = read_from_kaggle('uciml/autompg-dataset')\n",
    "df = mpg[['weight', 'mpg']]\n",
    "df.train.scatter(label='train')\n",
    "df.valid.scatter(label='valid')"
   ]
  },
  {
   "cell_type": "markdown",
   "metadata": {},
   "source": [
    "# scatter2d_class\n",
    "\n",
    "Plots a 2d scatter graph of this dataset using matplotlib. The y-label is used as a class label. Alternatively, there are also `scatter2d_size` and `scatter2d_color` functions.\n",
    "```\n",
    "Args:\n",
    "    x1: str (None)\n",
    "        the column to use on the x-axis. If None, the first input feature is used.\n",
    "\n",
    "    x2: str (None)\n",
    "        the column to use on the x-axis. If None, the second input feature is used.\n",
    "\n",
    "    y: str, Array or function (None)\n",
    "        the column to use as the series for the plot. If None, the first target feature is used.\n",
    "        You may also pass an array with values (for example model predictions), but these\n",
    "        must be paired to the dataset rows. Alernatively, pass a function(X) that is called on X \n",
    "        to generate y. PipeTorch will attempt to first use a tensor (in case of a PyTorch model) \n",
    "        and when that fails with a Numpy Array.\n",
    "\n",
    "    xlabel: str (None)\n",
    "        the label to use on the x-axis. If None, the name of x is used.\n",
    "\n",
    "    ylabel: str (none)\n",
    "        the label to use on the y-axis. If None, the name of y is used.\n",
    "\n",
    "    title: str (None)\n",
    "        the title used for the figure\n",
    "\n",
    "    loc: str ('upper right')\n",
    "        passed to plt.legend to place the legend in a certain position\n",
    "\n",
    "    noise: 0 (float)\n",
    "        transforms s0 that x1 and x2 are incremented with noise multiplied by a random number\n",
    "        from their respecrive standard deviation. This allows better visualization of discrete data.\n",
    "\n",
    "    kwargs: dict\n",
    "        arguments that are passed to plt.plot\n",
    "```"
   ]
  },
  {
   "cell_type": "code",
   "execution_count": 84,
   "metadata": {},
   "outputs": [
    {
     "name": "stdout",
     "output_type": "stream",
     "text": [
      "Downloading https://osf.io/8fwaj/download\n"
     ]
    },
    {
     "data": {
      "image/png": "[encoded data removed]",
      "text/plain": [
       "<Figure size 432x288 with 1 Axes>"
      ]
     },
     "metadata": {
      "needs_background": "light"
     },
     "output_type": "display_data"
    }
   ],
   "source": [
    "wine = read_csv('https://osf.io/8fwaj/download')\n",
    "wine[['pH', 'alcohol', 'quality']].train.scatter2d_class()"
   ]
  },
  {
   "cell_type": "markdown",
   "metadata": {},
   "source": [
    "# line()\n",
    "\n",
    "Plots a line graph of this dataset using matplotlib. This is most useful for plotting regression models\n",
    "since the function automatically sorts the data by the x-axis and interpolates the dataset.\n",
    "\n",
    "```\n",
    "Args:\n",
    "    x: str (None)\n",
    "        the column to use on the x-axis. If None, the first input feature is used.\n",
    "\n",
    "    y: str, Array or function (None)\n",
    "        the column to use in the y-axis. If None, the first target feature is used.\n",
    "        You may also pass an array with values (for example model predictions), but these\n",
    "        must be paired with the dataset rows. Alernatively, pass a function(X) that is called on X \n",
    "        to generate y. PipeTorch will attempt to first use a tensor (in case of a PyTorch model) \n",
    "        and when that fails with a Numpy Array.\n",
    "\n",
    "    xlabel: str (None)\n",
    "        the label to use on the x-axis. If None, the name of x is used.\n",
    "\n",
    "    ylabel: str (none)\n",
    "        the label to use on the y-axis. If None, the name of y is used.\n",
    "\n",
    "    title: str (None)\n",
    "        the title used for the figure\n",
    "\n",
    "    kwargs: dict\n",
    "        arguments that are passed to plt.plot\n",
    "```"
   ]
  },
  {
   "cell_type": "markdown",
   "metadata": {},
   "source": [
    "The belows example trains a 3rd degree polynomial using 'weight' as input feature and 'mpg' as target variable. We can then use `line` to plot the function on the scatter plot."
   ]
  },
  {
   "cell_type": "code",
   "execution_count": 85,
   "metadata": {},
   "outputs": [],
   "source": [
    "mpg = read_from_kaggle('uciml/autompg-dataset')\n",
    "df = mpg[['weight', 'mpg']].polynomials(degree=3)"
   ]
  },
  {
   "cell_type": "code",
   "execution_count": 86,
   "metadata": {},
   "outputs": [
    {
     "data": {
      "image/png": "[encoded data removed]",
      "text/plain": [
       "<Figure size 432x288 with 1 Axes>"
      ]
     },
     "metadata": {
      "needs_background": "light"
     },
     "output_type": "display_data"
    }
   ],
   "source": [
    "from sklearn.linear_model import LinearRegression\n",
    "model = LinearRegression()\n",
    "model.fit(df.train_X, df.train_y)\n",
    "df.train.scatter()\n",
    "df.train.line(y=model.predict, c='b')"
   ]
  },
  {
   "cell_type": "markdown",
   "metadata": {},
   "source": [
    "# plot_boundary()\n",
    "\n",
    "Plots a decision boundary for classification models that use exactly two input features. \n",
    "Prior to calling this function, you should already scatter_plot the dataset, beacuse this\n",
    "function uses the minimum and maximum values on the axis to do a grid search. It will then\n",
    "overlay the decision boundary on the existing plot.\n",
    "```\n",
    "Args:\n",
    "    predict: function (None)\n",
    "        a function(X) that is called to classify an X with two features \n",
    "        PipeTorch will attempt to first use a tensor (in case of a PyTorch model) \n",
    "        and when that fails with a Numpy Array.\n",
    "\n",
    "    levels: [ float ] ([0.5])\n",
    "        the levels of the decision boundaries to plot. Pass multiple values or None\n",
    "        to generate a contour plot.\n",
    "\n",
    "    kwargs: dict\n",
    "        arguments that are passed to plt.plot\n",
    "```"
   ]
  },
  {
   "cell_type": "markdown",
   "metadata": {},
   "source": [
    "In the example below, a Decision Tree is fitted on the wine dataset, and the decision boundary is visualized on the dataset. Indicating the boundary where the decision changes."
   ]
  },
  {
   "cell_type": "code",
   "execution_count": 92,
   "metadata": {},
   "outputs": [
    {
     "name": "stdout",
     "output_type": "stream",
     "text": [
      "Downloading https://osf.io/8fwaj/download\n"
     ]
    }
   ],
   "source": [
    "wine = read_csv('https://osf.io/8fwaj/download')\n",
    "wine = wine[['pH', 'alcohol', 'quality']]\n",
    "wine.quality = wine.quality > 5"
   ]
  },
  {
   "cell_type": "code",
   "execution_count": 91,
   "metadata": {},
   "outputs": [
    {
     "data": {
      "image/png": "[encoded data removed]",
      "text/plain": [
       "<Figure size 432x288 with 1 Axes>"
      ]
     },
     "metadata": {
      "needs_background": "light"
     },
     "output_type": "display_data"
    }
   ],
   "source": [
    "from sklearn.tree import DecisionTreeClassifier\n",
    "model = DecisionTreeClassifier(max_depth=3)\n",
    "model.fit(wine.train_X, wine.train_y)\n",
    "wine.train.scatter2d_class(s=2)\n",
    "wine.train.plot_boundary(model.predict)"
   ]
  },
  {
   "cell_type": "markdown",
   "metadata": {},
   "source": [
    "# Data preparation\n",
    "\n",
    "Finally, the data pipeline is configured to prepare the data for use with SKLearn and PyTorch models. The subsets are made available through the `.train`, `.valid` and `.test` properties of the DataFrame. But these will still show the original data, i.e. not transformed. It is not until X and y are called that the data pipeline is executed."
   ]
  },
  {
   "cell_type": "markdown",
   "metadata": {},
   "source": [
    "### Numpy Array\n",
    "\n",
    "To prepare the data as a numpy array, you can access the properties `.train_X`, `.train_y`, `.valid_X`, `.valid_y` and when assigned `.test_X` and `.test_y` "
   ]
  },
  {
   "cell_type": "code",
   "execution_count": 2,
   "metadata": {},
   "outputs": [
    {
     "name": "stdout",
     "output_type": "stream",
     "text": [
      "Downloading https://osf.io/8fwaj/download\n"
     ]
    }
   ],
   "source": [
    "wine = read_csv('https://osf.io/8fwaj/download')\n",
    "wine = wine[['pH', 'alcohol', 'quality']].scale().split(0.2)\n",
    "wine.quality = wine.quality > 5"
   ]
  },
  {
   "cell_type": "code",
   "execution_count": 3,
   "metadata": {},
   "outputs": [
    {
     "data": {
      "text/html": [
       "<div>\n",
       "<style scoped>\n",
       "    .dataframe tbody tr th:only-of-type {\n",
       "        vertical-align: middle;\n",
       "    }\n",
       "\n",
       "    .dataframe tbody tr th {\n",
       "        vertical-align: top;\n",
       "    }\n",
       "\n",
       "    .dataframe thead th {\n",
       "        text-align: right;\n",
       "    }\n",
       "</style>\n",
       "<table border=\"1\" class=\"dataframe\">\n",
       "  <thead>\n",
       "    <tr style=\"text-align: right;\">\n",
       "      <th></th>\n",
       "      <th>pH</th>\n",
       "      <th>alcohol</th>\n",
       "      <th>quality</th>\n",
       "    </tr>\n",
       "  </thead>\n",
       "  <tbody>\n",
       "    <tr>\n",
       "      <th>0</th>\n",
       "      <td>3.51</td>\n",
       "      <td>9.4</td>\n",
       "      <td>False</td>\n",
       "    </tr>\n",
       "    <tr>\n",
       "      <th>2</th>\n",
       "      <td>3.26</td>\n",
       "      <td>9.8</td>\n",
       "      <td>False</td>\n",
       "    </tr>\n",
       "    <tr>\n",
       "      <th>4</th>\n",
       "      <td>3.51</td>\n",
       "      <td>9.4</td>\n",
       "      <td>False</td>\n",
       "    </tr>\n",
       "    <tr>\n",
       "      <th>6</th>\n",
       "      <td>3.30</td>\n",
       "      <td>9.4</td>\n",
       "      <td>False</td>\n",
       "    </tr>\n",
       "    <tr>\n",
       "      <th>7</th>\n",
       "      <td>3.39</td>\n",
       "      <td>10.0</td>\n",
       "      <td>True</td>\n",
       "    </tr>\n",
       "  </tbody>\n",
       "</table>\n",
       "</div>"
      ],
      "text/plain": [
       "     pH  alcohol  quality\n",
       "0  3.51      9.4    False\n",
       "2  3.26      9.8    False\n",
       "4  3.51      9.4    False\n",
       "6  3.30      9.4    False\n",
       "7  3.39     10.0     True"
      ]
     },
     "execution_count": 3,
     "metadata": {},
     "output_type": "execute_result"
    }
   ],
   "source": [
    "wine.train[:5]"
   ]
  },
  {
   "cell_type": "code",
   "execution_count": 4,
   "metadata": {},
   "outputs": [
    {
     "data": {
      "text/plain": [
       "array([[ 1.26215623, -0.96543524],\n",
       "       [-0.32822229, -0.59103849],\n",
       "       [ 1.26215623, -0.96543524],\n",
       "       ...,\n",
       "       [ 0.68961996,  0.53215175],\n",
       "       [ 1.64384707, -0.21664174],\n",
       "       [ 0.49877454,  0.53215175]])"
      ]
     },
     "execution_count": 4,
     "metadata": {},
     "output_type": "execute_result"
    }
   ],
   "source": [
    "wine.train_X # or wine.train.X"
   ]
  },
  {
   "cell_type": "markdown",
   "metadata": {},
   "source": [
    "# DataLoader\n",
    "\n",
    "To prepare the data as a PyTorch DataLoader, you can use `.to_dataloader()`. Alternatively, you can also create just a PyTorch DataSet with `.to_dataset()`, or for more easy use with the PipeTorch Trainer you can use `dataframe.to_databunch()` to generate a single object that wraps dataloaders for all subsets."
   ]
  },
  {
   "cell_type": "code",
   "execution_count": null,
   "metadata": {},
   "outputs": [],
   "source": [
    "wine = read_csv('https://osf.io/8fwaj/download')\n",
    "wine = wine[['pH', 'alcohol', 'quality']].scale().split(0.2)\n",
    "wine.quality = wine.quality > 5"
   ]
  },
  {
   "cell_type": "code",
   "execution_count": 7,
   "metadata": {},
   "outputs": [],
   "source": [
    "train_dl = wine.train.to_dataloader()\n",
    "valid_dl = wine.valid.to_dataloader()"
   ]
  },
  {
   "cell_type": "markdown",
   "metadata": {},
   "source": [
    "Then we can train a PyTorch model on it."
   ]
  },
  {
   "cell_type": "code",
   "execution_count": 10,
   "metadata": {},
   "outputs": [
    {
     "data": {
      "application/vnd.jupyter.widget-view+json": {
       "model_id": "",
       "version_major": 2,
       "version_minor": 0
      },
      "text/plain": [
       "Total:   0%|          | 0/131200 [00:00<?, ?it/s]"
      ]
     },
     "metadata": {},
     "output_type": "display_data"
    },
    {
     "name": "stdout",
     "output_type": "stream",
     "text": [
      " 10 0.33s trainloss=0.58099 validloss=0.56735 f1_score=0.74233 \n",
      " 20 0.31s trainloss=0.58089 validloss=0.56688 f1_score=0.74006 \n",
      " 30 0.31s trainloss=0.58066 validloss=0.56732 f1_score=0.74233 \n",
      " 40 0.31s trainloss=0.58064 validloss=0.56740 f1_score=0.74006 \n",
      " 50 0.32s trainloss=0.58076 validloss=0.56752 f1_score=0.74233 \n",
      " 60 0.31s trainloss=0.58069 validloss=0.56711 f1_score=0.74006 \n",
      " 70 0.31s trainloss=0.58103 validloss=0.56655 f1_score=0.74006 \n",
      " 80 0.31s trainloss=0.58086 validloss=0.56717 f1_score=0.74233 \n",
      " 90 0.31s trainloss=0.58117 validloss=0.56783 f1_score=0.74006 \n",
      "100 0.31s trainloss=0.58098 validloss=0.56686 f1_score=0.74006 \n"
     ]
    }
   ],
   "source": [
    "from pipetorch.model import MultiLayerPerceptron_BinaryClass\n",
    "from pipetorch.train import Trainer\n",
    "from sklearn.metrics import f1_score\n",
    "from torch import nn\n",
    "model = MultiLayerPerceptron_BinaryClass(2, 1)\n",
    "trainer = Trainer(model, nn.BCELoss(), train_dl, valid_dl, metrics=f1_score)\n",
    "trainer.train(100, 1e-2, cycle=10)"
   ]
  },
  {
   "cell_type": "code",
   "execution_count": null,
   "metadata": {},
   "outputs": [],
   "source": []
  }
 ],
 "metadata": {
  "kernelspec": {
   "display_name": "testpt",
   "language": "python",
   "name": "testpt"
  },
  "language_info": {
   "codemirror_mode": {
    "name": "ipython",
    "version": 3
   },
   "file_extension": ".py",
   "mimetype": "text/x-python",
   "name": "python",
   "nbconvert_exporter": "python",
   "pygments_lexer": "ipython3",
   "version": "3.9.7"
  },
  "toc": {
   "base_numbering": 1,
   "nav_menu": {},
   "number_sections": true,
   "sideBar": true,
   "skip_h1_title": true,
   "title_cell": "Table of Contents",
   "title_sidebar": "Contents",
   "toc_cell": false,
   "toc_position": {},
   "toc_section_display": true,
   "toc_window_display": false
  },
  "varInspector": {
   "cols": {
    "lenName": 16,
    "lenType": 16,
    "lenVar": 40
   },
   "kernels_config": {
    "python": {
     "delete_cmd_postfix": "",
     "delete_cmd_prefix": "del ",
     "library": "var_list.py",
     "varRefreshCmd": "print(var_dic_list())"
    },
    "r": {
     "delete_cmd_postfix": ") ",
     "delete_cmd_prefix": "rm(",
     "library": "var_list.r",
     "varRefreshCmd": "cat(var_dic_list()) "
    }
   },
   "types_to_exclude": [
    "module",
    "function",
    "builtin_function_or_method",
    "instance",
    "_Feature"
   ],
   "window_display": false
  }
 },
 "nbformat": 4,
 "nbformat_minor": 4
}

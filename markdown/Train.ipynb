{
 "cells": [
  {
   "cell_type": "markdown",
   "metadata": {},
   "source": [
    "# PipeTorch Train module\n",
    "\n",
    "The train module is build around a general purpose Trainer for PyTorch, to quickly train, tune and validate PyTorch models. Much of the training is readily available in PyTorch, we have mostly made it a bit easier to use. Because of the modular design, you can use this trainer with any PyTorch DataLoader and model.\n",
    "\n",
    "We we cover training in the following topics:\n",
    "- [Quick example](#Quick-example)\n",
    "- [Trainer](#Trainer): how to instantiate and configure the trainer\n",
    "- [train()](#train()): how to train a model\n",
    "- [Commit](#Commit): how to commit and checkout to models\n",
    "- [Model management](#Model-management): how to load and save models\n",
    "- [lr_find()](#lr_find()): to tune the learning rate\n",
    "- [Hyperparameter tuning](#Hyperparameter-tuning): to assist in tuning multiple hyperparameters using random search"
   ]
  },
  {
   "cell_type": "markdown",
   "metadata": {},
   "source": [
    "# Quick example\n",
    "\n",
    "In this example, we will train a model to predict mpg for the autompg dataset. Look at [Trainer configuration](#Trainer) and [train](#train()) for more on the possibilities of training. "
   ]
  },
  {
   "cell_type": "code",
   "execution_count": 1,
   "metadata": {},
   "outputs": [
    {
     "name": "stdout",
     "output_type": "stream",
     "text": [
      "using gpu 1\n"
     ]
    }
   ],
   "source": [
    "from pipetorch.data import DFrame\n",
    "from pipetorch.model import Perceptron\n",
    "from pipetorch.train import *\n",
    "from sklearn.metrics import r2_score\n",
    "from torch import nn"
   ]
  },
  {
   "cell_type": "code",
   "execution_count": 2,
   "metadata": {},
   "outputs": [],
   "source": [
    "df = DFrame.read_from_kaggle('uciml/autompg-dataset')\n",
    "df = df.drop(columns=['car name', 'horsepower']).columny('mpg').split(0.2).scale()\n",
    "db = df.to_databunch(batch_size=32)"
   ]
  },
  {
   "cell_type": "code",
   "execution_count": 3,
   "metadata": {},
   "outputs": [],
   "source": [
    "model = Perceptron(6, 100, 1)   # 6 features, 1 target, hidden layer 100"
   ]
  },
  {
   "cell_type": "code",
   "execution_count": 4,
   "metadata": {},
   "outputs": [],
   "source": [
    "t = Trainer(model, nn.MSELoss(), db, metrics=r2_score)"
   ]
  },
  {
   "cell_type": "code",
   "execution_count": 5,
   "metadata": {},
   "outputs": [],
   "source": [
    "t.train(100, (3e-4), silent=True)"
   ]
  },
  {
   "cell_type": "markdown",
   "metadata": {},
   "source": [
    "You can visually diagnose training through `t.learning_curve()`, `t.validation_curve(y=metric)` or a combined plot of loss and all logged metrics through `t.curves()`"
   ]
  },
  {
   "cell_type": "code",
   "execution_count": 6,
   "metadata": {},
   "outputs": [
    {
     "data": {
      "image/png": "[encoded data removed]",
      "text/plain": [
       "<Figure size 864x288 with 2 Axes>"
      ]
     },
     "metadata": {
      "needs_background": "light"
     },
     "output_type": "display_data"
    }
   ],
   "source": [
    "t.curves()"
   ]
  },
  {
   "cell_type": "markdown",
   "metadata": {},
   "source": [
    "# Trainer\n",
    "\n",
    "A general purpose trainer for PyTorch.\n",
    "```\n",
    "Args:\n",
    "    model: nn.Module\n",
    "        a PyTorch Module that will be trained\n",
    "\n",
    "    loss: callable\n",
    "        a PyTorch or custom loss function. Note that the loss functions in PyTorch have to be initialized, e.g. nn.BCELoss() and not nn.BCELoss\n",
    "\n",
    "    *data: databunch or a list of iterables like DataLoaders\n",
    "        this will take either an object that has a .train_dl, .valid_dl, and optionally .test_dl property,\n",
    "        like  PipeTorch Databunch (but it does not have to be a Databunch). Alternatively, you can \n",
    "        pass a list of at least two iterables (train and valid) like PyTorch DataLoaders. \n",
    "\n",
    "    metrics: callable or [ callable ] ([])\n",
    "        One or more functions that can be called with (y_true, y_pred) to compute an evaluation metric. \n",
    "        These metric function will be used during training, for both the train and valid sets at the \n",
    "        end of each cycle and logged for validation. Typically, the callable is a function from \n",
    "        SKLearn.metrics like mean_squared_error or recall_score. The loss is always logged.\n",
    "\n",
    "    optimizer: PyTorch Optimizer (AdamW)\n",
    "        A PyTorch or custom optimizer class that is used during training to update the model parameters.\n",
    "        You should pass the class and not an optimizer instance. By default, the AdamW optimizer is assumed\n",
    "        and better supported than other optimizers are.\n",
    "\n",
    "    optimizer_params: dict (None)\n",
    "        The parameters that are passed (along with the model parameters) to initialize an optimizer. \n",
    "        When a None value is set, the key is removed, so that the default value is used instead.\n",
    "\n",
    "    scheduler: func or class (None)\n",
    "        A function or class that returns an intialized scheduler that will be used to change \n",
    "        the learning rate and optimizer behavior. Omitting this will allow you to use the lr parameter\n",
    "        on the train() function to invoke a constant, decaying and cyclic scheduler, that will probably\n",
    "        suit most needs. Alternatively, if you set this, the function that is called has to accept\n",
    "        (optimizer, lr, **scheduler_params) as parameters.\n",
    "\n",
    "    scheduler_params: dict (None)\n",
    "        additional parameters that are passed when initializing the scheduler\n",
    "\n",
    "    weight_decay: float (None)\n",
    "        Apply weight_decay regularization with the AdamW optimizer\n",
    "\n",
    "    momentum: float (None)\n",
    "        Apply momentum with the AdamW optimizer\n",
    "\n",
    "    random_state: int (None)\n",
    "        used to set a random state for reproducible results\n",
    "\n",
    "    gpu: bool, int or torch.device (False)\n",
    "        The device to train on:\n",
    "            False or -1: cpu\n",
    "            True: cuda:0, this is probably what you want to train on gpu\n",
    "            int: cuda:gpu\n",
    "        Setting the device will automatically move the model and data to the given device. Note that \n",
    "        the model is not automatically transfered back to cpu afterwards.\n",
    "\n",
    "    evaluator: PipeTorch evaluator (None)\n",
    "        An evaluator that was created by a different trainer or DataFrame, to combine the results of \n",
    "        different training sessions.\n",
    "\n",
    "    post_forward: func (None)\n",
    "        For some projects, the loss function requires a different output than\n",
    "        the metrics that are being used. \n",
    "        \n",
    "        Example 1: For nn.BCELoss() the target value\n",
    "        must be a likelihood, while accuracy_score requires a class label. \n",
    "        The model returns a likelihood with an nn.Sigmoid() on the ouput layer, \n",
    "        but the metrics can only be computed if the likelihood is converted into \n",
    "        a predicted label (e.g. torch.round() ). \n",
    "        \n",
    "        Example 2: nn.CrossEntropyLoss() requires a distribution over the possible labels\n",
    "        while multi-class evaluation matrics require the predicted class. This is commonly\n",
    "        computed with torch.argmax(y, dim=1).\n",
    "        \n",
    "        To allow for this behavior, the trainer can use a post_forward fuction inbetween\n",
    "        loss and metrics. It will attempt to use a post_forward in the following order: \n",
    "        - a function passed here\n",
    "        - a post_forward method that is added to the model\n",
    "        - infer a post_forward based on the loss function. \n",
    "        \n",
    "        For inferring a post_forward based on\n",
    "        the loss function, there is a dictionary in train.POST_FORWARD that covers the \n",
    "        most commonly used loss functions.\n",
    "\n",
    "        If no post_forward is found, and the loss function is unknown, then None is used\n",
    "        and a warning is printed. Pass post_forward=False to suppress this warning.\n",
    "        \n",
    "    debug: bool (False)\n",
    "        Stores X, y and y_pred in properties so that they can be inspected when an error is thrown.\n",
    "        You can use t.debug() to reveal the last values for X, y, model(X) and post_forward(model(X)).\n",
    "```"
   ]
  },
  {
   "cell_type": "markdown",
   "metadata": {},
   "source": [
    "The quick example shows how this can be used with a Databunch. In this alternative, we pass separate dataloaders to the Trainer, turn gpu=True to train the model on the gpu, and lower the default weight_decay (regularization)."
   ]
  },
  {
   "cell_type": "code",
   "execution_count": 7,
   "metadata": {},
   "outputs": [],
   "source": [
    "from pipetorch.data import DFrame\n",
    "from pipetorch.model import Perceptron\n",
    "from pipetorch.train import *\n",
    "from sklearn.metrics import r2_score\n",
    "from torch import nn"
   ]
  },
  {
   "cell_type": "code",
   "execution_count": 8,
   "metadata": {},
   "outputs": [],
   "source": [
    "df = DFrame.read_from_kaggle('uciml/autompg-dataset')\n",
    "df = df.drop(columns=['car name', 'horsepower']).columny('mpg').split(0.2).scale()\n",
    "train_dl = df.train.to_dataloader(batch_size=32)\n",
    "valid_dl = df.valid.to_dataloader(batch_size=len(df.valid))"
   ]
  },
  {
   "cell_type": "code",
   "execution_count": 9,
   "metadata": {},
   "outputs": [],
   "source": [
    "model = Perceptron(6, 100, 1)   # 6 features, 1 target, hidden layer 100"
   ]
  },
  {
   "cell_type": "code",
   "execution_count": 10,
   "metadata": {},
   "outputs": [],
   "source": [
    "t = Trainer(model, nn.MSELoss(), train_dl, valid_dl, metrics=r2_score, gpu=True, weight_decay=1e-4)"
   ]
  },
  {
   "cell_type": "code",
   "execution_count": 11,
   "metadata": {},
   "outputs": [],
   "source": [
    "t.train(100, 1e-4, silent=True, log={'custom':'my value'})"
   ]
  },
  {
   "cell_type": "markdown",
   "metadata": {},
   "source": [
    "### results\n",
    "\n",
    "The values for the loss function and metrics will be stored atthe end of every cycle in a PipeTorch Evaluator, that uses a DataFrame to log all results. If you want to access these for an alternative way to diagnose training, you can access the raw data through `r.evaluator.results`. You can use the `log` parameter on [train()](train()) to record additional information."
   ]
  },
  {
   "cell_type": "code",
   "execution_count": 12,
   "metadata": {},
   "outputs": [
    {
     "data": {
      "text/plain": [
       "       custom  epoch    metric  phase     value\n",
       "0    my value    1.0  r2_score  valid  0.018135\n",
       "1    my value    1.0      loss  valid  0.909932\n",
       "2    my value    1.0  r2_score  train  0.064749\n",
       "3    my value    1.0      loss  train  0.935251\n",
       "4    my value    2.0  r2_score  valid  0.066624\n",
       "..        ...    ...       ...    ...       ...\n",
       "395  my value   99.0      loss  train  0.171425\n",
       "396  my value  100.0  r2_score  valid  0.853293\n",
       "397  my value  100.0      loss  valid  0.135959\n",
       "398  my value  100.0  r2_score  train  0.829248\n",
       "399  my value  100.0      loss  train  0.170752\n",
       "\n",
       "[400 rows x 5 columns]"
      ]
     },
     "execution_count": 12,
     "metadata": {},
     "output_type": "execute_result"
    }
   ],
   "source": [
    "t.evaluator"
   ]
  },
  {
   "cell_type": "markdown",
   "metadata": {},
   "source": [
    "# train()\n",
    "\n",
    "Train the model for the given number of epochs or until a targetloss or earlystop criterium is reached. Loss and metrics are logged at the end of each cycle during training in an evaluator. If a model was already (partially) trained, training will continue where it was left off.\n",
    "```\n",
    "Args:\n",
    "    epochs: int\n",
    "        the number of epochs to train the model\n",
    "\n",
    "    lr: float, (float, float), or [float, float] (None)\n",
    "        float: use a fixed learning rate\n",
    "        (upper, lower): switch the scheduler to OneCycleLR and use a cyclic annealing learning rate\n",
    "            between an upper and lower bound.\n",
    "        [upper, lower]: switch the scheduler to Linear Decay and use a linearly decaying learning rate\n",
    "            between an upper and lower bound.\n",
    "        None: use the last learning rate or the default in AdamW\n",
    "\n",
    "    cycle: int (None)\n",
    "        Configures after how many epochs there are in a cycle the loss and metrics are logged and \n",
    "        reported at the end of every cycle. This is remembered for consecutive calls to train.\n",
    "\n",
    "    silent: bool (False)\n",
    "        Whether to report progress. Note that even when silent=True\n",
    "        the metrics are still logged at the end of every cycle.\n",
    "\n",
    "    log: dict ({})\n",
    "        these values are logged along with the loss and metric scores at the end of each cycle. This makes it\n",
    "        easier to combine several runs into one evaluator, and create an overview (plot) to compare them.\n",
    "\n",
    "    save: str (None)\n",
    "        If not None, saves (commits) the model at the end of each cycle\n",
    "        under the name 'save'-epochnr\n",
    "\n",
    "    optimizer: PyTorch Optimizer (None)\n",
    "        If not None, changes the optimizer class to use.\n",
    "\n",
    "    optimizer_params: dict (None)\n",
    "        If not None, changes the parameters to configure the optimizer.\n",
    "\n",
    "    scheduler: None, custom scheduler class\n",
    "        used to adapt the learning rate. Set OneCycleLR or Linear Decay through the learning rate. \n",
    "        Otherwise, provide a custom class/function to initialize a scheduler by accepting\n",
    "        (optimizer, learning_rate, scheduler_cycle)\n",
    "\n",
    "    scheduler_params: dict (None)\n",
    "        additional parameters that are passed when initializing the scheduler\n",
    "\n",
    "    weight_decay: float\n",
    "        Apply weight_decay regularization with the AdamW optimizer\n",
    "\n",
    "    momentum: float\n",
    "        Apply momentum with the AdamW optimizer\n",
    "\n",
    "    targetloss: float (None)\n",
    "        terminates training when the validation loss drops below the targetloss.\n",
    "\n",
    "    earlystop: int (False)\n",
    "        terminates training when the validation loss has not improved for the last\n",
    "        earlystop cycles.\n",
    "\n",
    "    save_lowest: bool (False)\n",
    "        when the validation loss is lower than seen before, the model is saved/committed as 'lowest' \n",
    "        and can be checked out by calling lowest() on the trainer.\n",
    "\n",
    "    log: {}\n",
    "        At the end of every cycle, the loss and metrics over the train, valid\n",
    "        and optionally test sets are computed and stored in a result set. The\n",
    "        values passed in log are stored along with this metrics. Typically, this\n",
    "        is used with a single trainer that is reused for several 'trials' \n",
    "        to analyze how the results changes. Several functions on the resultset\n",
    "        allow to 'select' results based on these settings, are generate plots\n",
    "        with these settings as 'series'.\n",
    "\n",
    "    test: bool (False)\n",
    "        run the test set every cycle (used for n-fold cross validation)\n",
    "```"
   ]
  },
  {
   "cell_type": "code",
   "execution_count": 13,
   "metadata": {},
   "outputs": [],
   "source": [
    "from pipetorch.data import DFrame\n",
    "from pipetorch.model import Perceptron\n",
    "from pipetorch.train import *\n",
    "from sklearn.metrics import r2_score\n",
    "from torch import nn"
   ]
  },
  {
   "cell_type": "code",
   "execution_count": 14,
   "metadata": {},
   "outputs": [],
   "source": [
    "df = DFrame.read_from_kaggle('uciml/autompg-dataset')\n",
    "df = df.drop(columns=['car name', 'horsepower']).columny('mpg').split(0.2).scale()\n",
    "db = df.to_databunch(batch_size=32)"
   ]
  },
  {
   "cell_type": "code",
   "execution_count": 15,
   "metadata": {},
   "outputs": [],
   "source": [
    "model = Perceptron(6, 100, 1)   # 6 features, 1 target, hidden layer 100"
   ]
  },
  {
   "cell_type": "code",
   "execution_count": 16,
   "metadata": {},
   "outputs": [],
   "source": [
    "t = Trainer(model, nn.MSELoss(), db, metrics=r2_score)"
   ]
  },
  {
   "cell_type": "markdown",
   "metadata": {},
   "source": [
    "Without `silent=True`, the train() method will report losses and metrics over the validation set at the end of every cycle. It will also use a progress bar to give you an indication how long training will take."
   ]
  },
  {
   "cell_type": "code",
   "execution_count": 17,
   "metadata": {},
   "outputs": [
    {
     "data": {
      "application/vnd.jupyter.widget-view+json": {
       "model_id": "",
       "version_major": 2,
       "version_minor": 0
      },
      "text/plain": [
       "Total:   0%|          | 0/6560 [00:00<?, ?it/s]"
      ]
     },
     "metadata": {},
     "output_type": "display_data"
    },
    {
     "name": "stdout",
     "output_type": "stream",
     "text": [
      "10 0.13s trainloss=0.68887 validloss=0.56438 r2_score=0.32453 \n",
      "20 0.12s trainloss=0.47187 validloss=0.39192 r2_score=0.53094 \n"
     ]
    }
   ],
   "source": [
    "t.train(20, 1e-4, cycle=10)"
   ]
  },
  {
   "cell_type": "markdown",
   "metadata": {},
   "source": [
    "A subsequent call to train will continue where you have left off, allowing to change the learning hyperparameters."
   ]
  },
  {
   "cell_type": "code",
   "execution_count": 18,
   "metadata": {},
   "outputs": [
    {
     "data": {
      "application/vnd.jupyter.widget-view+json": {
       "model_id": "",
       "version_major": 2,
       "version_minor": 0
      },
      "text/plain": [
       "Total:   0%|          | 0/6560 [00:00<?, ?it/s]"
      ]
     },
     "metadata": {},
     "output_type": "display_data"
    },
    {
     "name": "stdout",
     "output_type": "stream",
     "text": [
      "30 0.12s trainloss=0.33397 validloss=0.29175 r2_score=0.65082 \n",
      "40 0.12s trainloss=0.27188 validloss=0.24682 r2_score=0.70460 \n"
     ]
    }
   ],
   "source": [
    "t.train(20, 1e-4, cycle=10)"
   ]
  },
  {
   "cell_type": "markdown",
   "metadata": {},
   "source": [
    "# Commit\n",
    "\n",
    "The Trainer provides a mechanism to commit, checkout and revert to different versions of the model. For example, for multi-stage learning a model that may overfit, the process can be automated by training in the first stage, reverting back to the model with the lowest validation loss, and then proceeding with the next stage. There are several options:\n",
    "- t.train(..., save_lowest=True): commits a model if the validation loss is lowest than ever seen. You can retrieve the 'best' model using `t.lowest()`\n",
    "- t.train(..., save='mymodel'): commits versions of the model after every cycle under the name 'mymodel-{epoch}'\n",
    "\n",
    "When working with committed models, you can use the following functions to work with them:\n",
    "- t.commit(label): commits the current model under this label\n",
    "- t.list_commits(): lists the names of all committed models\n",
    "- t.revert(label): returns the model to that committed state and removes the commit point\n",
    "- t.checkout(label): returns the model to that committed state and keeps the commit point\n",
    "- t.purge(label): returns the model to that committed state and removes all other commit points"
   ]
  },
  {
   "cell_type": "code",
   "execution_count": 19,
   "metadata": {},
   "outputs": [],
   "source": [
    "from pipetorch.data import DFrame\n",
    "from pipetorch.model import Perceptron\n",
    "from pipetorch.train import *\n",
    "from sklearn.metrics import r2_score\n",
    "from torch import nn"
   ]
  },
  {
   "cell_type": "code",
   "execution_count": 20,
   "metadata": {},
   "outputs": [],
   "source": [
    "df = DFrame.read_from_kaggle('uciml/autompg-dataset')\n",
    "df = df.drop(columns=['car name', 'horsepower']).columny('mpg').split(0.2).scale()\n",
    "db = df.to_databunch(batch_size=32)"
   ]
  },
  {
   "cell_type": "code",
   "execution_count": 21,
   "metadata": {},
   "outputs": [],
   "source": [
    "model = Perceptron(6, 100, 1)   # 6 features, 1 target, hidden layer 100"
   ]
  },
  {
   "cell_type": "code",
   "execution_count": 22,
   "metadata": {},
   "outputs": [],
   "source": [
    "t = Trainer(model, nn.MSELoss(), db, metrics=r2_score)"
   ]
  },
  {
   "cell_type": "markdown",
   "metadata": {},
   "source": [
    "We will use a learning rate that is to high so that it is likely that the learning curve will oscillate."
   ]
  },
  {
   "cell_type": "code",
   "execution_count": 23,
   "metadata": {},
   "outputs": [
    {
     "data": {
      "application/vnd.jupyter.widget-view+json": {
       "model_id": "",
       "version_major": 2,
       "version_minor": 0
      },
      "text/plain": [
       "Total:   0%|          | 0/32800 [00:00<?, ?it/s]"
      ]
     },
     "metadata": {},
     "output_type": "display_data"
    },
    {
     "name": "stdout",
     "output_type": "stream",
     "text": [
      " 10 0.13s trainloss=0.11634 validloss=0.09712 r2_score=0.91131 \n",
      " 20 0.12s trainloss=0.10446 validloss=0.11478 r2_score=0.89519 \n",
      " 30 0.12s trainloss=0.09807 validloss=0.09653 r2_score=0.91185 \n",
      " 40 0.12s trainloss=0.08955 validloss=0.07551 r2_score=0.93105 \n",
      " 50 0.12s trainloss=0.08146 validloss=0.08662 r2_score=0.92090 \n",
      " 60 0.12s trainloss=0.08999 validloss=0.09134 r2_score=0.91659 \n",
      " 70 0.12s trainloss=0.08482 validloss=0.07986 r2_score=0.92707 \n",
      " 80 0.12s trainloss=0.08690 validloss=0.07284 r2_score=0.93349 \n",
      " 90 0.12s trainloss=0.07247 validloss=0.08108 r2_score=0.92596 \n",
      "100 0.12s trainloss=0.08100 validloss=0.08568 r2_score=0.92176 \n"
     ]
    }
   ],
   "source": [
    "t.train(100, 1e-2, cycle=10, save_lowest=True)"
   ]
  },
  {
   "cell_type": "markdown",
   "metadata": {},
   "source": [
    "Checkout to the lowest version and look at the valdation loss."
   ]
  },
  {
   "cell_type": "code",
   "execution_count": 24,
   "metadata": {},
   "outputs": [],
   "source": [
    "t.lowest()"
   ]
  },
  {
   "cell_type": "code",
   "execution_count": 25,
   "metadata": {},
   "outputs": [
    {
     "data": {
      "text/plain": [
       "0.07283725589513779"
      ]
     },
     "execution_count": 25,
     "metadata": {},
     "output_type": "execute_result"
    }
   ],
   "source": [
    "t.validate_loss()"
   ]
  },
  {
   "cell_type": "markdown",
   "metadata": {},
   "source": [
    "# Model management\n",
    "\n",
    "The Trainer has built-in function to load, save and reset the model:\n",
    "- `t.save(folder, filename, extension)`: saves the current model. By default, currentfolder/classname.pyt-{PyTorch version} will be used.\n",
    "- `t.load(folder, filename, extension)`: loads the saved model.\n",
    "- `t.reset_model()`: reinitializes all weights to random.\n",
    "- `t.to(device)`: changes the configuration to a different device, which will take effect when calling `t.model` or any function that uses the model (like `train()`)\n",
    "  - `False`: cpu\n",
    "  - `True`: cuda:0\n",
    "  - `int`: cuda:{device}"
   ]
  },
  {
   "cell_type": "markdown",
   "metadata": {},
   "source": [
    "# lr_find()\n",
    "\n",
    "This method helps optimizing the learning rate finder of the current model on the current dataset (as proposed by Leslie Smith and implemented in FastAI). This function commits the model, then iteratively trains over mini-batches while slowly increasing the learning rate.\n",
    "\n",
    "The result is a plot of the validation loss over the learning rate. The idea is that the graph contains information on a stable setting of the learning rate and it is recommended to set the learning rate at the lowest learning rate that accelerates improvement of the loss. This does not always work, and often after some training, if learning is not stable, the learning rate still needs to be adjusted. \n",
    "```\n",
    "Args:\n",
    "    lr: [small float, big float] ([1e-6, 10])\n",
    "        Interval of learning rates to inspect\n",
    "        \n",
    "    steps: int (40)\n",
    "        Number of (exponential) steps to divide the learning rate interval in\n",
    "        \n",
    "    smooth: float (0.05)\n",
    "        Smoothing parameter, to generate a more readable graph\n",
    "        \n",
    "    cache_valid: bool (True)\n",
    "        Whether to keep the validation set if possible in memory. Switch off if there is insufficient memory\n",
    "        \n",
    "    interactive: bool (False)\n",
    "        When True, switches your notebook to `matplotlib notebook` mode to update the graph during \n",
    "        the analysis. Afterwards, the notebook is switched to `matplotlib inline` mode to turn \n",
    "        off interactive plots which is probably better for other plots (no widgets around the plots).\n",
    "```"
   ]
  },
  {
   "cell_type": "code",
   "execution_count": 12,
   "metadata": {},
   "outputs": [],
   "source": [
    "from pipetorch.data import DFrame\n",
    "from pipetorch.model import Perceptron\n",
    "from pipetorch.train import *\n",
    "from sklearn.metrics import r2_score\n",
    "from torch import nn"
   ]
  },
  {
   "cell_type": "code",
   "execution_count": 27,
   "metadata": {},
   "outputs": [],
   "source": [
    "df = DFrame.read_from_kaggle('uciml/autompg-dataset')\n",
    "df = df.drop(columns=['car name', 'horsepower']).columny('mpg').split(0.2).scale()\n",
    "db = df.to_databunch(batch_size=32)"
   ]
  },
  {
   "cell_type": "code",
   "execution_count": 28,
   "metadata": {},
   "outputs": [],
   "source": [
    "model = Perceptron(6, 100, 1)   # 6 features, 1 target, hidden layer 100"
   ]
  },
  {
   "cell_type": "code",
   "execution_count": 29,
   "metadata": {},
   "outputs": [],
   "source": [
    "t = Trainer(model, nn.MSELoss(), db, metrics=r2_score)"
   ]
  },
  {
   "cell_type": "markdown",
   "metadata": {},
   "source": [
    "So on this example, a learning rate of 1e-2 is clearly too high, but a setting of 3e-3 may already be too close to the 'danger zone' so that the model does not fully converge. Therefore a setting of 1e-3 may be optimal, since this is where the loss accelerates."
   ]
  },
  {
   "cell_type": "code",
   "execution_count": 30,
   "metadata": {},
   "outputs": [
    {
     "data": {
      "application/vnd.jupyter.widget-view+json": {
       "model_id": "",
       "version_major": 2,
       "version_minor": 0
      },
      "text/plain": [
       "  0%|          | 0/40 [00:00<?, ?it/s]"
      ]
     },
     "metadata": {},
     "output_type": "display_data"
    },
    {
     "data": {
      "image/png": "[encoded data removed]",
      "text/plain": [
       "<Figure size 432x288 with 1 Axes>"
      ]
     },
     "metadata": {
      "needs_background": "light"
     },
     "output_type": "display_data"
    }
   ],
   "source": [
    "t.lr_find([1e-6, 1e-1], 40)"
   ]
  },
  {
   "cell_type": "markdown",
   "metadata": {},
   "source": [
    "# Hyperparameter tuning\n",
    "\n",
    "Hyperparameters are usually not learned directly from training, but by trying out different settings, fully training a model each time and comparing the results. PipeTorch embeds the Optuna library to assist in tuning. You will need to provide a function that performs a 'trail' in which a model is optimally trained and the results are returned. Within this trial function, you will use the Optuna.Trial object that is passed to sample your hyperparameters from a random distribution.\n",
    "\n",
    "When you call `optimize`, `cross_validate` or `study` from the Trainer, you will receive a PipeTorch extension to an Optuna Study, that will call a trial with (trainer, trial) instead of just (trial). This allows you to easily setup your trials with a consistent training process, and record all trials in a single resultset for comparison. Typically, program your `perform_trial` function in the following way:\n",
    "- Sample hyperparameters: use the trial to sample values for the hyperparameters you wish to tune, as described in the Optuna library.\n",
    "- Model: either reset the model (`trainer.reset_model()`) or assign a new model with a different configuration to the trainer (`trainer.model = ...`). Both will reset the epoch counter on the trainer to start recording a new trial.\n",
    "- Train: call [train()](#train()) as usual, allow for enough epochs to optimize over less efficient settings. **Important:** in `train()`, use `log={}` to add a dictionary of values that distinguish the trials. Typically, these are the settings that you tune. If you do not add a log to distinguish trails, you will probably get an error, but otherwise the trainer may not return the correct optimum. You can also use a more sophisticated training routines, consisting of several calls to `train()`, for example adjusting the learning rate.\n",
    "- Optimum: finish with [trainer.optimum()](#Trainer.optimum()). This will return a tuple with the configured metrics of the epoch with the lowest validation loss. The `log={}` values are used to determine what tha recordings are from the current trial. These results are used by Optuna to find the sweet spot for every hyperparameter. \n",
    "\n",
    "Then for the Trainer, consider the following steps:\n",
    "- Metrics: [configure your trainer](#Trainer) with the metrics you wish to optimize for."
   ]
  },
  {
   "cell_type": "code",
   "execution_count": 1,
   "metadata": {},
   "outputs": [
    {
     "name": "stdout",
     "output_type": "stream",
     "text": [
      "using gpu 1\n"
     ]
    }
   ],
   "source": [
    "from pipetorch.data import DFrame\n",
    "from pipetorch.model import Perceptron\n",
    "from pipetorch.train import *\n",
    "from sklearn.metrics import r2_score\n",
    "from torch import nn"
   ]
  },
  {
   "cell_type": "code",
   "execution_count": 2,
   "metadata": {},
   "outputs": [],
   "source": [
    "df = DFrame.read_from_kaggle('uciml/autompg-dataset')\n",
    "df = df.drop(columns=['car name', 'horsepower']).columny('mpg').split(0.2).scale()\n",
    "db = df.to_databunch(batch_size=32)"
   ]
  },
  {
   "cell_type": "code",
   "execution_count": 7,
   "metadata": {},
   "outputs": [],
   "source": [
    "t = Trainer(None, nn.MSELoss(), db, metrics=r2_score)"
   ]
  },
  {
   "cell_type": "code",
   "execution_count": 8,
   "metadata": {},
   "outputs": [],
   "source": [
    "def trial(trainer, trial):\n",
    "    hidden = trial.suggest_int('hidden', 1, 100)\n",
    "    lr = trial.suggest_float('lr', 1e-5, 1e-1, log=True)\n",
    "    trainer.model = Perceptron(6, hidden, 1)\n",
    "    t.train(200, lr=lr, weight_decay=0.01, earlystop=10, silent=True, log={'lr':lr, 'hidden':hidden})\n",
    "    return t.optimum()"
   ]
  },
  {
   "cell_type": "code",
   "execution_count": 10,
   "metadata": {},
   "outputs": [
    {
     "name": "stderr",
     "output_type": "stream",
     "text": [
      "\u001b[32m[I 2022-06-10 08:50:35,334]\u001b[0m A new study created in memory with name: no-name-48f1d988-6761-4977-9beb-8294b3da547a\u001b[0m\n",
      "\u001b[32m[I 2022-06-10 08:50:40,546]\u001b[0m Trial 0 finished with values: [0.09150464087724686, 0.9156586490161833] and parameters: {'hidden': 56, 'lr': 0.002610894784582419}. \u001b[0m\n",
      "\u001b[32m[I 2022-06-10 08:50:45,635]\u001b[0m Trial 1 finished with values: [0.6728812456130981, 0.3797942085065116] and parameters: {'hidden': 14, 'lr': 2.9965715958368795e-05}. \u001b[0m\n",
      "\u001b[32m[I 2022-06-10 08:50:50,907]\u001b[0m Trial 2 finished with values: [0.2590765357017517, 0.7612048437664654] and parameters: {'hidden': 92, 'lr': 2.1717681543404855e-05}. \u001b[0m\n",
      "\u001b[32m[I 2022-06-10 08:50:56,150]\u001b[0m Trial 3 finished with values: [0.09520615637302399, 0.9122469036549361] and parameters: {'hidden': 56, 'lr': 0.009790773708480324}. \u001b[0m\n",
      "\u001b[32m[I 2022-06-10 08:51:01,408]\u001b[0m Trial 4 finished with values: [0.09007344394922256, 0.9169778123657625] and parameters: {'hidden': 64, 'lr': 0.010054678410232137}. \u001b[0m\n",
      "\u001b[32m[I 2022-06-10 08:51:06,666]\u001b[0m Trial 5 finished with values: [0.17039711773395538, 0.8429421467488706] and parameters: {'hidden': 54, 'lr': 8.762011447228777e-05}. \u001b[0m\n",
      "\u001b[32m[I 2022-06-10 08:51:11,917]\u001b[0m Trial 6 finished with values: [0.10087810456752777, 0.9070189743467094] and parameters: {'hidden': 19, 'lr': 0.000794955627375163}. \u001b[0m\n",
      "\u001b[32m[I 2022-06-10 08:51:17,031]\u001b[0m Trial 7 finished with values: [0.254280686378479, 0.7656252549133795] and parameters: {'hidden': 5, 'lr': 0.00011719130851184146}. \u001b[0m\n",
      "\u001b[32m[I 2022-06-10 08:51:22,308]\u001b[0m Trial 8 finished with values: [0.09825696051120758, 0.9094349193762551] and parameters: {'hidden': 67, 'lr': 0.0006360188950901241}. \u001b[0m\n",
      "\u001b[32m[I 2022-06-10 08:51:27,587]\u001b[0m Trial 9 finished with values: [0.4918028712272644, 0.546697123813928] and parameters: {'hidden': 69, 'lr': 1.2295034629724554e-05}. \u001b[0m\n",
      "\u001b[32m[I 2022-06-10 08:51:32,865]\u001b[0m Trial 10 finished with values: [0.08583025634288788, 0.9208888197876995] and parameters: {'hidden': 42, 'lr': 0.017623335892134075}. \u001b[0m\n",
      "\u001b[32m[I 2022-06-10 08:51:38,161]\u001b[0m Trial 11 finished with values: [0.17322590947151184, 0.8403347945403542] and parameters: {'hidden': 79, 'lr': 7.343922889131946e-05}. \u001b[0m\n",
      "\u001b[32m[I 2022-06-10 08:51:43,456]\u001b[0m Trial 12 finished with values: [0.09774936735630035, 0.9099027870075658] and parameters: {'hidden': 46, 'lr': 0.0006064202778779658}. \u001b[0m\n",
      "\u001b[32m[I 2022-06-10 08:51:48,774]\u001b[0m Trial 13 finished with values: [0.10553145408630371, 0.9027299006796929] and parameters: {'hidden': 81, 'lr': 0.0003514790931267511}. \u001b[0m\n",
      "\u001b[32m[I 2022-06-10 08:51:54,086]\u001b[0m Trial 14 finished with values: [0.15657564997673035, 0.8556816212966945] and parameters: {'hidden': 77, 'lr': 6.020005472650751e-05}. \u001b[0m\n",
      "\u001b[32m[I 2022-06-10 08:51:59,401]\u001b[0m Trial 15 finished with values: [0.0870925784111023, 0.9197253185742] and parameters: {'hidden': 76, 'lr': 0.008324010066785473}. \u001b[0m\n",
      "\u001b[32m[I 2022-06-10 08:52:04,772]\u001b[0m Trial 16 finished with values: [0.09535791724920273, 0.9121070139266569] and parameters: {'hidden': 52, 'lr': 0.0016193785849940438}. \u001b[0m\n",
      "\u001b[32m[I 2022-06-10 08:52:10,108]\u001b[0m Trial 17 finished with values: [0.1226823553442955, 0.8869216338623541] and parameters: {'hidden': 92, 'lr': 0.00014483964944236893}. \u001b[0m\n",
      "\u001b[32m[I 2022-06-10 08:52:15,294]\u001b[0m Trial 18 finished with values: [0.8404970169067383, 0.22529991496970025] and parameters: {'hidden': 4, 'lr': 5.2716402217749654e-05}. \u001b[0m\n",
      "\u001b[32m[I 2022-06-10 08:52:20,470]\u001b[0m Trial 19 finished with values: [1.1031520366668701, -0.01679364325500199] and parameters: {'hidden': 3, 'lr': 4.446663838339239e-05}. \u001b[0m\n"
     ]
    }
   ],
   "source": [
    "study = t.optimize(trial, n_trials=20)"
   ]
  },
  {
   "cell_type": "markdown",
   "metadata": {},
   "source": [
    "The resulting plot can be a bit of a puzzle to figure out. Just looking at the loss, the high values indicate bad results. If for a certain hyperparameter a whole region (usually on the left or right hand side of the plot) has bad results, that is an indication the underperformance could have been caused by setting the hyperparameter in that region. However, if another hyperparameter is already causing a bad result, you should disregard that in the analysis of the other hyperparameters. In the future, we may provide a more clever mechanism for this analysis.\n",
    "\n",
    "In this example, you should see that learning rates below $10e-4$ are underperforming, but also that learning rates close to $1e-1$ become too big. In the analysis of the hidden layer size, you should ignore the trails that are underperforming due to a wrong learning rate. Then it appears there is a trend that higher hidden size values perform better. We should rerun with even higher values to find the optimum."
   ]
  },
  {
   "cell_type": "code",
   "execution_count": 11,
   "metadata": {},
   "outputs": [
    {
     "data": {
      "image/png": "[encoded data removed]",
      "text/plain": [
       "<Figure size 576x576 with 4 Axes>"
      ]
     },
     "metadata": {
      "needs_background": "light"
     },
     "output_type": "display_data"
    }
   ],
   "source": [
    "study.plot_hyperparameters()"
   ]
  },
  {
   "cell_type": "markdown",
   "metadata": {},
   "source": [
    "You can also view the flat results in a DataFrame."
   ]
  },
  {
   "cell_type": "code",
   "execution_count": 12,
   "metadata": {},
   "outputs": [
    {
     "data": {
      "text/html": [
       "<div>\n",
       "<style scoped>\n",
       "    .dataframe tbody tr th:only-of-type {\n",
       "        vertical-align: middle;\n",
       "    }\n",
       "\n",
       "    .dataframe tbody tr th {\n",
       "        vertical-align: top;\n",
       "    }\n",
       "\n",
       "    .dataframe thead th {\n",
       "        text-align: right;\n",
       "    }\n",
       "</style>\n",
       "<table border=\"1\" class=\"dataframe\">\n",
       "  <thead>\n",
       "    <tr style=\"text-align: right;\">\n",
       "      <th></th>\n",
       "      <th>trial</th>\n",
       "      <th>parameter</th>\n",
       "      <th>parametersetting</th>\n",
       "      <th>target</th>\n",
       "      <th>targetvalue</th>\n",
       "    </tr>\n",
       "  </thead>\n",
       "  <tbody>\n",
       "    <tr>\n",
       "      <th>0</th>\n",
       "      <td>0</td>\n",
       "      <td>hidden</td>\n",
       "      <td>56.000000</td>\n",
       "      <td>loss</td>\n",
       "      <td>0.091505</td>\n",
       "    </tr>\n",
       "    <tr>\n",
       "      <th>1</th>\n",
       "      <td>0</td>\n",
       "      <td>hidden</td>\n",
       "      <td>56.000000</td>\n",
       "      <td>r2_score</td>\n",
       "      <td>0.915659</td>\n",
       "    </tr>\n",
       "    <tr>\n",
       "      <th>2</th>\n",
       "      <td>0</td>\n",
       "      <td>lr</td>\n",
       "      <td>0.002611</td>\n",
       "      <td>loss</td>\n",
       "      <td>0.091505</td>\n",
       "    </tr>\n",
       "    <tr>\n",
       "      <th>3</th>\n",
       "      <td>0</td>\n",
       "      <td>lr</td>\n",
       "      <td>0.002611</td>\n",
       "      <td>r2_score</td>\n",
       "      <td>0.915659</td>\n",
       "    </tr>\n",
       "    <tr>\n",
       "      <th>4</th>\n",
       "      <td>1</td>\n",
       "      <td>hidden</td>\n",
       "      <td>14.000000</td>\n",
       "      <td>loss</td>\n",
       "      <td>0.672881</td>\n",
       "    </tr>\n",
       "    <tr>\n",
       "      <th>...</th>\n",
       "      <td>...</td>\n",
       "      <td>...</td>\n",
       "      <td>...</td>\n",
       "      <td>...</td>\n",
       "      <td>...</td>\n",
       "    </tr>\n",
       "    <tr>\n",
       "      <th>75</th>\n",
       "      <td>18</td>\n",
       "      <td>lr</td>\n",
       "      <td>0.000053</td>\n",
       "      <td>r2_score</td>\n",
       "      <td>0.225300</td>\n",
       "    </tr>\n",
       "    <tr>\n",
       "      <th>76</th>\n",
       "      <td>19</td>\n",
       "      <td>hidden</td>\n",
       "      <td>3.000000</td>\n",
       "      <td>loss</td>\n",
       "      <td>1.103152</td>\n",
       "    </tr>\n",
       "    <tr>\n",
       "      <th>77</th>\n",
       "      <td>19</td>\n",
       "      <td>hidden</td>\n",
       "      <td>3.000000</td>\n",
       "      <td>r2_score</td>\n",
       "      <td>-0.016794</td>\n",
       "    </tr>\n",
       "    <tr>\n",
       "      <th>78</th>\n",
       "      <td>19</td>\n",
       "      <td>lr</td>\n",
       "      <td>0.000044</td>\n",
       "      <td>loss</td>\n",
       "      <td>1.103152</td>\n",
       "    </tr>\n",
       "    <tr>\n",
       "      <th>79</th>\n",
       "      <td>19</td>\n",
       "      <td>lr</td>\n",
       "      <td>0.000044</td>\n",
       "      <td>r2_score</td>\n",
       "      <td>-0.016794</td>\n",
       "    </tr>\n",
       "  </tbody>\n",
       "</table>\n",
       "<p>80 rows × 5 columns</p>\n",
       "</div>"
      ],
      "text/plain": [
       "    trial parameter  parametersetting    target  targetvalue\n",
       "0       0    hidden         56.000000      loss     0.091505\n",
       "1       0    hidden         56.000000  r2_score     0.915659\n",
       "2       0        lr          0.002611      loss     0.091505\n",
       "3       0        lr          0.002611  r2_score     0.915659\n",
       "4       1    hidden         14.000000      loss     0.672881\n",
       "..    ...       ...               ...       ...          ...\n",
       "75     18        lr          0.000053  r2_score     0.225300\n",
       "76     19    hidden          3.000000      loss     1.103152\n",
       "77     19    hidden          3.000000  r2_score    -0.016794\n",
       "78     19        lr          0.000044      loss     1.103152\n",
       "79     19        lr          0.000044  r2_score    -0.016794\n",
       "\n",
       "[80 rows x 5 columns]"
      ]
     },
     "execution_count": 12,
     "metadata": {},
     "output_type": "execute_result"
    }
   ],
   "source": [
    "study.results()"
   ]
  },
  {
   "cell_type": "markdown",
   "metadata": {},
   "source": [
    "# Trainer.optimum()\n",
    "\n",
    "```\n",
    "Finds the cycle at which optimal results where obtained over the validation set, on the given optimization\n",
    "metric. \n",
    "\n",
    "Args:\n",
    "    *target: str or callable ('loss')\n",
    "        names or metric functions that are used to decide what training cycle the model was most optimal\n",
    "\n",
    "    direction: str or [ str ] (None)\n",
    "        for every target: 'minimize' or 'maximize' to find the highest or lowest value on the given target\n",
    "        If None, 'minimize' is used when optimize is 'loss', otherwise 'maximize' is used\n",
    "\n",
    "    directions: [ str ] (None)\n",
    "        same as direction, but now a list of 'minimize' or 'maximize' for multipe targets.\n",
    "\n",
    "    select: {} (None)\n",
    "        When None, the log={} values from the last call to train() are used. Otherwise, select\n",
    "        is a dictionary with values that distinguish the results from the current trial \n",
    "        to the previous trails, which is needed to find the single best epoch of the current trail\n",
    "        to return the metrics for that epoch.\n",
    "\n",
    "Returns:\n",
    "    [ target ]\n",
    "    A list of target values \n",
    "```"
   ]
  },
  {
   "cell_type": "code",
   "execution_count": 1,
   "metadata": {},
   "outputs": [
    {
     "name": "stdout",
     "output_type": "stream",
     "text": [
      "using gpu 1\n"
     ]
    }
   ],
   "source": [
    "from pipetorch.data import DFrame\n",
    "from pipetorch.model import Perceptron\n",
    "from pipetorch.train import *\n",
    "from sklearn.metrics import r2_score\n",
    "from torch import nn"
   ]
  },
  {
   "cell_type": "code",
   "execution_count": 2,
   "metadata": {},
   "outputs": [],
   "source": [
    "df = DFrame.read_from_kaggle('uciml/autompg-dataset')\n",
    "df = df.drop(columns=['car name', 'horsepower']).columny('mpg').split(0.2).scale()\n",
    "db = df.to_databunch(batch_size=32)"
   ]
  },
  {
   "cell_type": "code",
   "execution_count": 3,
   "metadata": {},
   "outputs": [],
   "source": [
    "t = Trainer(Perceptron(6, 100, 1), nn.MSELoss(), db, metrics=r2_score)"
   ]
  },
  {
   "cell_type": "code",
   "execution_count": 4,
   "metadata": {},
   "outputs": [
    {
     "data": {
      "application/vnd.jupyter.widget-view+json": {
       "model_id": "",
       "version_major": 2,
       "version_minor": 0
      },
      "text/plain": [
       "Total:   0%|          | 0/4000 [00:00<?, ?it/s]"
      ]
     },
     "metadata": {},
     "output_type": "display_data"
    },
    {
     "name": "stdout",
     "output_type": "stream",
     "text": [
      " 1 0.09s trainloss=0.65363 validloss=0.52525 r2_score=0.45151 \n",
      " 2 0.03s trainloss=0.40593 validloss=0.35695 r2_score=0.62726 \n",
      " 3 0.03s trainloss=0.29211 validloss=0.28940 r2_score=0.69779 \n",
      " 4 0.02s trainloss=0.24881 validloss=0.26373 r2_score=0.72460 \n",
      " 5 0.02s trainloss=0.23068 validloss=0.24384 r2_score=0.74537 \n",
      " 6 0.03s trainloss=0.21536 validloss=0.22640 r2_score=0.76358 \n",
      " 7 0.02s trainloss=0.20176 validloss=0.21037 r2_score=0.78032 \n",
      " 8 0.02s trainloss=0.19092 validloss=0.19746 r2_score=0.79380 \n",
      " 9 0.02s trainloss=0.18229 validloss=0.18389 r2_score=0.80798 \n",
      "10 0.03s trainloss=0.17384 validloss=0.17340 r2_score=0.81893 \n"
     ]
    }
   ],
   "source": [
    "t.train(10, lr=1e-3, log={'hidden':100})"
   ]
  },
  {
   "cell_type": "code",
   "execution_count": 5,
   "metadata": {},
   "outputs": [],
   "source": [
    "t.model = Perceptron(6, 200, 1)"
   ]
  },
  {
   "cell_type": "code",
   "execution_count": 6,
   "metadata": {},
   "outputs": [
    {
     "data": {
      "application/vnd.jupyter.widget-view+json": {
       "model_id": "",
       "version_major": 2,
       "version_minor": 0
      },
      "text/plain": [
       "Total:   0%|          | 0/4000 [00:00<?, ?it/s]"
      ]
     },
     "metadata": {},
     "output_type": "display_data"
    },
    {
     "name": "stdout",
     "output_type": "stream",
     "text": [
      " 1 0.03s trainloss=0.77873 validloss=0.52921 r2_score=0.44738 \n",
      " 2 0.03s trainloss=0.34269 validloss=0.29897 r2_score=0.68781 \n",
      " 3 0.03s trainloss=0.24859 validloss=0.25412 r2_score=0.73464 \n",
      " 4 0.03s trainloss=0.22734 validloss=0.21513 r2_score=0.77535 \n",
      " 5 0.02s trainloss=0.19699 validloss=0.19056 r2_score=0.80101 \n",
      " 6 0.02s trainloss=0.18450 validloss=0.17366 r2_score=0.81866 \n",
      " 7 0.02s trainloss=0.17464 validloss=0.16044 r2_score=0.83246 \n",
      " 8 0.03s trainloss=0.16926 validloss=0.14931 r2_score=0.84408 \n",
      " 9 0.02s trainloss=0.15954 validloss=0.14130 r2_score=0.85245 \n",
      "10 0.03s trainloss=0.15667 validloss=0.13484 r2_score=0.85920 \n"
     ]
    }
   ],
   "source": [
    "t.train(10, lr=1e-3, log={'hidden':200})"
   ]
  },
  {
   "cell_type": "code",
   "execution_count": 7,
   "metadata": {},
   "outputs": [
    {
     "data": {
      "text/plain": [
       "[0.1348363757133484, 0.859198487301008]"
      ]
     },
     "execution_count": 7,
     "metadata": {},
     "output_type": "execute_result"
    }
   ],
   "source": [
    "t.optimum()"
   ]
  },
  {
   "cell_type": "code",
   "execution_count": 8,
   "metadata": {},
   "outputs": [
    {
     "data": {
      "text/plain": [
       "[0.859198487301008]"
      ]
     },
     "execution_count": 8,
     "metadata": {},
     "output_type": "execute_result"
    }
   ],
   "source": [
    "t.optimum(r2_score)"
   ]
  },
  {
   "cell_type": "code",
   "execution_count": 11,
   "metadata": {},
   "outputs": [
    {
     "data": {
      "text/plain": [
       "[0.17339988052845, 0.8189289600394625]"
      ]
     },
     "execution_count": 11,
     "metadata": {},
     "output_type": "execute_result"
    }
   ],
   "source": [
    "t.optimum(hidden=100)"
   ]
  }
 ],
 "metadata": {
  "kernelspec": {
   "display_name": "testpt",
   "language": "python",
   "name": "testpt"
  },
  "language_info": {
   "codemirror_mode": {
    "name": "ipython",
    "version": 3
   },
   "file_extension": ".py",
   "mimetype": "text/x-python",
   "name": "python",
   "nbconvert_exporter": "python",
   "pygments_lexer": "ipython3",
   "version": "3.9.7"
  },
  "toc": {
   "base_numbering": 1,
   "nav_menu": {},
   "number_sections": true,
   "sideBar": true,
   "skip_h1_title": true,
   "title_cell": "Table of Contents",
   "title_sidebar": "Contents",
   "toc_cell": false,
   "toc_position": {},
   "toc_section_display": true,
   "toc_window_display": false
  },
  "varInspector": {
   "cols": {
    "lenName": 16,
    "lenType": 16,
    "lenVar": 40
   },
   "kernels_config": {
    "python": {
     "delete_cmd_postfix": "",
     "delete_cmd_prefix": "del ",
     "library": "var_list.py",
     "varRefreshCmd": "print(var_dic_list())"
    },
    "r": {
     "delete_cmd_postfix": ") ",
     "delete_cmd_prefix": "rm(",
     "library": "var_list.r",
     "varRefreshCmd": "cat(var_dic_list()) "
    }
   },
   "types_to_exclude": [
    "module",
    "function",
    "builtin_function_or_method",
    "instance",
    "_Feature"
   ],
   "window_display": false
  }
 },
 "nbformat": 4,
 "nbformat_minor": 4
}

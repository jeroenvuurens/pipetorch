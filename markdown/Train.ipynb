{
 "cells": [
  {
   "cell_type": "markdown",
   "metadata": {},
   "source": [
    "# PipeTorch Train module\n",
    "\n",
    "The train module is build around a general purpose Trainer for PyTorch, to quickly train, tune and validate PyTorch models. Much of the training is readily available in PyTorch, we have mostly made it a bit easier to use. Because of the modular design, you can use this trainer with any PyTorch DataLoader and model.\n",
    "\n",
    "We we cover training in the following topics:\n",
    "- [Quick example](#Quick-example)\n",
    "- [Trainer](#Trainer): how to instantiate and configure the trainer\n",
    "- [train()](#train()): how to train a model\n",
    "- [Commit](#Commit): how to commit and checkout to models\n",
    "- [Model management](#Model-management): how to load and save models\n",
    "- [lr_find()](#lr_find()): to tune the learning rate\n",
    "- [Hyperparameter tuning](#Hyperparameter-tuning): to assist in tuning multiple hyperparameters using random search"
   ]
  },
  {
   "cell_type": "markdown",
   "metadata": {},
   "source": [
    "# Quick example\n",
    "\n",
    "In this example, we will train a model to predict mpg for the autompg dataset. Look at [Trainer configuration](#Trainer) and [train](#train()) for more on the possibilities of training. "
   ]
  },
  {
   "cell_type": "code",
   "execution_count": 1,
   "metadata": {},
   "outputs": [
    {
     "name": "stdout",
     "output_type": "stream",
     "text": [
      "using gpu 3\n"
     ]
    }
   ],
   "source": [
    "from pipetorch.data import read_from_kaggle\n",
    "from pipetorch.model import MultiLayerPerceptron\n",
    "from pipetorch.train import *\n",
    "from sklearn.metrics import r2_score\n",
    "from torch import nn"
   ]
  },
  {
   "cell_type": "code",
   "execution_count": 2,
   "metadata": {},
   "outputs": [],
   "source": [
    "df = read_from_kaggle('uciml/autompg-dataset')\n",
    "df = df.drop(columns=['car name', 'horsepower']).columny('mpg').split(0.2).scale()\n",
    "db = df.to_databunch(batch_size=32)"
   ]
  },
  {
   "cell_type": "code",
   "execution_count": 3,
   "metadata": {},
   "outputs": [],
   "source": [
    "model = MultiLayerPerceptron(6, 100, 1)   # 6 features, 1 target, hidden layer 100"
   ]
  },
  {
   "cell_type": "code",
   "execution_count": 4,
   "metadata": {},
   "outputs": [],
   "source": [
    "t = Trainer(model, nn.MSELoss(), db, metrics=r2_score)"
   ]
  },
  {
   "cell_type": "code",
   "execution_count": 5,
   "metadata": {},
   "outputs": [],
   "source": [
    "t.train(100, (3e-4), silent=True)"
   ]
  },
  {
   "cell_type": "markdown",
   "metadata": {},
   "source": [
    "You can visually diagnose training through `t.learning_curve()`, `t.validation_curve(y=metric)` or a combined plot of loss and all logged metrics through `t.curves()`"
   ]
  },
  {
   "cell_type": "code",
   "execution_count": 6,
   "metadata": {},
   "outputs": [
    {
     "data": {
      "image/png": "[encoded data removed]",
      "text/plain": [
       "<Figure size 864x288 with 2 Axes>"
      ]
     },
     "metadata": {
      "needs_background": "light"
     },
     "output_type": "display_data"
    }
   ],
   "source": [
    "t.curves()"
   ]
  },
  {
   "cell_type": "markdown",
   "metadata": {},
   "source": [
    "# Trainer\n",
    "\n",
    "A general purpose trainer for PyTorch.\n",
    "```\n",
    "Args:\n",
    "    model: nn.Module\n",
    "        a PyTorch Module that will be trained\n",
    "\n",
    "    loss: callable\n",
    "        a PyTorch or custom loss function. Note that the loss functions in PyTorch have to be initialized, e.g. nn.BCELoss() and not nn.BCELoss\n",
    "\n",
    "    *data: databunch or a list of iterables like DataLoaders\n",
    "        this will take either an object that has a .train_dl, .valid_dl, and optionally .test_dl property,\n",
    "        like  PipeTorch Databunch (but it does not have to be a Databunch). Alternatively, you can \n",
    "        pass a list of at least two iterables (train and valid) like PyTorch DataLoaders. \n",
    "\n",
    "    metrics: callable or [ callable ] ([])\n",
    "        One or more functions that can be called with (y_true, y_pred) to compute an evaluation metric. \n",
    "        These metric function will be used during training, for both the train and valid sets at the \n",
    "        end of each cycle and logged for validation. Typically, the callable is a function from \n",
    "        SKLearn.metrics like mean_squared_error or recall_score. The loss is always logged.\n",
    "\n",
    "    optimizer: PyTorch Optimizer (AdamW)\n",
    "        A PyTorch or custom optimizer class that is used during training to update the model parameters.\n",
    "        You should pass the class and not an optimizer instance. By default, the AdamW optimizer is assumed\n",
    "        and better supported than other optimizers are.\n",
    "\n",
    "    optimizer_params: dict (None)\n",
    "        The parameters that are passed (along with the model parameters) to initialize an optimizer. \n",
    "        When a None value is set, the key is removed, so that the default value is used instead.\n",
    "\n",
    "    scheduler: func or class (None)\n",
    "        A function or class that returns an intialized scheduler that will be used to change \n",
    "        the learning rate and optimizer behavior. Omitting this will allow you to use the lr parameter\n",
    "        on the train() function to invoke a constant, decaying and cyclic scheduler, that will probably\n",
    "        suit most needs. Alternatively, if you set this, the function that is called has to accept\n",
    "        (optimizer, lr, **scheduler_params) as parameters.\n",
    "\n",
    "    scheduler_params: dict (None)\n",
    "        additional parameters that are passed when initializing the scheduler\n",
    "\n",
    "    weight_decay: float (None)\n",
    "        Apply weight_decay regularization with the AdamW optimizer\n",
    "\n",
    "    momentum: float (None)\n",
    "        Apply momentum with the AdamW optimizer\n",
    "\n",
    "    random_state: int (None)\n",
    "        used to set a random state for reproducible results\n",
    "\n",
    "    gpu: bool, int or torch.device (False)\n",
    "        The device to train on:\n",
    "            False or -1: cpu\n",
    "            True: cuda:0, this is probably what you want to train on gpu\n",
    "            int: cuda:gpu\n",
    "        Setting the device will automatically move the model and data to the given device. Note that \n",
    "        the model is not automatically transfered back to cpu afterwards.\n",
    "\n",
    "    evaluator: PipeTorch evaluator (None)\n",
    "        An evaluator that was created by a different trainer or DataFrame, to combine the results of \n",
    "        different training sessions.\n",
    "\n",
    "    debug: bool (False)\n",
    "        Stores X, y and y_pred in properties so that they can be inspected when an error is thrown.\n",
    "        You can use t.debug() to reveal the last values for X, y, model(X) and post_forward(model(X)).\n",
    "```"
   ]
  },
  {
   "cell_type": "markdown",
   "metadata": {},
   "source": [
    "The quick example shows how this can be used with a Databunch. In this alternative, we pass separate dataloaders to the Trainer, turn gpu=True to train the model on the gpu, and lower the default weight_decay (regularization)."
   ]
  },
  {
   "cell_type": "code",
   "execution_count": 7,
   "metadata": {},
   "outputs": [],
   "source": [
    "from pipetorch.data import read_from_kaggle\n",
    "from pipetorch.model import MultiLayerPerceptron\n",
    "from pipetorch.train import *\n",
    "from sklearn.metrics import r2_score\n",
    "from torch import nn"
   ]
  },
  {
   "cell_type": "code",
   "execution_count": 8,
   "metadata": {},
   "outputs": [],
   "source": [
    "df = read_from_kaggle('uciml/autompg-dataset')\n",
    "df = df.drop(columns=['car name', 'horsepower']).columny('mpg').split(0.2).scale()\n",
    "train_dl = df.train.to_dataloader(batch_size=32)\n",
    "valid_dl = df.valid.to_dataloader(batch_size=len(df.valid))"
   ]
  },
  {
   "cell_type": "code",
   "execution_count": 34,
   "metadata": {},
   "outputs": [],
   "source": [
    "model = MultiLayerPerceptron(6, 100, 1)   # 6 features, 1 target, hidden layer 100"
   ]
  },
  {
   "cell_type": "code",
   "execution_count": 35,
   "metadata": {},
   "outputs": [],
   "source": [
    "t = Trainer(model, nn.MSELoss(), train_dl, valid_dl, metrics=r2_score, gpu=True, weight_decay=1e-4)"
   ]
  },
  {
   "cell_type": "code",
   "execution_count": 37,
   "metadata": {},
   "outputs": [],
   "source": [
    "t.train(100, 1e-4, silent=True, log={'custom':'my value'})"
   ]
  },
  {
   "cell_type": "markdown",
   "metadata": {},
   "source": [
    "### results\n",
    "\n",
    "The values for the loss function and metrics will be stored atthe end of every cycle in a PipeTorch Evaluator, that uses a DataFrame to log all results. If you want to access these for an alternative way to diagnose training, you can access the raw data through `r.evaluator.results`. You can use the `log` parameter on [train()](train()) to record additional information."
   ]
  },
  {
   "cell_type": "code",
   "execution_count": 38,
   "metadata": {},
   "outputs": [
    {
     "data": {
      "text/plain": [
       "       custom  epoch    metric  phase     value\n",
       "0    my value    1.0  r2_score  train -0.151563\n",
       "1    my value    1.0      loss  train  1.151563\n",
       "2    my value    1.0  r2_score  valid -0.187579\n",
       "3    my value    1.0      loss  valid  0.802477\n",
       "4    my value    2.0  r2_score  train -0.108562\n",
       "..        ...    ...       ...    ...       ...\n",
       "395  my value   99.0      loss  valid  0.121905\n",
       "396  my value  100.0  r2_score  train  0.809705\n",
       "397  my value  100.0      loss  train  0.190295\n",
       "398  my value  100.0  r2_score  valid  0.820075\n",
       "399  my value  100.0      loss  valid  0.121580\n",
       "\n",
       "[400 rows x 5 columns]"
      ]
     },
     "execution_count": 38,
     "metadata": {},
     "output_type": "execute_result"
    }
   ],
   "source": [
    "t.evaluator"
   ]
  },
  {
   "cell_type": "markdown",
   "metadata": {},
   "source": [
    "# train()\n",
    "\n",
    "Train the model for the given number of epochs or until a targetloss or earlystop criterium is reached. Loss and metrics are logged at the end of each cycle during training in an evaluator. If a model was already (partially) trained, training will continue where it was left off.\n",
    "```\n",
    "Args:\n",
    "    epochs: int\n",
    "        the number of epochs to train the model\n",
    "\n",
    "    lr: float, (float, float), or [float, float] (None)\n",
    "        float: use a fixed learning rate\n",
    "        (upper, lower): switch the scheduler to OneCycleLR and use a cyclic annealing learning rate\n",
    "            between an upper and lower bound.\n",
    "        [upper, lower]: switch the scheduler to Linear Decay and use a linearly decaying learning rate\n",
    "            between an upper and lower bound.\n",
    "        None: use the last learning rate or the default in AdamW\n",
    "\n",
    "    cycle: int (None)\n",
    "        Configures after how many epochs there are in a cycle the loss and metrics are logged and \n",
    "        reported at the end of every cycle. This is remembered for consecutive calls to train.\n",
    "\n",
    "    silent: bool (False)\n",
    "        Whether to report progress. Note that even when silent=True\n",
    "        the metrics are still logged at the end of every cycle.\n",
    "\n",
    "    log: dict ({})\n",
    "        these values are logged along with the loss and metric scores at the end of each cycle. This makes it\n",
    "        easier to combine several runs into one evaluator, and create an overview (plot) to compare them.\n",
    "\n",
    "    save: str (None)\n",
    "        If not None, saves (commits) the model at the end of each cycle\n",
    "        under the name 'save'-epochnr\n",
    "\n",
    "    optimizer: PyTorch Optimizer (None)\n",
    "        If not None, changes the optimizer class to use.\n",
    "\n",
    "    optimizer_params: dict (None)\n",
    "        If not None, changes the parameters to configure the optimizer.\n",
    "\n",
    "    scheduler: None, custom scheduler class\n",
    "        used to adapt the learning rate. Set OneCycleLR or Linear Decay through the learning rate. \n",
    "        Otherwise, provide a custom class/function to initialize a scheduler by accepting\n",
    "        (optimizer, learning_rate, scheduler_cycle)\n",
    "\n",
    "    scheduler_params: dict (None)\n",
    "        additional parameters that are passed when initializing the scheduler\n",
    "\n",
    "    weight_decay: float\n",
    "        Apply weight_decay regularization with the AdamW optimizer\n",
    "\n",
    "    momentum: float\n",
    "        Apply momentum with the AdamW optimizer\n",
    "\n",
    "    targetloss: float (None)\n",
    "        terminates training when the validation loss drops below the targetloss.\n",
    "\n",
    "    earlystop: int (False)\n",
    "        terminates training when the validation loss has not improved for the last\n",
    "        earlystop cycles.\n",
    "\n",
    "    save_lowest: bool (False)\n",
    "        when the validation loss is lower than seen before, the model is saved/committed as 'lowest' \n",
    "        and can be checked out by calling lowest() on the trainer.\n",
    "\n",
    "    test: bool (False)\n",
    "        run the test set every cycle (used for n-fold cross validation)\n",
    "```"
   ]
  },
  {
   "cell_type": "code",
   "execution_count": 17,
   "metadata": {},
   "outputs": [],
   "source": [
    "from pipetorch.data import read_from_kaggle\n",
    "from pipetorch.model import MultiLayerPerceptron\n",
    "from pipetorch.train import *\n",
    "from sklearn.metrics import r2_score\n",
    "from torch import nn"
   ]
  },
  {
   "cell_type": "code",
   "execution_count": 18,
   "metadata": {},
   "outputs": [],
   "source": [
    "df = read_from_kaggle('uciml/autompg-dataset')\n",
    "df = df.drop(columns=['car name', 'horsepower']).columny('mpg').split(0.2).scale()\n",
    "db = df.to_databunch(batch_size=32)"
   ]
  },
  {
   "cell_type": "code",
   "execution_count": 19,
   "metadata": {},
   "outputs": [],
   "source": [
    "model = MultiLayerPerceptron(6, 100, 1)   # 6 features, 1 target, hidden layer 100"
   ]
  },
  {
   "cell_type": "code",
   "execution_count": 20,
   "metadata": {},
   "outputs": [],
   "source": [
    "t = Trainer(model, nn.MSELoss(), db, metrics=r2_score)"
   ]
  },
  {
   "cell_type": "markdown",
   "metadata": {},
   "source": [
    "Without `silent=True`, the train() method will report losses and metrics over the validation set at the end of every cycle. It will also use a progress bar to give you an indication how long training will take."
   ]
  },
  {
   "cell_type": "code",
   "execution_count": 21,
   "metadata": {},
   "outputs": [
    {
     "data": {
      "application/vnd.jupyter.widget-view+json": {
       "model_id": "",
       "version_major": 2,
       "version_minor": 0
      },
      "text/plain": [
       "Total:   0%|          | 0/32800 [00:00<?, ?it/s]"
      ]
     },
     "metadata": {},
     "output_type": "display_data"
    },
    {
     "name": "stdout",
     "output_type": "stream",
     "text": [
      " 10 0.12s trainloss=0.75410 validloss=0.83395 r2_score=0.25708 \n",
      " 20 0.11s trainloss=0.46932 validloss=0.53495 r2_score=0.52344 \n",
      " 30 0.11s trainloss=0.31561 validloss=0.35630 r2_score=0.68260 \n",
      " 40 0.11s trainloss=0.24100 validloss=0.25902 r2_score=0.76925 \n",
      " 50 0.11s trainloss=0.20737 validloss=0.20763 r2_score=0.81503 \n",
      " 60 0.11s trainloss=0.18972 validloss=0.17983 r2_score=0.83980 \n",
      " 70 0.11s trainloss=0.17832 validloss=0.16254 r2_score=0.85520 \n",
      " 80 0.11s trainloss=0.16966 validloss=0.15084 r2_score=0.86562 \n",
      " 90 0.11s trainloss=0.16261 validloss=0.14193 r2_score=0.87357 \n",
      "100 0.11s trainloss=0.15675 validloss=0.13492 r2_score=0.87980 \n"
     ]
    }
   ],
   "source": [
    "t.train(20, 1e-4, cycle=10)"
   ]
  },
  {
   "cell_type": "markdown",
   "metadata": {},
   "source": [
    "A subsequent call to train will continue where you have left off, allowing to change the learning hyperparameters."
   ]
  },
  {
   "cell_type": "code",
   "execution_count": 21,
   "metadata": {},
   "outputs": [
    {
     "data": {
      "application/vnd.jupyter.widget-view+json": {
       "model_id": "",
       "version_major": 2,
       "version_minor": 0
      },
      "text/plain": [
       "Total:   0%|          | 0/32800 [00:00<?, ?it/s]"
      ]
     },
     "metadata": {},
     "output_type": "display_data"
    },
    {
     "name": "stdout",
     "output_type": "stream",
     "text": [
      " 10 0.12s trainloss=0.75410 validloss=0.83395 r2_score=0.25708 \n",
      " 20 0.11s trainloss=0.46932 validloss=0.53495 r2_score=0.52344 \n",
      " 30 0.11s trainloss=0.31561 validloss=0.35630 r2_score=0.68260 \n",
      " 40 0.11s trainloss=0.24100 validloss=0.25902 r2_score=0.76925 \n",
      " 50 0.11s trainloss=0.20737 validloss=0.20763 r2_score=0.81503 \n",
      " 60 0.11s trainloss=0.18972 validloss=0.17983 r2_score=0.83980 \n",
      " 70 0.11s trainloss=0.17832 validloss=0.16254 r2_score=0.85520 \n",
      " 80 0.11s trainloss=0.16966 validloss=0.15084 r2_score=0.86562 \n",
      " 90 0.11s trainloss=0.16261 validloss=0.14193 r2_score=0.87357 \n",
      "100 0.11s trainloss=0.15675 validloss=0.13492 r2_score=0.87980 \n"
     ]
    }
   ],
   "source": [
    "t.train(20, 1e-4, cycle=10)"
   ]
  },
  {
   "cell_type": "markdown",
   "metadata": {},
   "source": [
    "# Commit\n",
    "\n",
    "The Trainer provides a mechanism to commit, checkout and revert to different versions of the model. For example, for multi-stage learning a model that may overfit, the process can be automated by training in the first stage, reverting back to the model with the lowest validation loss, and then proceeding with the next stage. There are several options:\n",
    "- t.train(..., save_lowest=True): commits a model if the validation loss is lowest than ever seen. You can retrieve the 'best' model using `t.lowest()`\n",
    "- t.train(..., save='mymodel'): commits versions of the model after every cycle under the name 'mymodel-{epoch}'\n",
    "\n",
    "When working with committed models, you can use the following functions to work with them:\n",
    "- t.commit(label): commits the current model under this label\n",
    "- t.list_commits(): lists the names of all committed models\n",
    "- t.revert(label): returns the model to that committed state and removes the commit point\n",
    "- t.checkout(label): returns the model to that committed state and keeps the commit point\n",
    "- t.purge(label): returns the model to that committed state and removes all other commit points"
   ]
  },
  {
   "cell_type": "code",
   "execution_count": 27,
   "metadata": {},
   "outputs": [],
   "source": [
    "from pipetorch.data import read_from_kaggle\n",
    "from pipetorch.model import MultiLayerPerceptron\n",
    "from pipetorch.train import *\n",
    "from sklearn.metrics import r2_score\n",
    "from torch import nn"
   ]
  },
  {
   "cell_type": "code",
   "execution_count": 28,
   "metadata": {},
   "outputs": [],
   "source": [
    "df = read_from_kaggle('uciml/autompg-dataset')\n",
    "df = df.drop(columns=['car name', 'horsepower']).columny('mpg').split(0.2).scale()\n",
    "db = df.to_databunch(batch_size=32)"
   ]
  },
  {
   "cell_type": "code",
   "execution_count": 29,
   "metadata": {},
   "outputs": [],
   "source": [
    "model = MultiLayerPerceptron(6, 100, 1)   # 6 features, 1 target, hidden layer 100"
   ]
  },
  {
   "cell_type": "code",
   "execution_count": 30,
   "metadata": {},
   "outputs": [],
   "source": [
    "t = Trainer(model, nn.MSELoss(), db, metrics=r2_score)"
   ]
  },
  {
   "cell_type": "markdown",
   "metadata": {},
   "source": [
    "We will use a learning rate that is to high so that it is likely that the learning curve will oscillate."
   ]
  },
  {
   "cell_type": "code",
   "execution_count": 31,
   "metadata": {},
   "outputs": [
    {
     "data": {
      "application/vnd.jupyter.widget-view+json": {
       "model_id": "",
       "version_major": 2,
       "version_minor": 0
      },
      "text/plain": [
       "Total:   0%|          | 0/32800 [00:00<?, ?it/s]"
      ]
     },
     "metadata": {},
     "output_type": "display_data"
    },
    {
     "name": "stdout",
     "output_type": "stream",
     "text": [
      " 10 0.13s trainloss=0.10180 validloss=0.13363 r2_score=0.84765 \n",
      " 20 0.11s trainloss=0.09145 validloss=0.13107 r2_score=0.85057 \n",
      " 30 0.11s trainloss=0.07667 validloss=0.12739 r2_score=0.85477 \n",
      " 40 0.11s trainloss=0.07047 validloss=0.14073 r2_score=0.83956 \n",
      " 50 0.12s trainloss=0.06782 validloss=0.14495 r2_score=0.83475 \n",
      " 60 0.11s trainloss=0.06236 validloss=0.13502 r2_score=0.84607 \n",
      " 70 0.11s trainloss=0.06644 validloss=0.14442 r2_score=0.83535 \n",
      " 80 0.11s trainloss=0.06451 validloss=0.15433 r2_score=0.82405 \n",
      " 90 0.11s trainloss=0.05354 validloss=0.14231 r2_score=0.83775 \n",
      "100 0.11s trainloss=0.06567 validloss=0.17476 r2_score=0.80077 \n"
     ]
    }
   ],
   "source": [
    "t.train(100, 1e-2, cycle=10, save_lowest=True)"
   ]
  },
  {
   "cell_type": "markdown",
   "metadata": {},
   "source": [
    "Checkout to the lowest version and look at the valdation loss."
   ]
  },
  {
   "cell_type": "code",
   "execution_count": 32,
   "metadata": {},
   "outputs": [],
   "source": [
    "t.lowest()"
   ]
  },
  {
   "cell_type": "code",
   "execution_count": 33,
   "metadata": {},
   "outputs": [
    {
     "data": {
      "text/plain": [
       "0.12738972902297974"
      ]
     },
     "execution_count": 33,
     "metadata": {},
     "output_type": "execute_result"
    }
   ],
   "source": [
    "t.validate_loss()"
   ]
  },
  {
   "cell_type": "markdown",
   "metadata": {},
   "source": [
    "# Model management\n",
    "\n",
    "The Trainer has built-in function to load, save and reset the model:\n",
    "- `t.save(folder, filename, extension)`: saves the current model. By default, currentfolder/classname.pyt-{PyTorch version} will be used.\n",
    "- `t.load(folder, filename, extension)`: loads the saved model.\n",
    "- `t.reset_model()`: reinitializes all weights to random.\n",
    "- `t.to(device)`: changes the configuration to a different device, which will take effect when calling `t.model` or any function that uses the model (like `train()`)\n",
    "  - `False`: cpu\n",
    "  - `True`: cuda:0\n",
    "  - `int`: cuda:{device}"
   ]
  },
  {
   "cell_type": "markdown",
   "metadata": {},
   "source": [
    "# lr_find()\n",
    "\n",
    "This method helps optimizing the learning rate finder of the current model on the current dataset (as proposed by Leslie Smith and implemented in FastAI). This function commits the model, then iteratively trains over mini-batches while slowly increasing the learning rate.\n",
    "\n",
    "The result is a plot of the validation loss over the learning rate. The idea is that the graph contains information on a stable setting of the learning rate and it is recommended to set the learning rate at the lowest learning rate that accelerates improvement of the loss. This does not always work, and often after some training, if learning is not stable, the learning rate still needs to be adjusted. \n",
    "```\n",
    "Args:\n",
    "    lr: [small float, big float] ([1e-6, 10])\n",
    "        Interval of learning rates to inspect\n",
    "        \n",
    "    steps: int (40)\n",
    "        number of (exponential) steps to divide the learning rate interval in\n",
    "        \n",
    "    smooth: float (0.05)\n",
    "        smoothing parameter, to generate a more readable graph\n",
    "        \n",
    "    cache_valid: bool (True)\n",
    "        whether to keep the validation set if possible in memory. Switch off if there is insufficient memory\n",
    "```"
   ]
  },
  {
   "cell_type": "code",
   "execution_count": 27,
   "metadata": {},
   "outputs": [],
   "source": [
    "from pipetorch.data import read_from_kaggle\n",
    "from pipetorch.model import MultiLayerPerceptron\n",
    "from pipetorch.train import *\n",
    "from sklearn.metrics import r2_score\n",
    "from torch import nn"
   ]
  },
  {
   "cell_type": "code",
   "execution_count": 28,
   "metadata": {},
   "outputs": [],
   "source": [
    "df = read_from_kaggle('uciml/autompg-dataset')\n",
    "df = df.drop(columns=['car name', 'horsepower']).columny('mpg').split(0.2).scale()\n",
    "db = df.to_databunch(batch_size=32)"
   ]
  },
  {
   "cell_type": "code",
   "execution_count": 29,
   "metadata": {},
   "outputs": [],
   "source": [
    "model = MultiLayerPerceptron(6, 100, 1)   # 6 features, 1 target, hidden layer 100"
   ]
  },
  {
   "cell_type": "code",
   "execution_count": 30,
   "metadata": {},
   "outputs": [],
   "source": [
    "t = Trainer(model, nn.MSELoss(), db, metrics=r2_score)"
   ]
  },
  {
   "cell_type": "markdown",
   "metadata": {},
   "source": [
    "So on this example, a learning rate of 1e-2 is clearly too high, but a setting of 3e-3 may already be too close to the 'danger zone' so that the model does not fully converge. Therefore a setting of 1e-3 may be optimal, since this is where the loss accelerates."
   ]
  },
  {
   "cell_type": "code",
   "execution_count": 39,
   "metadata": {},
   "outputs": [
    {
     "data": {
      "application/vnd.jupyter.widget-view+json": {
       "model_id": "",
       "version_major": 2,
       "version_minor": 0
      },
      "text/plain": [
       "  0%|          | 0/40 [00:00<?, ?it/s]"
      ]
     },
     "metadata": {},
     "output_type": "display_data"
    },
    {
     "data": {
      "image/png": "[encoded data removed]",
      "text/plain": [
       "<Figure size 432x288 with 1 Axes>"
      ]
     },
     "metadata": {
      "needs_background": "light"
     },
     "output_type": "display_data"
    }
   ],
   "source": [
    "t.lr_find([1e-6, 1e-1], 40)"
   ]
  },
  {
   "cell_type": "markdown",
   "metadata": {},
   "source": [
    "# Hyperparameter tuning\n",
    "\n",
    "Hyperparameters are usually not learned directly from training, but by trying out different settings, fully training a model each time and comparing the results. PipeTorch embeds the Optuna library to assist in tuning. You will need to provide a function that performs a 'trail' in which a model is optimally trained and the results are returned. Within this trial function, you will use the Optuna.Trial object that is passed to sample your hyperparameters from a random distribution. "
   ]
  },
  {
   "cell_type": "code",
   "execution_count": 1,
   "metadata": {},
   "outputs": [
    {
     "name": "stdout",
     "output_type": "stream",
     "text": [
      "using gpu 3\n"
     ]
    }
   ],
   "source": [
    "from pipetorch.data import read_from_kaggle\n",
    "from pipetorch.model import MultiLayerPerceptron\n",
    "from pipetorch.train import *\n",
    "from sklearn.metrics import r2_score\n",
    "from torch import nn"
   ]
  },
  {
   "cell_type": "code",
   "execution_count": 2,
   "metadata": {},
   "outputs": [],
   "source": [
    "df = read_from_kaggle('uciml/autompg-dataset')\n",
    "df = df.drop(columns=['car name', 'horsepower']).columny('mpg').split(0.2).scale()\n",
    "db = df.to_databunch(batch_size=32)"
   ]
  },
  {
   "cell_type": "code",
   "execution_count": 3,
   "metadata": {},
   "outputs": [],
   "source": [
    "model = MultiLayerPerceptron(6, 100, 1)   # 6 features, 1 target, hidden layer 100"
   ]
  },
  {
   "cell_type": "code",
   "execution_count": 4,
   "metadata": {},
   "outputs": [],
   "source": [
    "t = Trainer(None, nn.MSELoss(), db, metrics=r2_score)"
   ]
  },
  {
   "cell_type": "code",
   "execution_count": 5,
   "metadata": {},
   "outputs": [],
   "source": [
    "def trial(trial):\n",
    "    hidden = trial.suggest_int('hidden', 1, 100)\n",
    "    lr = trial.suggest_float('lr', 1e-5, 1e-1, log=True)\n",
    "    t.model = MultiLayerPerceptron(6, hidden, 1)\n",
    "    t.train(200, lr=lr, weight_decay=0.01, earlystop=10, silent=True)\n",
    "    return t.optimum()"
   ]
  },
  {
   "cell_type": "code",
   "execution_count": 8,
   "metadata": {},
   "outputs": [
    {
     "name": "stderr",
     "output_type": "stream",
     "text": [
      "\u001b[32m[I 2022-05-20 13:50:44,555]\u001b[0m A new study created in memory with name: no-name-9a4265c5-236d-487c-921d-d7d139395404\u001b[0m\n",
      "\u001b[32m[I 2022-05-20 13:50:48,533]\u001b[0m Trial 0 finished with values: [0.1612110435962677, 0.8275476491249673] and parameters: {'hidden': 53, 'lr': 5.410505336551586e-05}. \u001b[0m\n",
      "\u001b[32m[I 2022-05-20 13:50:52,492]\u001b[0m Trial 1 finished with values: [0.10742572695016861, 0.8850834549841478] and parameters: {'hidden': 64, 'lr': 0.03457458938723495}. \u001b[0m\n",
      "\u001b[32m[I 2022-05-20 13:50:56,460]\u001b[0m Trial 2 finished with values: [0.20831303298473358, 0.7771612541187393] and parameters: {'hidden': 84, 'lr': 4.0113085377124966e-05}. \u001b[0m\n",
      "\u001b[32m[I 2022-05-20 13:51:00,408]\u001b[0m Trial 3 finished with values: [0.18193528056144714, 0.8053783098243776] and parameters: {'hidden': 61, 'lr': 3.35164097433887e-05}. \u001b[0m\n",
      "\u001b[32m[I 2022-05-20 13:51:04,376]\u001b[0m Trial 4 finished with values: [0.0984058827161789, 0.8947322567465477] and parameters: {'hidden': 96, 'lr': 0.031859090559517654}. \u001b[0m\n",
      "\u001b[32m[I 2022-05-20 13:51:08,307]\u001b[0m Trial 5 finished with values: [0.0961398035287857, 0.8971563529248353] and parameters: {'hidden': 72, 'lr': 0.0027238058133934357}. \u001b[0m\n",
      "\u001b[32m[I 2022-05-20 13:51:12,219]\u001b[0m Trial 6 finished with values: [0.3358716368675232, 0.6407079441723887] and parameters: {'hidden': 24, 'lr': 4.239600234059804e-05}. \u001b[0m\n",
      "\u001b[32m[I 2022-05-20 13:51:16,168]\u001b[0m Trial 7 finished with values: [0.21353915333747864, 0.7715707155296985] and parameters: {'hidden': 94, 'lr': 2.006911989706534e-05}. \u001b[0m\n",
      "\u001b[32m[I 2022-05-20 13:51:20,131]\u001b[0m Trial 8 finished with values: [0.09988368302583694, 0.8931514038034006] and parameters: {'hidden': 95, 'lr': 0.003496745980523374}. \u001b[0m\n",
      "\u001b[32m[I 2022-05-20 13:51:24,038]\u001b[0m Trial 9 finished with values: [0.10251814126968384, 0.8903332458470447] and parameters: {'hidden': 27, 'lr': 0.0011212341069709974}. \u001b[0m\n",
      "\u001b[32m[I 2022-05-20 13:51:27,968]\u001b[0m Trial 10 finished with values: [0.10625120252370834, 0.8863398808613199] and parameters: {'hidden': 58, 'lr': 0.00034176155642923347}. \u001b[0m\n",
      "\u001b[32m[I 2022-05-20 13:51:31,904]\u001b[0m Trial 11 finished with values: [0.21750402450561523, 0.76732934246445] and parameters: {'hidden': 41, 'lr': 3.517259064922903e-05}. \u001b[0m\n",
      "\u001b[32m[I 2022-05-20 13:51:35,822]\u001b[0m Trial 12 finished with values: [0.11224780231714249, 0.8799251227392642] and parameters: {'hidden': 35, 'lr': 0.07888476872133862}. \u001b[0m\n",
      "\u001b[32m[I 2022-05-20 13:51:39,741]\u001b[0m Trial 13 finished with values: [0.10695189237594604, 0.8855903251848712] and parameters: {'hidden': 46, 'lr': 0.00024686459105001754}. \u001b[0m\n",
      "\u001b[32m[I 2022-05-20 13:51:43,693]\u001b[0m Trial 14 finished with values: [0.23025362193584442, 0.7536907262907184] and parameters: {'hidden': 95, 'lr': 1.9380919179481262e-05}. \u001b[0m\n",
      "\u001b[32m[I 2022-05-20 13:51:47,622]\u001b[0m Trial 15 finished with values: [0.09920890629291534, 0.8938732306639615] and parameters: {'hidden': 43, 'lr': 0.00045262888697930056}. \u001b[0m\n",
      "\u001b[32m[I 2022-05-20 13:51:51,549]\u001b[0m Trial 16 finished with values: [0.09980906546115875, 0.8932312200725306] and parameters: {'hidden': 54, 'lr': 0.01287217852078245}. \u001b[0m\n",
      "\u001b[32m[I 2022-05-20 13:51:55,493]\u001b[0m Trial 17 finished with values: [0.09878876805305481, 0.8943226690954162] and parameters: {'hidden': 81, 'lr': 0.007277900298990264}. \u001b[0m\n",
      "\u001b[32m[I 2022-05-20 13:51:59,447]\u001b[0m Trial 18 finished with values: [0.11027050018310547, 0.8820403149045767] and parameters: {'hidden': 63, 'lr': 0.0003860314492517632}. \u001b[0m\n",
      "\u001b[32m[I 2022-05-20 13:52:03,387]\u001b[0m Trial 19 finished with values: [0.10664206743240356, 0.8859217647289205] and parameters: {'hidden': 72, 'lr': 0.06590413505394323}. \u001b[0m\n"
     ]
    }
   ],
   "source": [
    "study = t.optimize(trial, n_trials=20)"
   ]
  },
  {
   "cell_type": "markdown",
   "metadata": {},
   "source": [
    "The resulting plot can be a bit of a puzzle to figure out. Just looking at the loss, the high values indicate bad results. If for a certain hyperparameter a whole region (usually on the left or right hand side of the plot) has bad results, that is an indication the underperformance could have been caused by setting the hyperparameter in that region. However, if another hyperparameter is already causing a bad result, you should disregard that in the analysis of the other hyperparameters. In the future, we may provide a more clever mechanism for this analysis.\n",
    "\n",
    "In this example, you should see that learning rates below $10e-4$ are underperforming, but also that learning rates close to $1e-1$ become too big. In the analysis of the hidden layer size, you should ignore the trails that are underperforming due to a wrong learning rate. Then it appears there is a trend that higher hidden size values perform better. We should rerun with even higher values to find the optimum."
   ]
  },
  {
   "cell_type": "code",
   "execution_count": 9,
   "metadata": {},
   "outputs": [
    {
     "data": {
      "image/png": "[encoded data removed]",
      "text/plain": [
       "<Figure size 576x576 with 4 Axes>"
      ]
     },
     "metadata": {
      "needs_background": "light"
     },
     "output_type": "display_data"
    }
   ],
   "source": [
    "study.plot_hyperparameters()"
   ]
  },
  {
   "cell_type": "markdown",
   "metadata": {},
   "source": [
    "You can also view the flat results in a DataFrame."
   ]
  },
  {
   "cell_type": "code",
   "execution_count": 10,
   "metadata": {},
   "outputs": [
    {
     "data": {
      "text/html": [
       "<div>\n",
       "<style scoped>\n",
       "    .dataframe tbody tr th:only-of-type {\n",
       "        vertical-align: middle;\n",
       "    }\n",
       "\n",
       "    .dataframe tbody tr th {\n",
       "        vertical-align: top;\n",
       "    }\n",
       "\n",
       "    .dataframe thead th {\n",
       "        text-align: right;\n",
       "    }\n",
       "</style>\n",
       "<table border=\"1\" class=\"dataframe\">\n",
       "  <thead>\n",
       "    <tr style=\"text-align: right;\">\n",
       "      <th></th>\n",
       "      <th>trial</th>\n",
       "      <th>parameter</th>\n",
       "      <th>parametersetting</th>\n",
       "      <th>target</th>\n",
       "      <th>targetvalue</th>\n",
       "    </tr>\n",
       "  </thead>\n",
       "  <tbody>\n",
       "    <tr>\n",
       "      <th>0</th>\n",
       "      <td>0</td>\n",
       "      <td>hidden</td>\n",
       "      <td>13.000000</td>\n",
       "      <td>loss</td>\n",
       "      <td>0.145850</td>\n",
       "    </tr>\n",
       "    <tr>\n",
       "      <th>1</th>\n",
       "      <td>0</td>\n",
       "      <td>hidden</td>\n",
       "      <td>13.000000</td>\n",
       "      <td>r2_score</td>\n",
       "      <td>0.839916</td>\n",
       "    </tr>\n",
       "    <tr>\n",
       "      <th>2</th>\n",
       "      <td>0</td>\n",
       "      <td>lr</td>\n",
       "      <td>0.001018</td>\n",
       "      <td>loss</td>\n",
       "      <td>0.145850</td>\n",
       "    </tr>\n",
       "    <tr>\n",
       "      <th>3</th>\n",
       "      <td>0</td>\n",
       "      <td>lr</td>\n",
       "      <td>0.001018</td>\n",
       "      <td>r2_score</td>\n",
       "      <td>0.839916</td>\n",
       "    </tr>\n",
       "    <tr>\n",
       "      <th>4</th>\n",
       "      <td>1</td>\n",
       "      <td>hidden</td>\n",
       "      <td>1.000000</td>\n",
       "      <td>loss</td>\n",
       "      <td>0.170760</td>\n",
       "    </tr>\n",
       "    <tr>\n",
       "      <th>5</th>\n",
       "      <td>1</td>\n",
       "      <td>hidden</td>\n",
       "      <td>1.000000</td>\n",
       "      <td>r2_score</td>\n",
       "      <td>0.812575</td>\n",
       "    </tr>\n",
       "    <tr>\n",
       "      <th>6</th>\n",
       "      <td>1</td>\n",
       "      <td>lr</td>\n",
       "      <td>0.075344</td>\n",
       "      <td>loss</td>\n",
       "      <td>0.170760</td>\n",
       "    </tr>\n",
       "    <tr>\n",
       "      <th>7</th>\n",
       "      <td>1</td>\n",
       "      <td>lr</td>\n",
       "      <td>0.075344</td>\n",
       "      <td>r2_score</td>\n",
       "      <td>0.812575</td>\n",
       "    </tr>\n",
       "    <tr>\n",
       "      <th>8</th>\n",
       "      <td>2</td>\n",
       "      <td>hidden</td>\n",
       "      <td>76.000000</td>\n",
       "      <td>loss</td>\n",
       "      <td>0.599156</td>\n",
       "    </tr>\n",
       "    <tr>\n",
       "      <th>9</th>\n",
       "      <td>2</td>\n",
       "      <td>hidden</td>\n",
       "      <td>76.000000</td>\n",
       "      <td>r2_score</td>\n",
       "      <td>0.342371</td>\n",
       "    </tr>\n",
       "    <tr>\n",
       "      <th>10</th>\n",
       "      <td>2</td>\n",
       "      <td>lr</td>\n",
       "      <td>0.000013</td>\n",
       "      <td>loss</td>\n",
       "      <td>0.599156</td>\n",
       "    </tr>\n",
       "    <tr>\n",
       "      <th>11</th>\n",
       "      <td>2</td>\n",
       "      <td>lr</td>\n",
       "      <td>0.000013</td>\n",
       "      <td>r2_score</td>\n",
       "      <td>0.342371</td>\n",
       "    </tr>\n",
       "  </tbody>\n",
       "</table>\n",
       "</div>"
      ],
      "text/plain": [
       "    trial parameter  parametersetting    target  targetvalue\n",
       "0       0    hidden         13.000000      loss     0.145850\n",
       "1       0    hidden         13.000000  r2_score     0.839916\n",
       "2       0        lr          0.001018      loss     0.145850\n",
       "3       0        lr          0.001018  r2_score     0.839916\n",
       "4       1    hidden          1.000000      loss     0.170760\n",
       "5       1    hidden          1.000000  r2_score     0.812575\n",
       "6       1        lr          0.075344      loss     0.170760\n",
       "7       1        lr          0.075344  r2_score     0.812575\n",
       "8       2    hidden         76.000000      loss     0.599156\n",
       "9       2    hidden         76.000000  r2_score     0.342371\n",
       "10      2        lr          0.000013      loss     0.599156\n",
       "11      2        lr          0.000013  r2_score     0.342371"
      ]
     },
     "execution_count": 10,
     "metadata": {},
     "output_type": "execute_result"
    }
   ],
   "source": [
    "study.results()"
   ]
  },
  {
   "cell_type": "code",
   "execution_count": null,
   "metadata": {},
   "outputs": [],
   "source": []
  }
 ],
 "metadata": {
  "kernelspec": {
   "display_name": "testpt",
   "language": "python",
   "name": "testpt"
  },
  "language_info": {
   "codemirror_mode": {
    "name": "ipython",
    "version": 3
   },
   "file_extension": ".py",
   "mimetype": "text/x-python",
   "name": "python",
   "nbconvert_exporter": "python",
   "pygments_lexer": "ipython3",
   "version": "3.9.7"
  },
  "toc": {
   "base_numbering": 1,
   "nav_menu": {},
   "number_sections": true,
   "sideBar": true,
   "skip_h1_title": true,
   "title_cell": "Table of Contents",
   "title_sidebar": "Contents",
   "toc_cell": false,
   "toc_position": {},
   "toc_section_display": true,
   "toc_window_display": false
  },
  "varInspector": {
   "cols": {
    "lenName": 16,
    "lenType": 16,
    "lenVar": 40
   },
   "kernels_config": {
    "python": {
     "delete_cmd_postfix": "",
     "delete_cmd_prefix": "del ",
     "library": "var_list.py",
     "varRefreshCmd": "print(var_dic_list())"
    },
    "r": {
     "delete_cmd_postfix": ") ",
     "delete_cmd_prefix": "rm(",
     "library": "var_list.r",
     "varRefreshCmd": "cat(var_dic_list()) "
    }
   },
   "types_to_exclude": [
    "module",
    "function",
    "builtin_function_or_method",
    "instance",
    "_Feature"
   ],
   "window_display": false
  }
 },
 "nbformat": 4,
 "nbformat_minor": 4
}

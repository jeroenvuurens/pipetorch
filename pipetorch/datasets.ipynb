{
 "cells": [
  {
   "cell_type": "code",
   "execution_count": 2,
   "id": "regulated-acquisition",
   "metadata": {},
   "outputs": [
    {
     "name": "stdout",
     "output_type": "stream",
     "text": [
      "Overwriting datasets.py\n"
     ]
    }
   ],
   "source": [
    "%%writefile datasets.py\n",
    "from .ptdataframe import PTDataFrame, read_csv, read_excel\n",
    "import pandas as pd\n",
    "import numpy as np\n",
    "import pickle\n",
    "from sklearn.datasets import load_boston, load_iris\n",
    "\n",
    "def wine_quality():\n",
    "    return read_csv('https://archive.ics.uci.edu/ml/machine-learning-databases/wine-quality/winequality-red.csv', delimiter=';')\n",
    "\n",
    "def telco_churn():\n",
    "    return read_csv('https://github.com/pmservice/wml-sample-models/raw/master/spark/customer-satisfaction-prediction/data/WA_Fn%20UseC_%20Telco%20Customer%20Churn.csv')\n",
    "\n",
    "def movie_ratings():\n",
    "    def read():\n",
    "        COLS = ['user_id', 'movie_id', 'rating', 'timestamp']\n",
    "        return pd.read_csv(\"https://raw.githubusercontent.com/ChicagoBoothML/DATA___MovieLens___1M/master/ratings.dat\",sep='::', engine='python', names=COLS)\n",
    "    return read_csv(\"ratings.dat\", alternativesource=read)\n",
    "\n",
    "def dam_outflow():\n",
    "    try:\n",
    "        with open(\"/data/datasets/dam_water_data.pickle\", \"rb\") as myfile:\n",
    "            X_train, X_val, X_test, X_all, y_train, y_val, y_test, y_all = pickle.load(myfile)\n",
    "            train_indices = [ i for i, v in enumerate(X_all) if (X_train == v).any() ]\n",
    "            X_all = X_all.astype(np.float32)\n",
    "            y_all = y_all.astype(np.float32)\n",
    "            df = PTDataFrame(np.concatenate([X_all, y_all.reshape(-1, 1)], axis=1), columns=['waterlevel', 'outflow'])\n",
    "        return df\n",
    "    except:\n",
    "        print('This dataset is not online, but was taken from Andrew Ng\\'s Coursera course')\n",
    "\n",
    "def boston_housing_prices():\n",
    "    \"\"\"\n",
    "    Load the Boston Housing Prices dataset and return it as a Pandas Dataframe\n",
    "    \"\"\"\n",
    "    boston = load_boston()\n",
    "    df = pd.DataFrame(boston['data'] )\n",
    "    df.columns = boston['feature_names']\n",
    "    df['PRICE'] = boston['target']\n",
    "    return PTDataFrame(df)\n",
    "\n",
    "def iris():\n",
    "    iris=load_iris()\n",
    "    df = pd.DataFrame(data=np.c_[iris['data'], iris['target']],\n",
    "                      columns= iris['feature_names'] + ['target'])\n",
    "    return PTDataFrame(df)\n",
    "\n",
    "def bank_marketing():\n",
    "    return read_csv(\"https://github.com/llhthinker/MachineLearningLab/raw/master/UCI%20Bank%20Marketing%20Data%20Set/data/bank-additional/bank-additional-full.csv\", sep=';')\n",
    "\n",
    "def auto_mpg():\n",
    "    return read_csv('https://raw.githubusercontent.com/joanby/python-ml-course/master/datasets/auto/auto-mpg.csv')\n",
    "\n",
    "def big_mart_sales():\n",
    "    return read_csv('https://raw.githubusercontent.com/akki8087/Big-Mart-Sales/master/Train.csv')\n",
    "\n",
    "def advertising_channels():\n",
    "    return read_csv('https://raw.githubusercontent.com/nguyen-toan/ISLR/master/dataset/Advertising.csv').iloc[:,1:]\n",
    "\n",
    "def titanic_survivors():\n",
    "    return read_csv('https://web.stanford.edu/class/archive/cs/cs109/cs109.1166/stuff/titanic.csv')\n",
    "\n",
    "def diamonds():\n",
    "    return read_csv('https://raw.githubusercontent.com/SiphuLangeni/Diamond-Price-Prediction/master/Diamonds.csv')\n",
    "\n",
    "def indian_liver():\n",
    "    return read_csv('https://archive.ics.uci.edu/ml/machine-learning-databases/00225/Indian%20Liver%20Patient%20Dataset%20(ILPD).csv')\n",
    "                   #names=[\"Age\", \"Gender\", \"Total Bilirubin\", \"Direct Bilirubin\", \"Alkphos Alkaline Phosphotase\", \"Sgpt Alamine Aminotransferase\", \"Sgot Aspartate Aminotransferase\", \"Total Protiens\", \"Albumin\", \"Albumin-Globulin Ratio\", \"Disease\"])\n",
    "\n",
    "def ames_housing():\n",
    "    return read_excel('http://www.amstat.org/publications/jse/v19n3/decock/AmesHousing.xls')\n",
    "    \n",
    "def flight_passengers():\n",
    "    import seaborn as sns\n",
    "    df = sns.load_dataset('flights')\n",
    "    #df['month'] = df.month.map({'Jan':0, 'Feb':1, 'Mar':2, 'Apr':3, 'May':4, 'Jun':5, 'Jul':6, 'Aug':7, 'Sep':8, 'Oct':9, 'Nov':10, 'Dec':11}).astype(np.float32)\n",
    "    return PTDataFrame(df)\n",
    "\n",
    "_ptdatasetslist = [('Indian Liver Disease', 'pt.indian_liver()', 'https://archive.ics.uci.edu/ml/datasets/ILPD+(Indian+Liver+Patient+Dataset)'),\n",
    "            ('Historial flight passengers', 'pt.flight_passengers()', 'From Seaborn library'),\n",
    "            ('Advertising channels', 'pt.advertising_channels()', 'https://www.kaggle.com/ashydv/advertising-dataset'),\n",
    "            ('Titanic survival', 'pt.titanic()', 'https://www.kaggle.com/c/titanic'),\n",
    "            ('Big Mart Sales', 'pt.big_mart_sales()', 'https://medium.com/total-data-science/big-mart-sales-data-science-projects-98919293c1b3'),\n",
    "            ('Auto MPG', 'pt.auto_mpg()', 'https://archive.ics.uci.edu/ml/datasets/auto+mpg'),\n",
    "            ('Bank Marketing', 'pt.bank_marketing()', 'https://archive.ics.uci.edu/ml/datasets/bank+marketing'),\n",
    "            ('Iris', 'pt.iris()', 'https://archive.ics.uci.edu/ml/datasets/iris'),\n",
    "            ('Boston Housing Prices', 'pt.boston_housing_prices()', 'https://www.cs.toronto.edu/~delve/data/boston/bostonDetail.html'),\n",
    "            ('Movie Ratings', 'pt.movie_ratings()', 'https://grouplens.org/datasets/movielens/1m/'),\n",
    "            ('Wine Quality', 'pt.wine_quality()', 'https://archive.ics.uci.edu/ml/datasets/wine+quality'),\n",
    "            ('Telco Churn', 'pt.telco_churn()', 'https://www.kaggle.com/blastchar/telco-customer-churn'),\n",
    "            ('Dam water outflow', 'pt.dam_outflow()', 'From Andrew Ng\\'s Coursera Course'),\n",
    "            ('Kaggle House Prices Competition', 'pt.house_prices()', 'http://www.amstat.org/publications/jse/v19n3/decock/AmesHousing.xls')\n",
    "           ]\n",
    "datasets = pd.DataFrame(_ptdatasetslist, columns=['dataset', 'method', 'url'])"
   ]
  },
  {
   "cell_type": "code",
   "execution_count": null,
   "id": "distinct-friendship",
   "metadata": {},
   "outputs": [],
   "source": []
  }
 ],
 "metadata": {
  "kernelspec": {
   "display_name": "Python 3",
   "language": "python",
   "name": "python3"
  },
  "language_info": {
   "codemirror_mode": {
    "name": "ipython",
    "version": 3
   },
   "file_extension": ".py",
   "mimetype": "text/x-python",
   "name": "python",
   "nbconvert_exporter": "python",
   "pygments_lexer": "ipython3",
   "version": "3.6.13"
  },
  "varInspector": {
   "cols": {
    "lenName": 16,
    "lenType": 16,
    "lenVar": 40
   },
   "kernels_config": {
    "python": {
     "delete_cmd_postfix": "",
     "delete_cmd_prefix": "del ",
     "library": "var_list.py",
     "varRefreshCmd": "print(var_dic_list())"
    },
    "r": {
     "delete_cmd_postfix": ") ",
     "delete_cmd_prefix": "rm(",
     "library": "var_list.r",
     "varRefreshCmd": "cat(var_dic_list()) "
    }
   },
   "types_to_exclude": [
    "module",
    "function",
    "builtin_function_or_method",
    "instance",
    "_Feature"
   ],
   "window_display": false
  }
 },
 "nbformat": 4,
 "nbformat_minor": 5
}

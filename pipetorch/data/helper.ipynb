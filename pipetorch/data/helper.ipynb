{
 "cells": [
  {
   "cell_type": "code",
   "execution_count": 1,
   "id": "77e4c1d9",
   "metadata": {},
   "outputs": [
    {
     "name": "stdout",
     "output_type": "stream",
     "text": [
      "Overwriting helper.py\n"
     ]
    }
   ],
   "source": [
    "%%writefile helper.py\n",
    "from pathlib import Path\n",
    "import pandas as pd\n",
    "import shutil\n",
    "import os\n",
    "from io import StringIO\n",
    "import pkgutil\n",
    "from zipfile import ZipFile\n",
    "from collections import Counter\n",
    "\n",
    "def read_torchtext(torchtext_function):\n",
    "    try:\n",
    "        return torchtext_function(root=path_shared() )\n",
    "    except:\n",
    "        return torchtext_function(root=path_user() )\n",
    "\n",
    "def path_user(dataset=None):\n",
    "    if dataset is not None:\n",
    "        return Path.home() / '.pipetorchuser' / dataset.split('/')[-1]\n",
    "    return Path.home() / '.pipetorchuser'\n",
    "\n",
    "def path_shared(dataset=None):\n",
    "    if dataset is not None:\n",
    "        return Path.home() / '.pipetorch' / dataset.split('/')[-1]    \n",
    "    return Path.home() / '.pipetorch'\n",
    "\n",
    "def get_stored_path(filename, path=None):\n",
    "    if path is not None:\n",
    "        storedpath = path / filename\n",
    "    else:\n",
    "        storedpath = (path_user() / filename)\n",
    "        if not storedpath.exists():\n",
    "            storedpath = (path_shared() / filename)\n",
    "        if not storedpath.exists():\n",
    "            storedpath = (path_user() / filename)\n",
    "    return storedpath\n",
    "\n",
    "def get_filename(url):\n",
    "    fragment_removed = url.split(\"#\")[0]  # keep to left of first #\n",
    "    query_string_removed = fragment_removed.split(\"?\")[0]\n",
    "    scheme_removed = query_string_removed.split(\"://\")[-1].split(\":\")[-1]\n",
    "    if scheme_removed.find(\"/\") == -1:\n",
    "        filename = scheme_removed\n",
    "    else:\n",
    "        filename = os.path.basename(scheme_removed)\n",
    "    if '.' in filename:\n",
    "        filename = filename.rsplit( \".\", 1 )[ 0 ] + '.csv'\n",
    "    return filename\n",
    "\n",
    "def to_csv(df, filename, **kwargs):\n",
    "    kwargs = { key:value for key, value in kwargs.items() if key in {'sep', 'quoting', 'quotechar', 'lineterminator', 'decimal', 'line_terminator', 'doublequote', 'escapechar'}}\n",
    "    kwargs['index'] = False\n",
    "    if 'sep' in kwargs and len(kwargs['sep']) > 1:\n",
    "        sep = kwargs['sep']\n",
    "        kwargs['sep'] = '¤'\n",
    "        csv = df.to_csv(**kwargs).replace('¤', sep)\n",
    "        with open(filename, 'w') as fout:\n",
    "            fout.write(csv)\n",
    "    else:\n",
    "        df.to_csv(filename, **kwargs)   \n",
    "\n",
    "def read_excel(path, filename=None, save=True, **kwargs):\n",
    "    if filename is None:\n",
    "        filename = get_filename(path)\n",
    "    if (path_user() / filename).is_file():\n",
    "        return pd.read_excel(path_user() / filename, **kwargs)\n",
    "    if (path_shared() / filename).is_file():\n",
    "        return pd.read_excel(path_shared() / filename, **kwargs)\n",
    "    #print('Downloading new file ' + path)\n",
    "    df = pd.read_excel(path, **kwargs)\n",
    "    df.columns = df.columns.str.replace(' ', '') \n",
    "    return df\n",
    "  \n",
    "def read_from_package(package, filename, **kwargs):\n",
    "    csv = pkgutil.get_data(package, filename).decode()\n",
    "    return pd.read_csv(StringIO(csv), **kwargs)\n",
    "\n",
    "def read_from_function(filename, function, path=None, save=True, **kwargs):\n",
    "    \"\"\"\n",
    "    First checks if a .csv file is already stored, otherwise, calls the custom function to retrieve a \n",
    "    DataFrame. \n",
    "    \n",
    "    The place to store the file is indicated by path / filename.\n",
    "    The file is only retrieved from the function if it does not exsists on the filing system. \n",
    "    If the file is retrieved and save=True, it is also stored for future use.\n",
    "    \n",
    "    Arguments:\n",
    "        filename: str (None)\n",
    "            the filename to store the downloaded file under.\n",
    "        function: func\n",
    "            a function that is called to retrieve the DataFrame if the file does not exist.\n",
    "        path: str (None)\n",
    "            the path in which the file is stored. If None, it will first check the ~/.pipetorch (for sharing\n",
    "            dataset between users) and then ~/.pipetorchuser (for user specific caching of datasets).\n",
    "        save: bool (True)\n",
    "            whether to save a downloaded .csv\n",
    "        **kwargs:\n",
    "            additional parameters passed to pd.read_csv. For example, when a multichar delimiter is used\n",
    "            you will have to set engine='python'.\n",
    "            \n",
    "    Returns: pd.DataFrame\n",
    "    \"\"\"\n",
    "    storedpath = get_stored_path(filename, path)\n",
    "    if storedpath.is_file():\n",
    "        return pd.read_csv(storedpath, **kwargs)\n",
    "    df = function()\n",
    "    to_csv(df, storedpath, **kwargs)\n",
    "    return df\n"
   ]
  },
  {
   "cell_type": "code",
   "execution_count": null,
   "id": "047e4952",
   "metadata": {},
   "outputs": [],
   "source": []
  },
  {
   "cell_type": "code",
   "execution_count": null,
   "id": "b4b6fc1b",
   "metadata": {},
   "outputs": [],
   "source": []
  }
 ],
 "metadata": {
  "kernelspec": {
   "display_name": "Python 3 (ipykernel)",
   "language": "python",
   "name": "python3"
  },
  "language_info": {
   "codemirror_mode": {
    "name": "ipython",
    "version": 3
   },
   "file_extension": ".py",
   "mimetype": "text/x-python",
   "name": "python",
   "nbconvert_exporter": "python",
   "pygments_lexer": "ipython3",
   "version": "3.10.8"
  },
  "varInspector": {
   "cols": {
    "lenName": 16,
    "lenType": 16,
    "lenVar": 40
   },
   "kernels_config": {
    "python": {
     "delete_cmd_postfix": "",
     "delete_cmd_prefix": "del ",
     "library": "var_list.py",
     "varRefreshCmd": "print(var_dic_list())"
    },
    "r": {
     "delete_cmd_postfix": ") ",
     "delete_cmd_prefix": "rm(",
     "library": "var_list.r",
     "varRefreshCmd": "cat(var_dic_list()) "
    }
   },
   "types_to_exclude": [
    "module",
    "function",
    "builtin_function_or_method",
    "instance",
    "_Feature"
   ],
   "window_display": false
  }
 },
 "nbformat": 4,
 "nbformat_minor": 5
}

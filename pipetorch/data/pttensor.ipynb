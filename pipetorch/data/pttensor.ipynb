{
 "cells": [
  {
   "cell_type": "code",
   "execution_count": 2,
   "id": "509161c0",
   "metadata": {},
   "outputs": [
    {
     "name": "stdout",
     "output_type": "stream",
     "text": [
      "Overwriting pttensor.py\n"
     ]
    }
   ],
   "source": [
    "%%writefile pttensor.py        \n",
    "from torch.utils.data import Dataset\n",
    "from torch import Tensor\n",
    "import torch\n",
    "import numpy as np\n",
    "\n",
    "class PTTensor(Tensor):\n",
    "    @staticmethod\n",
    "    def __new__(cls, array, indices, *args, **kwargs):\n",
    "        return super().__new__(cls, array, *args, **kwargs)\n",
    "    \n",
    "    def __init__(self, array, indices, *args, **kwargs):\n",
    "        self._indices = indices\n",
    "        \n",
    "    def __getitem__(self, index):\n",
    "        if isinstance( index, slice ) :\n",
    "            if len(self) == 0:\n",
    "                return torch.zeros(self.size())\n",
    "            indices = list(range(*index.indices(len(self))))\n",
    "            try:\n",
    "                indices = self._indices[indices]\n",
    "            except:pass\n",
    "            return super().__getitem__(indices)\n",
    "        try:\n",
    "            return super().__getitem__(self._indices[index])\n",
    "        except:\n",
    "            return super().__getitem__(index)\n",
    "           \n",
    "    def __len__(self):\n",
    "        try:\n",
    "            return len(self._indices)\n",
    "        except:\n",
    "            return super().__len__()\n",
    "    \n",
    "    def size(self, dim=None):\n",
    "        if dim == 0:\n",
    "            return len(self)\n",
    "        if dim is not None and dim > 0:\n",
    "            return super().size(dim)\n",
    "        return torch.Size([len(self)] + list(super().size())[1:])   \n",
    "    \n",
    "class SequenceTensor:\n",
    "    def __init__(self, array, window):\n",
    "        self.tensor = array if isinstance(array,Tensor) else torch.tensor(array)\n",
    "        self.window = window\n",
    "        \n",
    "    @property\n",
    "    def window(self):\n",
    "        return self._window\n",
    "    \n",
    "    @window.setter\n",
    "    def window(self, window):\n",
    "        self._window = window\n",
    "        self._length = max(0, len(self.tensor) - window + 1)\n",
    "        self._indices = list(range(self._length))\n",
    "        if self._length > 0:\n",
    "            a = torch.isnan(self[:])\n",
    "            while len(a.shape) > 1:\n",
    "                a = torch.any(a, -1)\n",
    "            self._indices = torch.where(~a)[0]\n",
    "            self._length = len(self._indices)\n",
    "    \n",
    "    def __getitem__(self, index):\n",
    "        if isinstance( index, slice ) :\n",
    "            if len(self) == 0:\n",
    "                return torch.zeros(self.size())\n",
    "            return torch.cat([self[ii].unsqueeze(0) for ii in range(*index.indices(self._length))], axis=0)\n",
    "        return self.tensor[self._indices[index]:self._indices[index]+self.window]\n",
    "    \n",
    "    def __len__(self):\n",
    "        return self._length\n",
    "    \n",
    "    def size(self, dim=None):\n",
    "        if dim == 0:\n",
    "            return len(self)\n",
    "        if dim == 1:\n",
    "            return self.window\n",
    "        if dim is not None and dim > 0:\n",
    "            return self.tensor.size(dim - 1)\n",
    "        return torch.Size([len(self), self.window] + list(self.tensor.size())[1:])\n",
    "\n",
    "    def clone(self, *args, **kwargs): \n",
    "        return SequenceTensor(super().clone(*args, **kwargs), self.window)\n",
    "    \n",
    "    def to(self, *args, **kwargs):\n",
    "        new_obj = SequenceTensor(self.tensor.to(*args, **kwargs), window)\n",
    "        new_obj.window = self.window\n",
    "        new_obj.tensor.requires_grad=self.tensor.requires_grad\n",
    "        return new_obj\n",
    "    \n"
   ]
  },
  {
   "cell_type": "code",
   "execution_count": null,
   "id": "ca44f955",
   "metadata": {},
   "outputs": [],
   "source": []
  }
 ],
 "metadata": {
  "kernelspec": {
   "display_name": "Python 3 (ipykernel)",
   "language": "python",
   "name": "python3"
  },
  "language_info": {
   "codemirror_mode": {
    "name": "ipython",
    "version": 3
   },
   "file_extension": ".py",
   "mimetype": "text/x-python",
   "name": "python",
   "nbconvert_exporter": "python",
   "pygments_lexer": "ipython3",
   "version": "3.9.7"
  },
  "varInspector": {
   "cols": {
    "lenName": 16,
    "lenType": 16,
    "lenVar": 40
   },
   "kernels_config": {
    "python": {
     "delete_cmd_postfix": "",
     "delete_cmd_prefix": "del ",
     "library": "var_list.py",
     "varRefreshCmd": "print(var_dic_list())"
    },
    "r": {
     "delete_cmd_postfix": ") ",
     "delete_cmd_prefix": "rm(",
     "library": "var_list.r",
     "varRefreshCmd": "cat(var_dic_list()) "
    }
   },
   "types_to_exclude": [
    "module",
    "function",
    "builtin_function_or_method",
    "instance",
    "_Feature"
   ],
   "window_display": false
  }
 },
 "nbformat": 4,
 "nbformat_minor": 5
}

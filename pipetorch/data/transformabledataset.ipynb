{
 "cells": [
  {
   "cell_type": "code",
   "execution_count": 10,
   "id": "1bb42e67",
   "metadata": {},
   "outputs": [
    {
     "name": "stdout",
     "output_type": "stream",
     "text": [
      "Overwriting transformabledataset.py\n"
     ]
    }
   ],
   "source": [
    "%%writefile transformabledataset.py\n",
    "\n",
    "from torch.utils.data import Dataset\n",
    "from inspect import signature\n",
    "import torch\n",
    "import numpy as np\n",
    "\n",
    "class TransformationXY:\n",
    "    \"\"\"\n",
    "    To model a transformation that TransformableDataset will recognize as a transformation on an (x,y) pair\n",
    "    subclass this class and add it to the transformations.\n",
    "    \"\"\"\n",
    "    def __call__(self, x, y):\n",
    "        pass\n",
    "\n",
    "class TransformableDataset(Dataset):\n",
    "    \"\"\"\n",
    "    Subclass of a PyTorch Dataset, that allows optional transformation of the data that is returned.\n",
    "    TransformableDataset can transform either the input x, output y or both.\n",
    "    \n",
    "    Arguments:\n",
    "        dataset: A Dataset that supports __len__() and __getitem__()\n",
    "        \n",
    "        dtype: (None)\n",
    "            The dtype of the input, if None torch.float32\n",
    "        \n",
    "        *transforms: [ callable ]\n",
    "            Each callable is a function that is called as x = func(x) to transform only x\n",
    "            or as x, y = func(x, y) to transform both x and y\n",
    "    \"\"\"\n",
    "    \n",
    "    def __init__(self, dataset, dtype, *transforms):\n",
    "        self.dataset = dataset\n",
    "        self._dtype = dtype\n",
    "        self.transforms = list(transforms)\n",
    "        try:\n",
    "            self.tensors = dataset.tensors\n",
    "        except: pass\n",
    "\n",
    "    def __getitem__(self, index):\n",
    "        \"\"\"\n",
    "        Arguments:\n",
    "            index: int\n",
    "                number in the range 0 - len(dataset) that identifies a data example.\n",
    "                \n",
    "        Returns: (tensor, tensor)\n",
    "            the pair of x, y (input, output) at the given index, that is transformed by the given transformation functions.\n",
    "        \"\"\"\n",
    "        \n",
    "        x, y = self.dataset[index]\n",
    "        for t in self.transforms:\n",
    "            if isinstance(t, TransformationXY):\n",
    "                x, y = t(x, y)\n",
    "            else:\n",
    "                x = t(x)\n",
    "        self.debugx = x\n",
    "        if self._dtype is None:\n",
    "            x = x.type(torch.FloatTensor)\n",
    "        elif self._dtype:\n",
    "            if np.issubdtype(self._dtype, np.number):\n",
    "                x = x.type(self._dtype)\n",
    "            else:\n",
    "                x = x.type(torch.FloatTensor)\n",
    "       \n",
    "        return x, y\n",
    "    \n",
    "    def __len__(self):\n",
    "        return len(self.dataset)  "
   ]
  },
  {
   "cell_type": "code",
   "execution_count": null,
   "id": "b8f1eec3",
   "metadata": {},
   "outputs": [],
   "source": []
  }
 ],
 "metadata": {
  "kernelspec": {
   "display_name": "Python 3 (ipykernel)",
   "language": "python",
   "name": "python3"
  },
  "language_info": {
   "codemirror_mode": {
    "name": "ipython",
    "version": 3
   },
   "file_extension": ".py",
   "mimetype": "text/x-python",
   "name": "python",
   "nbconvert_exporter": "python",
   "pygments_lexer": "ipython3",
   "version": "3.10.11"
  }
 },
 "nbformat": 4,
 "nbformat_minor": 5
}

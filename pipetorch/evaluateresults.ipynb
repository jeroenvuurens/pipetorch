{
 "cells": [
  {
   "cell_type": "code",
   "execution_count": 1,
   "id": "reported-installation",
   "metadata": {
    "hide_output": true,
    "run_control": {
     "marked": false
    }
   },
   "outputs": [
    {
     "name": "stdout",
     "output_type": "stream",
     "text": [
      "Overwriting evaluateresults.py\n"
     ]
    }
   ],
   "source": [
    "%%writefile evaluateresults.py\n",
    "import numpy as np\n",
    "import pandas as pd\n",
    "import copy\n",
    "import itertools\n",
    "import matplotlib.pyplot as plt\n",
    "\n",
    "class EvaluatorResults(pd.DataFrame):\n",
    "    _metadata = ['_evaluator', '_phase']\n",
    "    \n",
    "    @classmethod\n",
    "    def from_evaluator(cls, evaluator):\n",
    "        r = cls()\n",
    "        r._evaluator = evaluator\n",
    "        return r\n",
    "    \n",
    "    @property\n",
    "    def _constructor(self):\n",
    "        return EvaluatorResults\n",
    "    \n",
    "    def __finalize__(self, other, method=None, **kwargs):\n",
    "        for name in self._metadata:\n",
    "            object.__setattr__(self, name, getattr(other, name, None))\n",
    "        return self\n",
    "    \n",
    "    def __repr__(self):\n",
    "        r = self.drop( columns = [ c for c in self.columns if c[0] == '_' ] )\n",
    "        return super(EvaluatorResults, r).__repr__()\n",
    "    \n",
    "    def _add(self, row):\n",
    "        for c in row.columns:\n",
    "            if c not in self.columns:\n",
    "                self.insert(len(self.columns), c, np.NaN)\n",
    "        r = self.append(row, sort=True, ignore_index=True)\n",
    "        r._evaluator = self._evaluator\n",
    "        return r\n",
    "\n",
    "    @property\n",
    "    def train(self):\n",
    "        r = self[self.phase == 'train']\n",
    "        r._phase = 'train'\n",
    "        return r\n",
    "    \n",
    "    @property\n",
    "    def valid(self):\n",
    "        r = self[self.phase == 'valid']\n",
    "        r._phase = 'valid'\n",
    "        return r\n",
    "    \n",
    "    @property\n",
    "    def test(self):\n",
    "        r = self[self.phase == 'test']\n",
    "        r.phase = 'test'\n",
    "        return r\n",
    "\n",
    "    def _plot_predict(self, pltfunction, label, x=None, xlabel = None, ylabel = None, title=None, interpolate=0, df=None, **kwargs):\n",
    "        marker = itertools.cycle((',', '+', '.', 'o', '*')) \n",
    "        for _, row in self.iterrows():\n",
    "            y = row['_predict']\n",
    "            try:\n",
    "                l = label(row)\n",
    "            except:\n",
    "                l = row[label]\n",
    "            self.evaluator._plot(pltfunction, x=x, y=y, xlabel=xlabel, ylabel=ylabel, title=title, marker=next(marker), interpolate=interpolate, df=df, label=l, **kwargs)\n",
    "        plt.legend()\n",
    "\n",
    "    def _figure(self, x, y=None, xlabel = None, ylabel = None, title = None, label=None):\n",
    "        if y is None:\n",
    "            y = self._evaluator.metrics[0].__name__\n",
    "        if not xlabel:\n",
    "            if type(x) == str:\n",
    "                xlabel=x\n",
    "            else:\n",
    "                xlabel=df._columnx[0]\n",
    "        if not ylabel:\n",
    "            if type(y) == str:\n",
    "                ylabel=y\n",
    "            else:\n",
    "                ylabel=df._columny[0]\n",
    "        if label is None:\n",
    "            try:\n",
    "                label = self._phase\n",
    "            except: None\n",
    "        if title is not None:\n",
    "            plt.title(title)\n",
    "        if type(ylabel) == str:\n",
    "            plt.ylabel(ylabel) \n",
    "        if type(xlabel) == str:\n",
    "            plt.xlabel(xlabel)\n",
    "        sort = self.sort_values(by=x)\n",
    "        gx = [ row[x] for _, row in sort.iterrows() ]\n",
    "        gy = [ row[y] for _, row in sort.iterrows() ]\n",
    "        return gx, gy, label\n",
    "        \n",
    "    def _plot(self, pltfunction, x, y=None, xlabel = None, ylabel = None, title=None, label=None, **kwargs):\n",
    "        gx, gy, label = self._figure(x, y=y, xlabel=xlabel, ylabel=ylabel, title=title, label=label)\n",
    "        if label is not None:\n",
    "            kwargs['label'] = label\n",
    "        pltfunction(gx, gy, **kwargs)      \n",
    "\n",
    "    def line_predict(self, label, x=None, xlabel = None, ylabel = None, title=None, interpolate=0, df=None, **kwargs):\n",
    "        self._plot_results(plt.plot, label, x=x, xlabel=xlabel, ylabel=ylabel, title=title, interpolate=interpolate, df=df, **kwargs)\n",
    "    \n",
    "    def scatter_predict(self, label, x=None, xlabel = None, ylabel = None, title=None, interpolate=0, df=None, **kwargs):\n",
    "        self._plot_results(plt.scatter, label, x=x, xlabel=xlabel, ylabel=ylabel, title=title, interpolate=interpolate, df=df, **kwargs) \n",
    "        \n",
    "    def line(self, x, y=None, xlabel = None, ylabel = None, title=None, **kwargs):\n",
    "        self._plot(plt.plot, x, y=y, xlabel=xlabel, ylabel=ylabel, title=title, **kwargs)\n",
    "    \n",
    "    def scatter(self, x, y=None, xlabel = None, ylabel = None, title=None, **kwargs):\n",
    "        self._plot(plt.scatter, x, y=y, xlabel=xlabel, ylabel=ylabel, title=title, **kwargs) "
   ]
  },
  {
   "cell_type": "code",
   "execution_count": 3,
   "id": "close-radical",
   "metadata": {},
   "outputs": [],
   "source": [
    "import pipetorch as pt"
   ]
  },
  {
   "cell_type": "code",
   "execution_count": 4,
   "id": "downtown-enough",
   "metadata": {
    "hide_output": true,
    "run_control": {
     "marked": false
    }
   },
   "outputs": [],
   "source": [
    "df = pt.iris()"
   ]
  },
  {
   "cell_type": "code",
   "execution_count": 5,
   "id": "durable-airplane",
   "metadata": {
    "hide_output": true,
    "run_control": {
     "marked": false
    }
   },
   "outputs": [],
   "source": [
    "df = df[df.target > 0]\n",
    "df.target -= 1\n",
    "df = df[['petal length (cm)', 'petal width (cm)', 'target']]"
   ]
  },
  {
   "cell_type": "code",
   "execution_count": 6,
   "id": "functioning-swift",
   "metadata": {},
   "outputs": [
    {
     "data": {
      "text/html": [
       "<div>\n",
       "<style scoped>\n",
       "    .dataframe tbody tr th:only-of-type {\n",
       "        vertical-align: middle;\n",
       "    }\n",
       "\n",
       "    .dataframe tbody tr th {\n",
       "        vertical-align: top;\n",
       "    }\n",
       "\n",
       "    .dataframe thead th {\n",
       "        text-align: right;\n",
       "    }\n",
       "</style>\n",
       "<table border=\"1\" class=\"dataframe\">\n",
       "  <thead>\n",
       "    <tr style=\"text-align: right;\">\n",
       "      <th></th>\n",
       "      <th>petal length (cm)</th>\n",
       "      <th>petal width (cm)</th>\n",
       "      <th>target</th>\n",
       "    </tr>\n",
       "  </thead>\n",
       "  <tbody>\n",
       "    <tr>\n",
       "      <th>50</th>\n",
       "      <td>4.7</td>\n",
       "      <td>1.4</td>\n",
       "      <td>0.0</td>\n",
       "    </tr>\n",
       "    <tr>\n",
       "      <th>51</th>\n",
       "      <td>4.5</td>\n",
       "      <td>1.5</td>\n",
       "      <td>0.0</td>\n",
       "    </tr>\n",
       "    <tr>\n",
       "      <th>52</th>\n",
       "      <td>4.9</td>\n",
       "      <td>1.5</td>\n",
       "      <td>0.0</td>\n",
       "    </tr>\n",
       "    <tr>\n",
       "      <th>53</th>\n",
       "      <td>4.0</td>\n",
       "      <td>1.3</td>\n",
       "      <td>0.0</td>\n",
       "    </tr>\n",
       "    <tr>\n",
       "      <th>54</th>\n",
       "      <td>4.6</td>\n",
       "      <td>1.5</td>\n",
       "      <td>0.0</td>\n",
       "    </tr>\n",
       "    <tr>\n",
       "      <th>...</th>\n",
       "      <td>...</td>\n",
       "      <td>...</td>\n",
       "      <td>...</td>\n",
       "    </tr>\n",
       "    <tr>\n",
       "      <th>145</th>\n",
       "      <td>5.2</td>\n",
       "      <td>2.3</td>\n",
       "      <td>1.0</td>\n",
       "    </tr>\n",
       "    <tr>\n",
       "      <th>146</th>\n",
       "      <td>5.0</td>\n",
       "      <td>1.9</td>\n",
       "      <td>1.0</td>\n",
       "    </tr>\n",
       "    <tr>\n",
       "      <th>147</th>\n",
       "      <td>5.2</td>\n",
       "      <td>2.0</td>\n",
       "      <td>1.0</td>\n",
       "    </tr>\n",
       "    <tr>\n",
       "      <th>148</th>\n",
       "      <td>5.4</td>\n",
       "      <td>2.3</td>\n",
       "      <td>1.0</td>\n",
       "    </tr>\n",
       "    <tr>\n",
       "      <th>149</th>\n",
       "      <td>5.1</td>\n",
       "      <td>1.8</td>\n",
       "      <td>1.0</td>\n",
       "    </tr>\n",
       "  </tbody>\n",
       "</table>\n",
       "<p>100 rows × 3 columns</p>\n",
       "</div>"
      ],
      "text/plain": [
       "     petal length (cm)  petal width (cm)  target\n",
       "50                 4.7               1.4     0.0\n",
       "51                 4.5               1.5     0.0\n",
       "52                 4.9               1.5     0.0\n",
       "53                 4.0               1.3     0.0\n",
       "54                 4.6               1.5     0.0\n",
       "..                 ...               ...     ...\n",
       "145                5.2               2.3     1.0\n",
       "146                5.0               1.9     1.0\n",
       "147                5.2               2.0     1.0\n",
       "148                5.4               2.3     1.0\n",
       "149                5.1               1.8     1.0\n",
       "\n",
       "[100 rows x 3 columns]"
      ]
     },
     "execution_count": 6,
     "metadata": {},
     "output_type": "execute_result"
    }
   ],
   "source": [
    "df"
   ]
  },
  {
   "cell_type": "code",
   "execution_count": 7,
   "id": "threaded-communication",
   "metadata": {},
   "outputs": [
    {
     "ename": "AttributeError",
     "evalue": "'PTDataFrame' object has no attribute 'to_evaluator'",
     "output_type": "error",
     "traceback": [
      "\u001b[0;31m---------------------------------------------------------------------------\u001b[0m",
      "\u001b[0;31mAttributeError\u001b[0m                            Traceback (most recent call last)",
      "\u001b[0;32m<ipython-input-7-df7d22bafd7b>\u001b[0m in \u001b[0;36m<module>\u001b[0;34m\u001b[0m\n\u001b[0;32m----> 1\u001b[0;31m \u001b[0mself\u001b[0m \u001b[0;34m=\u001b[0m \u001b[0mdf\u001b[0m\u001b[0;34m.\u001b[0m\u001b[0mto_evaluator\u001b[0m\u001b[0;34m(\u001b[0m\u001b[0;34m)\u001b[0m\u001b[0;34m\u001b[0m\u001b[0;34m\u001b[0m\u001b[0m\n\u001b[0m",
      "\u001b[0;32m/opt/jupyterhub/anaconda/lib/python3.6/site-packages/pandas/core/generic.py\u001b[0m in \u001b[0;36m__getattr__\u001b[0;34m(self, name)\u001b[0m\n\u001b[1;32m   5139\u001b[0m             \u001b[0;32mif\u001b[0m \u001b[0mself\u001b[0m\u001b[0;34m.\u001b[0m\u001b[0m_info_axis\u001b[0m\u001b[0;34m.\u001b[0m\u001b[0m_can_hold_identifiers_and_holds_name\u001b[0m\u001b[0;34m(\u001b[0m\u001b[0mname\u001b[0m\u001b[0;34m)\u001b[0m\u001b[0;34m:\u001b[0m\u001b[0;34m\u001b[0m\u001b[0;34m\u001b[0m\u001b[0m\n\u001b[1;32m   5140\u001b[0m                 \u001b[0;32mreturn\u001b[0m \u001b[0mself\u001b[0m\u001b[0;34m[\u001b[0m\u001b[0mname\u001b[0m\u001b[0;34m]\u001b[0m\u001b[0;34m\u001b[0m\u001b[0;34m\u001b[0m\u001b[0m\n\u001b[0;32m-> 5141\u001b[0;31m             \u001b[0;32mreturn\u001b[0m \u001b[0mobject\u001b[0m\u001b[0;34m.\u001b[0m\u001b[0m__getattribute__\u001b[0m\u001b[0;34m(\u001b[0m\u001b[0mself\u001b[0m\u001b[0;34m,\u001b[0m \u001b[0mname\u001b[0m\u001b[0;34m)\u001b[0m\u001b[0;34m\u001b[0m\u001b[0;34m\u001b[0m\u001b[0m\n\u001b[0m\u001b[1;32m   5142\u001b[0m \u001b[0;34m\u001b[0m\u001b[0m\n\u001b[1;32m   5143\u001b[0m     \u001b[0;32mdef\u001b[0m \u001b[0m__setattr__\u001b[0m\u001b[0;34m(\u001b[0m\u001b[0mself\u001b[0m\u001b[0;34m,\u001b[0m \u001b[0mname\u001b[0m\u001b[0;34m:\u001b[0m \u001b[0mstr\u001b[0m\u001b[0;34m,\u001b[0m \u001b[0mvalue\u001b[0m\u001b[0;34m)\u001b[0m \u001b[0;34m->\u001b[0m \u001b[0;32mNone\u001b[0m\u001b[0;34m:\u001b[0m\u001b[0;34m\u001b[0m\u001b[0;34m\u001b[0m\u001b[0m\n",
      "\u001b[0;31mAttributeError\u001b[0m: 'PTDataFrame' object has no attribute 'to_evaluator'"
     ]
    }
   ],
   "source": [
    "self = df.to_evaluator()"
   ]
  },
  {
   "cell_type": "code",
   "execution_count": null,
   "id": "premier-leonard",
   "metadata": {},
   "outputs": [],
   "source": [
    "y.shape"
   ]
  },
  {
   "cell_type": "code",
   "execution_count": null,
   "id": "mature-catering",
   "metadata": {},
   "outputs": [],
   "source": [
    "noise = 0\n",
    "X, xd1, xd2, y = self._figure2d()\n",
    "for c in sorted(np.unique(y)):\n",
    "    indices = (c == y).flatten()\n",
    "    xx1 = xd1[indices].flatten()\n",
    "    xx2 = xd2[indices].flatten()\n",
    "    if noise > 0:\n",
    "        xx1_sd = np.std(xx1)\n",
    "        xx2_sd = np.std(xx2)\n",
    "        xd1 = xd1 + np.random.normal(0, noise * xd1_std, xd1.shape)\n",
    "        xd2 = xd2 + np.random.normal(0, noise * xd2_std, xd2.shape)\n",
    "    plt.scatter(xd1, xd2, label=int(c))\n",
    "\n",
    "\n",
    "\n"
   ]
  },
  {
   "cell_type": "code",
   "execution_count": null,
   "id": "orange-flexibility",
   "metadata": {},
   "outputs": [],
   "source": [
    "plt.scatter(xx1, xx2, '.')"
   ]
  },
  {
   "cell_type": "code",
   "execution_count": null,
   "id": "subject-force",
   "metadata": {
    "hide_output": true,
    "run_control": {
     "marked": false
    }
   },
   "outputs": [],
   "source": [
    "ev = df.split(0.2).scale().to_evaluator(mean_squared_error)"
   ]
  },
  {
   "cell_type": "code",
   "execution_count": null,
   "id": "ideal-schedule",
   "metadata": {
    "hide_output": true,
    "run_control": {
     "marked": false
    }
   },
   "outputs": [],
   "source": [
    "ev.train_sklearn(LinearRegression())"
   ]
  },
  {
   "cell_type": "code",
   "execution_count": null,
   "id": "south-algeria",
   "metadata": {},
   "outputs": [],
   "source": [
    "df.split(0.2).scale().to_evaluator(mean_squared_error)"
   ]
  },
  {
   "cell_type": "code",
   "execution_count": null,
   "id": "legislative-translator",
   "metadata": {},
   "outputs": [],
   "source": [
    "ev"
   ]
  },
  {
   "cell_type": "code",
   "execution_count": null,
   "id": "close-pathology",
   "metadata": {},
   "outputs": [],
   "source": [
    "type(ev)"
   ]
  },
  {
   "cell_type": "code",
   "execution_count": null,
   "id": "chronic-death",
   "metadata": {},
   "outputs": [],
   "source": [
    "??ev.train"
   ]
  },
  {
   "cell_type": "code",
   "execution_count": null,
   "id": "after-syracuse",
   "metadata": {},
   "outputs": [],
   "source": []
  }
 ],
 "metadata": {
  "kernelspec": {
   "display_name": "Python 3",
   "language": "python",
   "name": "python3"
  },
  "language_info": {
   "codemirror_mode": {
    "name": "ipython",
    "version": 3
   },
   "file_extension": ".py",
   "mimetype": "text/x-python",
   "name": "python",
   "nbconvert_exporter": "python",
   "pygments_lexer": "ipython3",
   "version": "3.6.10"
  },
  "varInspector": {
   "cols": {
    "lenName": 16,
    "lenType": 16,
    "lenVar": 40
   },
   "kernels_config": {
    "python": {
     "delete_cmd_postfix": "",
     "delete_cmd_prefix": "del ",
     "library": "var_list.py",
     "varRefreshCmd": "print(var_dic_list())"
    },
    "r": {
     "delete_cmd_postfix": ") ",
     "delete_cmd_prefix": "rm(",
     "library": "var_list.r",
     "varRefreshCmd": "cat(var_dic_list()) "
    }
   },
   "types_to_exclude": [
    "module",
    "function",
    "builtin_function_or_method",
    "instance",
    "_Feature"
   ],
   "window_display": false
  }
 },
 "nbformat": 4,
 "nbformat_minor": 5
}

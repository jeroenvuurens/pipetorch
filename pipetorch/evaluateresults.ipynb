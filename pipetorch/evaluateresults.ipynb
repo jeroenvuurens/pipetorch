{
 "cells": [
  {
   "cell_type": "code",
   "execution_count": 2,
   "metadata": {
    "hide_output": true,
    "run_control": {
     "marked": false
    }
   },
   "outputs": [
    {
     "name": "stdout",
     "output_type": "stream",
     "text": [
      "Overwriting evaluateresults.py\n"
     ]
    }
   ],
   "source": [
    "%%writefile evaluateresults.py\n",
    "import numpy as np\n",
    "import pandas as pd\n",
    "import copy\n",
    "import itertools\n",
    "import matplotlib.pyplot as plt\n",
    "\n",
    "class EvaluatorResults(pd.DataFrame):\n",
    "    _metadata = ['_evaluator', '_phase']\n",
    "    \n",
    "    @classmethod\n",
    "    def from_evaluator(cls, evaluator):\n",
    "        r = cls()\n",
    "        r._evaluator = evaluator\n",
    "        return r\n",
    "    \n",
    "    @property\n",
    "    def _constructor(self):\n",
    "        return EvaluatorResults\n",
    "\n",
    "    def _copy_meta(self, df):\n",
    "        df = self._constructor(df)\n",
    "        for m in self._metadata:\n",
    "            setattr(df, m, getattr(self, m))\n",
    "        return df\n",
    "    \n",
    "    def __finalize__(self, other, method=None, **kwargs):\n",
    "        for name in self._metadata:\n",
    "            object.__setattr__(self, name, getattr(other, name, None))\n",
    "        return self\n",
    "    \n",
    "    def __repr__(self):\n",
    "        r = self.drop( columns = [ c for c in self.columns if c[0] == '_' ] )\n",
    "        return super(EvaluatorResults, r).__repr__()\n",
    "    \n",
    "    def _add(self, row):\n",
    "        for c in row.columns:\n",
    "            if c not in self.columns:\n",
    "                self.insert(len(self.columns), c, np.NaN)\n",
    "        r = self.append(row, sort=True, ignore_index=True)\n",
    "        r._evaluator = self._evaluator\n",
    "        return r\n",
    "\n",
    "    @property\n",
    "    def train(self):\n",
    "        r = self[self.phase == 'train']\n",
    "        r._phase = 'train'\n",
    "        return r\n",
    "    \n",
    "    @property\n",
    "    def valid(self):\n",
    "        r = self[self.phase == 'valid']\n",
    "        r._phase = 'valid'\n",
    "        return r\n",
    "    \n",
    "    @property\n",
    "    def test(self):\n",
    "        r = self[self.phase == 'test']\n",
    "        r.phase = 'test'\n",
    "        return r\n",
    "\n",
    "    def _plot_predict(self, pltfunction, label, x=None, xlabel = None, ylabel = None, title=None, interpolate=0, df=None, **kwargs):\n",
    "        marker = itertools.cycle((',', '+', '.', 'o', '*')) \n",
    "        for _, row in self.iterrows():\n",
    "            y = row['_predict']\n",
    "            try:\n",
    "                l = label(row)\n",
    "            except:\n",
    "                l = row[label]\n",
    "            self.evaluator._plot(pltfunction, x=x, y=y, xlabel=xlabel, ylabel=ylabel, title=title, marker=next(marker), interpolate=interpolate, df=df, label=l, **kwargs)\n",
    "        plt.legend()\n",
    "\n",
    "    def _figure(self, x, y=None, xlabel = None, ylabel = None, title = None, label=None):\n",
    "        if y is None:\n",
    "            y = self._evaluator.metrics[0].__name__\n",
    "        if not xlabel:\n",
    "            if type(x) == str:\n",
    "                xlabel=x\n",
    "            else:\n",
    "                xlabel=df._columnx[0]\n",
    "        if not ylabel:\n",
    "            if type(y) == str:\n",
    "                ylabel=y\n",
    "            else:\n",
    "                ylabel=df._columny[0]\n",
    "        if label is None:\n",
    "            try:\n",
    "                label = self._phase\n",
    "            except: None\n",
    "        if title is not None:\n",
    "            plt.title(title)\n",
    "        if type(ylabel) == str:\n",
    "            plt.ylabel(ylabel) \n",
    "        if type(xlabel) == str:\n",
    "            plt.xlabel(xlabel)\n",
    "        sort = self.sort_values(by=x)\n",
    "        gx = [ row[x] for _, row in sort.iterrows() ]\n",
    "        gy = [ row[y] for _, row in sort.iterrows() ]\n",
    "        return gx, gy, label\n",
    "        \n",
    "    def _plot(self, pltfunction, x, y=None, xlabel = None, ylabel = None, title=None, label=None, **kwargs):\n",
    "        gx, gy, label = self._figure(x, y=y, xlabel=xlabel, ylabel=ylabel, title=title, label=label)\n",
    "        if label is not None:\n",
    "            kwargs['label'] = label\n",
    "        pltfunction(gx, gy, **kwargs)      \n",
    "\n",
    "    def line_predict(self, label, x=None, xlabel = None, ylabel = None, title=None, interpolate=0, df=None, **kwargs):\n",
    "        self._plot_results(plt.plot, label, x=x, xlabel=xlabel, ylabel=ylabel, title=title, interpolate=interpolate, df=df, **kwargs)\n",
    "    \n",
    "    def scatter_predict(self, label, x=None, xlabel = None, ylabel = None, title=None, interpolate=0, df=None, **kwargs):\n",
    "        self._plot_results(plt.scatter, label, x=x, xlabel=xlabel, ylabel=ylabel, title=title, interpolate=interpolate, df=df, **kwargs) \n",
    "        \n",
    "    def line(self, x, y=None, xlabel = None, ylabel = None, title=None, **kwargs):\n",
    "        self._plot(plt.plot, x, y=y, xlabel=xlabel, ylabel=ylabel, title=title, **kwargs)\n",
    "    \n",
    "    def scatter(self, x, y=None, xlabel = None, ylabel = None, title=None, **kwargs):\n",
    "        self._plot(plt.scatter, x, y=y, xlabel=xlabel, ylabel=ylabel, title=title, **kwargs)\n",
    "        \n",
    "    def line_metric(self, x, series='phase', y=None, xlabel = None, ylabel = None, title=None, label_prefix='', **kwargs):\n",
    "        self._evaluator.line_metric(x, series=series, select=self, y=y, xlabel=xlabel, ylabel=ylabel, title=title, label_prefix=label_prefix, **kwargs)\n",
    "\n",
    "    def scatter_metric(self, x, series='phase', y=None, xlabel = None, ylabel = None, title=None, label_prefix='', **kwargs):\n",
    "        self._evaluator.scatter_metric(x, series=series, select=self, y=y, xlabel=xlabel, ylabel=ylabel, title=title, label_prefix=label_prefix, **kwargs)\n",
    "\n",
    "\n"
   ]
  },
  {
   "cell_type": "code",
   "execution_count": null,
   "metadata": {},
   "outputs": [],
   "source": []
  }
 ],
 "metadata": {
  "kernelspec": {
   "display_name": "Python 3",
   "language": "python",
   "name": "python3"
  },
  "language_info": {
   "codemirror_mode": {
    "name": "ipython",
    "version": 3
   },
   "file_extension": ".py",
   "mimetype": "text/x-python",
   "name": "python",
   "nbconvert_exporter": "python",
   "pygments_lexer": "ipython3",
   "version": "3.7.3"
  },
  "varInspector": {
   "cols": {
    "lenName": 16,
    "lenType": 16,
    "lenVar": 40
   },
   "kernels_config": {
    "python": {
     "delete_cmd_postfix": "",
     "delete_cmd_prefix": "del ",
     "library": "var_list.py",
     "varRefreshCmd": "print(var_dic_list())"
    },
    "r": {
     "delete_cmd_postfix": ") ",
     "delete_cmd_prefix": "rm(",
     "library": "var_list.r",
     "varRefreshCmd": "cat(var_dic_list()) "
    }
   },
   "types_to_exclude": [
    "module",
    "function",
    "builtin_function_or_method",
    "instance",
    "_Feature"
   ],
   "window_display": false
  }
 },
 "nbformat": 4,
 "nbformat_minor": 5
}

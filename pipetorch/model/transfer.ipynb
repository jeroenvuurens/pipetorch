{
 "cells": [
  {
   "cell_type": "code",
   "execution_count": 1,
   "metadata": {},
   "outputs": [
    {
     "name": "stdout",
     "output_type": "stream",
     "text": [
      "Overwriting transfer.py\n"
     ]
    }
   ],
   "source": [
    "%%writefile transfer.py\n",
    "import torch\n",
    "import torch.nn as nn\n",
    "import torchvision.models as models\n",
    "import os\n",
    "\n",
    "def last_container(last):\n",
    "    try:\n",
    "        l = last_container(last.children())\n",
    "        if l is not None:\n",
    "            return l\n",
    "    except: pass\n",
    "    try:\n",
    "        if len(last._modules) > 0 and next(reversed(last._modules.values())).out_features > 0:\n",
    "            return last\n",
    "    except: pass\n",
    "\n",
    "class DLModel(nn.Module):\n",
    "    def __init__(self):\n",
    "        super().__init__()\n",
    "\n",
    "    def set_last_linear(self, out_features):\n",
    "        container = self.last_container()\n",
    "        name, last = container._modules.popitem()\n",
    "        container.add_module(name, nn.Linear(last.in_features, out_features))\n",
    "\n",
    "    def last_container(self):\n",
    "        return last_container(self)\n",
    "\n",
    "    def freeze(self):\n",
    "        for c in list(self.children())[:-1]:\n",
    "            for p in c.parameters():\n",
    "                p.requires_grad=False\n",
    "\n",
    "    def unfreeze(self):\n",
    "        for c in list(self.children())[:-1]:\n",
    "            for p in c.parameters():\n",
    "                p.requires_grad=True\n",
    "\n",
    "class Transfer(DLModel):\n",
    "    def __init__(self, output_nodes=None, model=models.resnet34, pretrained=True):\n",
    "        super().__init__()\n",
    "        os.environ['TORCH_HOME'] = '/datb/torch'\n",
    "        self.model = model(pretrained=pretrained)\n",
    "        if output_nodes is not None:\n",
    "            self.set_last_linear(output_nodes)\n",
    "\n",
    "    def children(self):\n",
    "        return self.model.children()\n",
    "\n",
    "    def last_container(self):\n",
    "        return last_container(self.model)\n",
    "\n",
    "    def forward(self, x):\n",
    "        return self.model( x )\n",
    "\n",
    "    def post_forward(self, y):\n",
    "        return torch.argmax(y, axis=1)\n",
    "\n"
   ]
  },
  {
   "cell_type": "code",
   "execution_count": null,
   "metadata": {},
   "outputs": [],
   "source": []
  }
 ],
 "metadata": {
  "kernelspec": {
   "display_name": "Python 3",
   "language": "python",
   "name": "python3"
  },
  "language_info": {
   "codemirror_mode": {
    "name": "ipython",
    "version": 3
   },
   "file_extension": ".py",
   "mimetype": "text/x-python",
   "name": "python",
   "nbconvert_exporter": "python",
   "pygments_lexer": "ipython3",
   "version": "3.7.3"
  }
 },
 "nbformat": 4,
 "nbformat_minor": 4
}

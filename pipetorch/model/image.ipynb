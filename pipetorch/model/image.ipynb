{
 "cells": [
  {
   "cell_type": "code",
   "execution_count": 1,
   "metadata": {},
   "outputs": [
    {
     "name": "stdout",
     "output_type": "stream",
     "text": [
      "Overwriting image.py\n"
     ]
    }
   ],
   "source": [
    "%%writefile image.py\n",
    "from torchvision.models import *\n",
    "import torch\n",
    "import torch.nn as nn\n",
    "import torch.nn.functional as F\n",
    "\n",
    "def split_size(size):\n",
    "    if type(size) is list or type(size) is tuple:\n",
    "        return size\n",
    "    return size, size\n",
    "\n",
    "def compute_size(size, kernel, stride, padding, layer):\n",
    "    s = (size - kernel + 2 * padding) / stride + 1\n",
    "    assert s == int(s), f'size {size} at layer {layer} does not match with kernel size {kernel}, stride {stride} and padding {padding}'\n",
    "    return int(s)\n",
    "\n",
    "def grab_r_channel(x):\n",
    "    return  x[:,0,:,:].view(x.shape[0], 1, x.shape[2], x.shape[3])\n",
    "\n",
    "class ConvNet(nn.Module):\n",
    "    \"ConvNet\"\n",
    "    def __init__(self, *layers, size=224, kernel_size=3, stride=1, padding=None, pool_size=2, pool_stride=2, preprocess=None, batchnorm=False, num_classes=2, final_activation=lambda x:x, dropout=0):\n",
    "        super().__init__()\n",
    "        self.preprocess = preprocess\n",
    "        if padding is None:\n",
    "            padding = kernel_size // 2\n",
    "        hpixels, vpixels = split_size(size)\n",
    "        self.layers = []\n",
    "        for n, (i, o) in enumerate(zip(layers[:-1], layers[1:])):\n",
    "            if batchnorm:\n",
    "                layer = nn.Sequential( \n",
    "                    nn.Conv2d(i, o, kernel_size=kernel_size, stride=stride, padding=padding),\n",
    "                    nn.BatchNorm2d(o),\n",
    "                    nn.ReLU(),\n",
    "                    nn.MaxPool2d(kernel_size=pool_size, stride=pool_stride))\n",
    "            else:\n",
    "                layer = nn.Sequential( \n",
    "                    nn.Conv2d(i, o, kernel_size=kernel_size, stride=stride, padding=padding),\n",
    "                    nn.ReLU(),\n",
    "                    nn.MaxPool2d(kernel_size=pool_size, stride=pool_stride))\n",
    "            self.__setattr__(f'layer_{n+1}', layer)\n",
    "            self.layers.append(layer)\n",
    "            hpixels = compute_size(hpixels, kernel_size, stride, padding, f'horizontal conv{n}')\n",
    "            vpixels = compute_size(vpixels, kernel_size, stride, padding, f'vertical conv{n}')\n",
    "            hpixels = compute_size(hpixels, pool_size, pool_stride, 0, f'horizontal pool{n}')\n",
    "            vpixels = compute_size(vpixels, pool_size, pool_stride, 0, f'vertical pool{n}')\n",
    "        self.fc = nn.Linear(o * hpixels * vpixels, num_classes)\n",
    "        self.fa = final_activation\n",
    "\n",
    "    def forward(self, x):\n",
    "        if self.preprocess is not None:\n",
    "            x = self.preprocess(x)\n",
    "        for layer in self.layers:\n",
    "            x = layer(x)\n",
    "        x = x.reshape(x.size(0), -1)\n",
    "        x = self.fc(x)\n",
    "        return self.fa(x)\n",
    "\n",
    "    def post_forward(self, y):\n",
    "        return torch.argmax(y, axis=1)\n",
    "\n",
    "class ConvNet_BCE(ConvNet):\n",
    "    def __init__(self, *layers, size=224, kernel_size=3, stride=1, padding=None, pool_size=2, pool_stride=2, preprocess=None, batchnorm=False, dropout=0):\n",
    "        super().__init__(*layers, size=size, kernel_size=kernel_size, stride=stride, padding=padding, pool_size=pool_size, \n",
    "                         pool_stride=pool_stride, preprocess=preprocess, batchnorm=batchnorm, dropout=dropout,\n",
    "                         num_classes=1, final_activation=self.final_activation)\n",
    "        self.sigmoid = nn.Sigmoid()\n",
    "        \n",
    "    def final_activation(self, y):\n",
    "        return self.sigmoid(y).view(-1)\n",
    "    \n",
    "    def post_forward(self, y):\n",
    "        return torch.round(y) \n",
    "\n",
    "class ConvNet_MNist(ConvNet):\n",
    "    def __init__(self, *layers, size=28, kernel_size=3, stride=1, padding=None, pool_size=2, pool_stride=2, preprocess=None, batchnorm=False, dropout=0):\n",
    "        super().__init__(*layers, size=size, kernel_size=kernel_size, stride=stride, padding=padding, pool_size=pool_size, \n",
    "                         pool_stride=pool_stride, preprocess=preprocess, batchnorm=batchnorm, dropout=dropout,\n",
    "                         num_classes=10)\n",
    "\n",
    "\n"
   ]
  },
  {
   "cell_type": "code",
   "execution_count": null,
   "metadata": {},
   "outputs": [],
   "source": []
  }
 ],
 "metadata": {
  "kernelspec": {
   "display_name": "Python 3",
   "language": "python",
   "name": "python3"
  },
  "language_info": {
   "codemirror_mode": {
    "name": "ipython",
    "version": 3
   },
   "file_extension": ".py",
   "mimetype": "text/x-python",
   "name": "python",
   "nbconvert_exporter": "python",
   "pygments_lexer": "ipython3",
   "version": "3.7.3"
  }
 },
 "nbformat": 4,
 "nbformat_minor": 4
}
